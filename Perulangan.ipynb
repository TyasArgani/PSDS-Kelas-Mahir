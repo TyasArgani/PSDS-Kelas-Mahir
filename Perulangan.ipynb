{
  "nbformat": 4,
  "nbformat_minor": 0,
  "metadata": {
    "colab": {
      "name": "Perulangan.ipynb",
      "provenance": [],
      "collapsed_sections": []
    },
    "kernelspec": {
      "name": "python3",
      "display_name": "Python 3"
    },
    "language_info": {
      "name": "python"
    }
  },
  "cells": [
    {
      "cell_type": "markdown",
      "metadata": {
        "id": "nFdjdPpCDyhk"
      },
      "source": [
        "# **PERULANGAN**"
      ]
    },
    {
      "cell_type": "markdown",
      "metadata": {
        "id": "USmqd5OeEEAz"
      },
      "source": [
        "# Looping/Perulangan"
      ]
    },
    {
      "cell_type": "markdown",
      "metadata": {
        "id": "EmdqNZmsEaHp"
      },
      "source": [
        "Python menyediakan dua statement untuk melakukan proses perulangan yaitu for dan while. Diantara kedua statment ini, secara umum for lebih banyak digunakan daripada while."
      ]
    },
    {
      "cell_type": "markdown",
      "metadata": {
        "id": "Af9zCIl8EKAZ"
      },
      "source": [
        "# For Loop"
      ]
    },
    {
      "cell_type": "markdown",
      "metadata": {
        "id": "xtsApEI-FRWP"
      },
      "source": [
        "Perulangan for digunakan untuk melakukan iterasi di dalam sequence seperti list, tuple, string, dan array atau objek yang dapat diiterasi lainnya.\n",
        "\n",
        "**For Loop Syntax**\n"
      ]
    },
    {
      "cell_type": "code",
      "metadata": {
        "id": "9QkNKUc9Fjng"
      },
      "source": [
        "for val in sequenc:\n",
        "  loop body"
      ],
      "execution_count": null,
      "outputs": []
    },
    {
      "cell_type": "markdown",
      "metadata": {
        "id": "AsPizVhCFoFt"
      },
      "source": [
        "Pada proses iterasi ini, val adalah variabel yang diambil dari elemen-elemen di dalam sequnce untuk setiap iterasi.\n",
        "\n",
        "Perulangan akan berlangsung hingga elemen terakhir dari sequence. Pada bagian body dari for loop diletakkan dalam identasi.\n"
      ]
    },
    {
      "cell_type": "code",
      "metadata": {
        "colab": {
          "base_uri": "https://localhost:8080/"
        },
        "id": "jH9w4XHVHqrq",
        "outputId": "4e5a828c-c728-473e-d01d-2f90a19d40e0"
      },
      "source": [
        "#Program untukmenghitung jumlah semua angka dalam sebuah list\n",
        "\n",
        "#List angka\n",
        "list_angka=[6,5,3,8,4,2,5,4,11]\n",
        "\n",
        "#variabel untuk menyimpan hasil penjumlahan\n",
        "jumlahan=0\n",
        "\n",
        "#iterasi di dalam list\n",
        "for angka in list_angka:\n",
        "  jumlahan=jumlahan+angka\n",
        "\n",
        "print(\"Jumlah: \",jumlahan)"
      ],
      "execution_count": null,
      "outputs": [
        {
          "output_type": "stream",
          "name": "stdout",
          "text": [
            "Jumlah:  48\n"
          ]
        }
      ]
    },
    {
      "cell_type": "markdown",
      "metadata": {
        "id": "DBZJ5TszIGNM"
      },
      "source": [
        "**The range() function**\n",
        "\n",
        "Kita dapat membuat sebuah sequence angka menggunakan fungsi range(). range(10) akan mengahasilkan sequence angka dari 0 sampai 9 (10 angka)\n",
        "\n",
        "Kita juga dapat mendefinisikan nilai awal, nilai akhir dan step sizenya yaitu range (start, stp, step_size). Secara default step_size bernilai 1 jika tidak ditentukan secara khusus.\n",
        "\n",
        "Kita dapat menggunakan fungsi range() di dalam perulangan for untuk melakukan iterasi di dalam sequence numbers. Ini dapat kita kombinasikan dengan fungi len() untuk melakukan iterasi melalui index dari sebuah sequence. Berikut contohnya:"
      ]
    },
    {
      "cell_type": "code",
      "metadata": {
        "colab": {
          "base_uri": "https://localhost:8080/"
        },
        "id": "MNLPcdwtIyT1",
        "outputId": "63dd7814-8950-4c69-88b9-a20c2dfeb5ec"
      },
      "source": [
        "#Program untuk melakukan iterasi di dalam list melalui indeks\n",
        "\n",
        "musik=['dangdut','campursari','keroncong']\n",
        "\n",
        "#iterasi di dalam list melalui indeks\n",
        "for i in range(len(musik)):\n",
        "  print(\"Aku suka\", musik[i])"
      ],
      "execution_count": null,
      "outputs": [
        {
          "output_type": "stream",
          "name": "stdout",
          "text": [
            "Aku suka dangdut\n",
            "Aku suka campursari\n",
            "Aku suka keroncong\n"
          ]
        }
      ]
    },
    {
      "cell_type": "markdown",
      "metadata": {
        "id": "r9iDq2y3JIDH"
      },
      "source": [
        "**for loop with else**\n",
        "\n",
        "Sebuah for loop dapat memiliki opsi blok else. Blok else akan dijalankan jika iterasi telah selesai dilakukan dalam sebuah sequence.\n",
        "\n",
        "Keyword break digunakan untuk menghentikan iterasi. Dalam kasus itu maka bagian else diabaikan.\n",
        "\n",
        "Sehingga, bagian iterasi else hanya dijalankan jika tidak terjadi break.\n",
        "\n",
        "Berikut adalah beberapa contoh sebagai ilustrasi:"
      ]
    },
    {
      "cell_type": "code",
      "metadata": {
        "colab": {
          "base_uri": "https://localhost:8080/"
        },
        "id": "HIB7YPBCJhqK",
        "outputId": "bb739cb1-b761-46ef-eea5-76b6c99ca12b"
      },
      "source": [
        "digits=[0,1,5]\n",
        "for i in digits:\n",
        "  print(i)\n",
        "else:\n",
        "  print(\"Tidak ada elemen yang tersisa.\")"
      ],
      "execution_count": null,
      "outputs": [
        {
          "output_type": "stream",
          "name": "stdout",
          "text": [
            "0\n",
            "1\n",
            "5\n",
            "Tidak ada elemen yang tersisa.\n"
          ]
        }
      ]
    },
    {
      "cell_type": "markdown",
      "metadata": {
        "id": "_wAfJhUQKSGC"
      },
      "source": [
        "Ketika iterasi berjalan maka akan dilakukan print item hingga iterasi selesai. Ketika iterasi pada sequence selesai baru perintah pada blok else dijalankan yaitu print Tidak ada elemen yang tersisa.\n",
        "\n",
        "Statement for ... else dapat digunakan bersama dengan keyword break untuk menjalankan blok else hanya ketika break tidak dieksekusi. Lihat contoh berikut:"
      ]
    },
    {
      "cell_type": "code",
      "metadata": {
        "colab": {
          "base_uri": "https://localhost:8080/"
        },
        "id": "KReONMj4LGoY",
        "outputId": "3923da67-9ec9-42d0-836e-1aeadb231571"
      },
      "source": [
        "#Program untuk menampilkan nilai tugas siswa.\n",
        "nama_siswa='Butet'\n",
        "\n",
        "daftar_nilai={'Bambang':90,'Andri':55,'Candra':77}\n",
        "\n",
        "for siswa in daftar_nilai:\n",
        "  if siswa==nama_siswa:\n",
        "    print(daftar_nilai[siswa])\n",
        "    break\n",
        "else:\n",
        "  print('Tidak ada data nilai atas nama', nama_siswa, '!')"
      ],
      "execution_count": null,
      "outputs": [
        {
          "output_type": "stream",
          "name": "stdout",
          "text": [
            "Tidak ada data nilai atas nama Butet !\n"
          ]
        }
      ]
    },
    {
      "cell_type": "markdown",
      "metadata": {
        "id": "rDlxlzLYEQLn"
      },
      "source": [
        "# While Loop"
      ]
    },
    {
      "cell_type": "markdown",
      "metadata": {
        "id": "aUWYaoIjL5SD"
      },
      "source": [
        "While loop pada Python digunakan untuk melakukan iterasi pada blok kode selama nilai dari test expression adalah true.\n",
        "\n",
        "Looping ini biasanya digunakan ketika kita tidak tau berapa kali iterasi akan dilakukan hingga sebuah kondisi yang diinginkan dapat dicapai.\n",
        "\n",
        "**Syntax of while Loop in Python**"
      ]
    },
    {
      "cell_type": "code",
      "metadata": {
        "id": "tta0p5XwMQod"
      },
      "source": [
        "while test_expression:\n",
        "  Body of while"
      ],
      "execution_count": null,
      "outputs": []
    },
    {
      "cell_type": "markdown",
      "metadata": {
        "id": "nOXtiAnlMVNU"
      },
      "source": [
        "Pada loop while, test expression justru dicheck pertama kali. Kemudian statement-statment di dalam bosy of while akana dieksekusi jika nilai dari test expression adalah true. Setelah satu iterasi dijalankan, test expression dicek kembali. Proses ini terus belanjut hingga nilai evaluasi dari test expression adalah False.\n",
        "\n",
        "Pada Python, bagian body pada loop while dituliskan menggunakan identasi.\n",
        "\n",
        "Sebagai catatan tambahan bahwa Python menginterpretasikan non-zero values sebagai True. None dan 0 diinterpretasikan sebagai False."
      ]
    },
    {
      "cell_type": "code",
      "metadata": {
        "colab": {
          "base_uri": "https://localhost:8080/"
        },
        "id": "fnKrFOxpNIny",
        "outputId": "577e0aea-870d-445c-f8bc-f56aa9f993ab"
      },
      "source": [
        "#Program untuk menjumlahkan semua\n",
        "#bilangan asli hingga suku ke-n\n",
        "#jumlahan=1+2+3+...+n\n",
        "\n",
        "n=10\n",
        "\n",
        "#nilai awal penjumlahan dan iterasi\n",
        "jumlahan=0\n",
        "i=1\n",
        "\n",
        "while i<=n:\n",
        "  jumlahan=jumlahan+i\n",
        "  i=i+1 #update iterasi\n",
        "\n",
        "#cetak hasil penjumlahan\n",
        "print(\"jumlahan= \",jumlahan)"
      ],
      "execution_count": null,
      "outputs": [
        {
          "output_type": "stream",
          "name": "stdout",
          "text": [
            "jumlahan=  55\n"
          ]
        }
      ]
    },
    {
      "cell_type": "markdown",
      "metadata": {
        "id": "ryRHN6k6N9-N"
      },
      "source": [
        "Pada program di atas, test expression akan bernilai True selama nilai iterasi i kurang dari atau sama dengan n.\n",
        "\n",
        "Kita perlu mengupdate nilai dari variabel pencatat iterasi i agar iterai tidak berlangsung secara terus menerus (infinity loop).\n",
        "\n",
        "**While loop with else**\n",
        "\n",
        "Sama dengan for loop kita juga dapat mengkombinasikan while loop dengan blok else.\n",
        "\n",
        "Bagian else akan dieksekusikan jika nilai pada test expression pada while loop bernilai false. \n",
        "Perhatikan contoh berikut:"
      ]
    },
    {
      "cell_type": "code",
      "metadata": {
        "colab": {
          "base_uri": "https://localhost:8080/"
        },
        "id": "ZQ1rBPU0Olca",
        "outputId": "4a4a3ec9-49b0-4e03-b25b-6ac61046464b"
      },
      "source": [
        "counter=0\n",
        "\n",
        "while counter<3:\n",
        "  print('Di dalam loop')\n",
        "  counter=counter+1\n",
        "else:\n",
        "  print('Di dalam else')"
      ],
      "execution_count": null,
      "outputs": [
        {
          "output_type": "stream",
          "name": "stdout",
          "text": [
            "Di dalam loop\n",
            "Di dalam loop\n",
            "Di dalam loop\n",
            "Di dalam else\n"
          ]
        }
      ]
    },
    {
      "cell_type": "markdown",
      "metadata": {
        "id": "-pt9oFSmETUv"
      },
      "source": [
        "# Contoh Perulangan"
      ]
    },
    {
      "cell_type": "markdown",
      "metadata": {
        "id": "qIUeQfWfO-SA"
      },
      "source": [
        "**Contoh 1**\n",
        "\n",
        "Diberikan list_tagihan. Kamu diminta untuk menghitung jumlah seluruh tagihan!. Gunakan looping for untuk menyelesaikan tugas ini! Simpan hasilnya pada variabel total_tagihan!\n",
        "\n",
        "\n",
        "\n",
        "```\n",
        "list_tagihan=[50000,75000,-150000,125000,3000000,-50000,200000]\n",
        "```\n",
        "\n"
      ]
    },
    {
      "cell_type": "code",
      "metadata": {
        "colab": {
          "base_uri": "https://localhost:8080/"
        },
        "id": "TFFzdBlUPefy",
        "outputId": "06a538cc-a13d-4aa7-f847-d4a4f9c36d53"
      },
      "source": [
        "list_tagihan=[50000,75000,-150000,125000,300000,-50000,200000]\n",
        "total_tagihan=0\n",
        "for tagihan in list_tagihan: #untuk setiap tagihan dalam list_tagihan\n",
        "  total_tagihan += tagihan #tambahkan tagihan ke total_tagihan\n",
        "print(total_tagihan)"
      ],
      "execution_count": null,
      "outputs": [
        {
          "output_type": "stream",
          "name": "stdout",
          "text": [
            "550000\n"
          ]
        }
      ]
    },
    {
      "cell_type": "markdown",
      "metadata": {
        "id": "hYU9zGquQTRP"
      },
      "source": [
        "**Contoh 2**:\n",
        "\n",
        "Diberikan list_tagihan. kamu diminta untuk menghitung jumlah seluruh tagihan. Gunakan looping for untuk menyelesaikan tugas ini! Simpan hasilnya pada variabel total_tagihan!\n",
        "\n",
        "\n",
        "\n",
        "```\n",
        "list_tagihan=[50000,75000,-150000,125000,300000,-50000,200000]\n",
        "```\n",
        "\n",
        "Perhatikan bahwa terdapat nilai tagihan yang negatif. Hentikan perhitungan total_tagihan jika menemukan nilai negatif!"
      ]
    },
    {
      "cell_type": "code",
      "metadata": {
        "colab": {
          "base_uri": "https://localhost:8080/"
        },
        "id": "Qwnd7WcAWxDK",
        "outputId": "862228ed-15a1-44f2-8d85-d96432719867"
      },
      "source": [
        "list_tagihan=[50000,75000,-150000,125000,300000,-50000,200000]\n",
        "total_tagihan=0\n",
        "for tagihan in list_tagihan:\n",
        "  if tagihan<0:\n",
        "    print(\"terdapat angka minus dalam tagihan, perhitungan dihentikan!\")\n",
        "    break\n",
        "  total_tagihan += tagihan\n",
        "print(total_tagihan)"
      ],
      "execution_count": null,
      "outputs": [
        {
          "output_type": "stream",
          "name": "stdout",
          "text": [
            "terdapat angka minus dalam tagihan, perhitungan dihentikan!\n",
            "125000\n"
          ]
        }
      ]
    },
    {
      "cell_type": "markdown",
      "metadata": {
        "id": "CCDutz2kXKKN"
      },
      "source": [
        "**Contoh 3**:\n",
        "\n",
        "Diberikan list_cash_flow kamu diminta untuk melakukan perhitungan total_pemasukan dan total_pengeluaran menggunakan looping for. Untuk nilai positif berarti adalah pemasukkan dan nilai negatif berarti pengeluaran.\n",
        "\n",
        "`list_cash_flow=[2500000,5000000,-1000000,-2500000,5000000,10000000,-5000000,7500000,10000000,-1500000,25000000,-2500000]`"
      ]
    },
    {
      "cell_type": "code",
      "metadata": {
        "colab": {
          "base_uri": "https://localhost:8080/"
        },
        "id": "34NNRi4-X7CI",
        "outputId": "6c561de0-542e-4446-a7ea-ddf3f475e1ec"
      },
      "source": [
        "list_cash_flow=[2500000,5000000,-1000000,-2500000,5000000,10000000,-5000000,7500000,10000000,\n",
        "                -1500000,25000000,-2500000]\n",
        "total_pengeluaran,total_pemasukkan=0,0\n",
        "for dana in list_cash_flow:\n",
        "  if dana>0:\n",
        "    total_pemasukkan += dana\n",
        "  else:\n",
        "    total_pengeluaran += dana\n",
        "total_pengeluaran *= -1\n",
        "print(total_pengeluaran)\n",
        "print(total_pemasukkan)"
      ],
      "execution_count": null,
      "outputs": [
        {
          "output_type": "stream",
          "name": "stdout",
          "text": [
            "12500000\n",
            "65000000\n"
          ]
        }
      ]
    },
    {
      "cell_type": "markdown",
      "metadata": {
        "id": "Zb2WrPNSEW2A"
      },
      "source": [
        "# Latihan"
      ]
    },
    {
      "cell_type": "markdown",
      "metadata": {
        "id": "0amGqMksaSrW"
      },
      "source": [
        "1. Buatlah fungsi untuk menghitung diskon suatu pembayaran belanjaan dengan input berupa dictionary untuk daftar harga dan dictionary untuk daftar belanjaan!"
      ]
    },
    {
      "cell_type": "code",
      "metadata": {
        "colab": {
          "base_uri": "https://localhost:8080/"
        },
        "id": "EcTycL3Tamsm",
        "outputId": "3327b8ed-27d4-4c5c-9078-8d5c8679c85c"
      },
      "source": [
        "daftar_harga={'telur/kg':20000,'gula_pasir/kg':16000,'teh/bks':4000}\n",
        "daftar_belanjaan={'telur':2,'gula_pasir':5}\n",
        "\n",
        "def pembayaran(x,y):\n",
        "  total=0\n",
        "  for k in y:\n",
        "    if k==\"telur\":\n",
        "      total=total+(x[\"telur/kg\"]*y[k])\n",
        "    elif k==\"gula_pasir\":\n",
        "      total=total+(x[\"gula_pasir/kg\"]*y[k])\n",
        "    elif k==\"teh\":\n",
        "      total=total+(x[\"teh/bks\"]*y[k])\n",
        "    else:\n",
        "      total=total\n",
        "  return total\n",
        "\n",
        "jumlah_bayar=pembayaran(daftar_harga, daftar_belanjaan)\n",
        "print(jumlah_bayar)"
      ],
      "execution_count": null,
      "outputs": [
        {
          "output_type": "stream",
          "name": "stdout",
          "text": [
            "120000\n"
          ]
        }
      ]
    }
  ]
}