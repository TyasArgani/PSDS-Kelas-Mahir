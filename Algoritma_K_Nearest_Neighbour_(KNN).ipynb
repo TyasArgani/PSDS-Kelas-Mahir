{
  "nbformat": 4,
  "nbformat_minor": 0,
  "metadata": {
    "colab": {
      "name": "Algoritma_K-Nearest_Neighbour_(KNN).ipynb",
      "provenance": []
    },
    "kernelspec": {
      "name": "python3",
      "display_name": "Python 3"
    },
    "language_info": {
      "name": "python"
    }
  },
  "cells": [
    {
      "cell_type": "markdown",
      "metadata": {
        "id": "lA4JpJnTAqBP"
      },
      "source": [
        "# **Algoritma K-Nearest Neighbour (KNN)**"
      ]
    },
    {
      "cell_type": "markdown",
      "metadata": {
        "id": "Y7AuvZ6eAyrs"
      },
      "source": [
        "Algoritma K-Nearest Neighbours adalah algoritma Machine Learning yang melakukan klasifikasi sebuah data didasarkan pada sifat-sifat data didekatnya. Sebuah ungkapan yang bisa membantu dengan mudah memahami ide dasar dari algoritma ini adalah: \"Jika kamu ingin mengetahui sifat seseorang, lihatlah sifat-sifat orang terdekatnya. Sifatnya tidak akan jauh berbeda dari mereka\"."
      ]
    },
    {
      "cell_type": "markdown",
      "metadata": {
        "id": "GBeAXKCbBwHY"
      },
      "source": [
        "Data baru yang dilambangkan dengan simbol segitiga biru dapat diklasifikasikan sebagai kelompok kotak hijau atau bintang merah jambu. Jika dilihat berdasarkan kriteria jumlah k=1 maka data segitiga biru diklasifikasikan ke dalam kelompok kotak hijau. Sedangkan jika dilihat berdasarkan kriteria jumlah k=3 maka data tersebut diklasifikasikan sebagai kelompok bintang merah jambu. Hal yang sama juga dapat diterapkan untuk k=9. Sebenarnya kita telah melakukan klasifikasi berdasarkan jarak. Kedekatan yang dimaksud ketika k=1, k=3, dan k=9, kita selalu mengukur kedekatan antara data baru (segitiga biru) dengan data-data berlabel kelompok sebelumnya. Berdasarkan ide dasar di atas, maka diturunkanlah dalam sebuah algoritma untuk menentukan kelompok data dari sebuah inputan data baru (segitiga biru)."
      ]
    },
    {
      "cell_type": "markdown",
      "metadata": {
        "id": "havgp-xFBEZE"
      },
      "source": [
        "# **Algoritma KNN**"
      ]
    },
    {
      "cell_type": "markdown",
      "metadata": {
        "id": "PJRkFW_YDL8n"
      },
      "source": [
        "1. Menentukan parameter k (jumlah tetangga paling dekat)\n",
        "2. Menghitung jarak eucliden objek terhadap data training yang diberikan.\n",
        "3. Mengurutkan hasil no 2 secara ascending (berurutan dari nilai tinggi ke rendah)\n",
        "4. Mengumpulkan kategori data (Klasifikasi nearest neighbor berdasarkan nilai k)\n",
        "5. Dengan menggunakan kategori nearest neighbor yang paling mayoritas maka dapat dipredisikan kategori objek."
      ]
    },
    {
      "cell_type": "markdown",
      "metadata": {
        "id": "VBkIA7q_Dz--"
      },
      "source": [
        "# **Contoh Perhitungan K-Nearest Neighbor**"
      ]
    },
    {
      "cell_type": "markdown",
      "metadata": {
        "id": "Ht5Ys_w4D6p6"
      },
      "source": [
        "Diketahui data $x_1$ dan $x_2$ adalah sebagai berikut:\n",
        "\n",
        "$$ \\begin{matrix} x_1&x_2&Kelas\\\\ 1&1&0\\\\ 2&2&0\\\\ 3&2&0\\\\ 12&11&1\\\\ 11&13&1\\\\ 14&15&1\\\\\n",
        "\\end{matrix} $$\n",
        "\n",
        "Kita diminta menentukan kelas dari data bary aitu (9,10) dengan parameter k=3"
      ]
    },
    {
      "cell_type": "markdown",
      "metadata": {
        "id": "R_qIfeI2FD0S"
      },
      "source": [
        "**langkah 1**\n",
        "\n",
        "Menentukan parameter k (jumlah tetangga paling dekat)\n",
        "\n",
        "k=3\n",
        "\n",
        "**Langkah 2**\n",
        "\n",
        "Menghitung jarak eucliden objek terhadap data training yang diberikan.\n",
        "\n",
        "Formula jarak Euclidean:\n",
        "\n",
        "$$ d_ij=\\sqrt{(x1_i-x1_j)^2+(x2_i-x2_j)^2} \\ untuk \\ i,j=1,2,3,...n$$\n",
        "\n",
        "\\\\\n",
        "\n",
        "$$ \\begin{matrix}\n",
        "x_1&x_2&Jarak \\ Euclidean \\ dg \\ (9,10)\\\\\n",
        "1&1&\\sqrt{(9-1)^2+(10-1)^2}=12.04\\\\\n",
        "2&2&\\sqrt{(9-2)^2+(10-2)^2}=10.63\\\\ \n",
        "3&2&\\sqrt{(9-3)^2+(10-2)^2}=10\\\\ \n",
        "12&11&\\sqrt{(9-12)^2+(10-11)^2}=3.16\\\\ \n",
        "11&13&\\sqrt{(9-11)^2+(10-13)^2}=3.60\\\\ \n",
        "14&15&\\sqrt{(9-14)^2+(10-15)^2}=7.07\\\\\n",
        "\\end{matrix}$$\n",
        "\n",
        "**Langkah 3**\n",
        "\n",
        "Mengurutkan hasil langkah 2 secara ascending (berurutan dari nilai tinggi ke rendah)\n",
        "\n",
        "$$ \\begin{matrix}\n",
        "x_1&x_2&Jarak \\ Euclidean \\ dg \\ (9,10)&Urutan \\ (Jarak \\ terpendek)\\\\\n",
        "1&1&\\sqrt{(9-1)^2+(10-1)^2}=12.04&6\\\\\n",
        "2&2&\\sqrt{(9-2)^2+(10-2)^2}=10.63&5\\\\ \n",
        "3&2&\\sqrt{(9-3)^2+(10-2)^2}=10&4\\\\ \n",
        "12&11&\\sqrt{(9-12)^2+(10-11)^2}=3.16&1\\\\ \n",
        "11&13&\\sqrt{(9-11)^2+(10-13)^2}=3.60&2\\\\ \n",
        "14&15&\\sqrt{(9-14)^2+(10-15)^2}=7.07&3\\\\\n",
        "\\end{matrix}$$\n",
        "\n",
        "**Langkah 4**\n",
        "\n",
        "Mengumpulkan kategori data (Klasifikasi nearest nighbor berdasarkan nilai k)\n",
        "\n",
        "Kelas data 3 data terdekat (k=3)\n",
        "\n",
        "(12,11)=1, (11,13)=1, (14,15)=1\n",
        "\n",
        "**Langkah 5**: Dengan menggunakan nearest neighbor yang paling mayoritas maka dapat dipredisikan kategori objek.\n",
        "\n",
        "Kelas data untuk k=3\n",
        "\n",
        "'0'=0, '1'=3\n",
        "\n",
        "Maka disimpulkan bahwa data (9,10) diklasifikasikan ke kelas '1'"
      ]
    },
    {
      "cell_type": "markdown",
      "metadata": {
        "id": "MAYZgn-hIhzr"
      },
      "source": [
        "# **KNN Python From Scratch**"
      ]
    },
    {
      "cell_type": "markdown",
      "metadata": {
        "id": "ycF7551_MXxk"
      },
      "source": [
        "**Membangun Model KNN**\n",
        "\n",
        "Pertama, import library python yang dibutuhkan yaitu:\n",
        "\n",
        "* Numpy\n",
        "* Pandas\n",
        "* Matplotlib\n",
        "\n"
      ]
    },
    {
      "cell_type": "code",
      "metadata": {
        "id": "kVZPmSz2_iW8"
      },
      "source": [
        "import numpy as np\n",
        "import pandas as pd\n",
        "import matplotlib.pyplot as plt\n",
        "%matplotlib inline"
      ],
      "execution_count": 6,
      "outputs": []
    },
    {
      "cell_type": "markdown",
      "metadata": {
        "id": "0tJmlpCsM16E"
      },
      "source": [
        "Untuk memahami konsep, kita akan menggunakan data X dan Y seperti yang kita tunjukkan pada proses perhitungan manual."
      ]
    },
    {
      "cell_type": "code",
      "metadata": {
        "id": "WAdJ0Vw1M_Sl"
      },
      "source": [
        "X=np.array([[1,1],[2,2],[3,2],[12,11],[11,13],[14,15]])\n",
        "y=np.array([0,0,0,1,1,1])\n",
        "x_baru=np.array([9,10])"
      ],
      "execution_count": 7,
      "outputs": []
    },
    {
      "cell_type": "code",
      "metadata": {
        "colab": {
          "base_uri": "https://localhost:8080/"
        },
        "id": "zJy1FYddNTKC",
        "outputId": "16468520-6933-4cd2-ceb0-3ba600c8d4c2"
      },
      "source": [
        "X"
      ],
      "execution_count": 8,
      "outputs": [
        {
          "output_type": "execute_result",
          "data": {
            "text/plain": [
              "array([[ 1,  1],\n",
              "       [ 2,  2],\n",
              "       [ 3,  2],\n",
              "       [12, 11],\n",
              "       [11, 13],\n",
              "       [14, 15]])"
            ]
          },
          "metadata": {},
          "execution_count": 8
        }
      ]
    },
    {
      "cell_type": "code",
      "metadata": {
        "colab": {
          "base_uri": "https://localhost:8080/"
        },
        "id": "8jdy2ZI9NWF9",
        "outputId": "30dc791e-aa67-4b27-8f43-d54522dec0f7"
      },
      "source": [
        "y"
      ],
      "execution_count": 9,
      "outputs": [
        {
          "output_type": "execute_result",
          "data": {
            "text/plain": [
              "array([0, 0, 0, 1, 1, 1])"
            ]
          },
          "metadata": {},
          "execution_count": 9
        }
      ]
    },
    {
      "cell_type": "code",
      "metadata": {
        "colab": {
          "base_uri": "https://localhost:8080/"
        },
        "id": "0ZtX3e9rNX_9",
        "outputId": "3c96a5ca-9aff-46d4-fc9a-704618322201"
      },
      "source": [
        "x_baru"
      ],
      "execution_count": 10,
      "outputs": [
        {
          "output_type": "execute_result",
          "data": {
            "text/plain": [
              "array([ 9, 10])"
            ]
          },
          "metadata": {},
          "execution_count": 10
        }
      ]
    },
    {
      "cell_type": "markdown",
      "metadata": {
        "id": "66UkIoi7NccN"
      },
      "source": [
        "**Langkah 1**\n",
        "\n",
        "Menentukan parameter k (jumlah tetangga paling dekat)"
      ]
    },
    {
      "cell_type": "code",
      "metadata": {
        "id": "5siaevhJNjPT"
      },
      "source": [
        "k=3"
      ],
      "execution_count": 11,
      "outputs": []
    },
    {
      "cell_type": "markdown",
      "metadata": {
        "id": "CklHdJs0NmjW"
      },
      "source": [
        "**Langkah 2**\n",
        "\n",
        "Menghitung kuadrat jarak eucliden objek terhadap data training yang diberikan."
      ]
    },
    {
      "cell_type": "code",
      "metadata": {
        "id": "xmaL5YnQNyZB"
      },
      "source": [
        "def jarak_euclidean(x,y):\n",
        "  return np.sqrt(sum(pow(a-b,2) for a, b in zip(x,y)))"
      ],
      "execution_count": 12,
      "outputs": []
    },
    {
      "cell_type": "code",
      "metadata": {
        "colab": {
          "base_uri": "https://localhost:8080/"
        },
        "id": "iT0u0HqONl5P",
        "outputId": "ac97ff69-195f-4254-eebf-3134ff5bbd36"
      },
      "source": [
        "jarak=[]\n",
        "for x_i in X:\n",
        "  jarak_euclid=jarak_euclidean(x_i,x_baru)\n",
        "  jarak.append(jarak_euclid)\n",
        "  print(jarak)\n",
        "print(jarak)"
      ],
      "execution_count": 13,
      "outputs": [
        {
          "output_type": "stream",
          "name": "stdout",
          "text": [
            "[12.041594578792296]\n",
            "[12.041594578792296, 10.63014581273465]\n",
            "[12.041594578792296, 10.63014581273465, 10.0]\n",
            "[12.041594578792296, 10.63014581273465, 10.0, 3.1622776601683795]\n",
            "[12.041594578792296, 10.63014581273465, 10.0, 3.1622776601683795, 3.605551275463989]\n",
            "[12.041594578792296, 10.63014581273465, 10.0, 3.1622776601683795, 3.605551275463989, 7.0710678118654755]\n",
            "[12.041594578792296, 10.63014581273465, 10.0, 3.1622776601683795, 3.605551275463989, 7.0710678118654755]\n"
          ]
        }
      ]
    },
    {
      "cell_type": "markdown",
      "metadata": {
        "id": "Jihq7j6NOUsv"
      },
      "source": [
        "**Langkah 3**\n",
        "\n",
        "Mengurutkan hasil langkah 2 secara ascending (berurutan dari nilai tinggi ke rendah)"
      ]
    },
    {
      "cell_type": "code",
      "metadata": {
        "colab": {
          "base_uri": "https://localhost:8080/"
        },
        "id": "_xZ-Izj4Oe9-",
        "outputId": "6d3c49b5-1a5b-4085-f70d-639a541105e9"
      },
      "source": [
        "urut=np.sort(jarak)\n",
        "list_urut=[]\n",
        "for i in range(len(urut)):\n",
        "  list_urut.append(urut[i])\n",
        "print(list_urut)"
      ],
      "execution_count": 14,
      "outputs": [
        {
          "output_type": "stream",
          "name": "stdout",
          "text": [
            "[3.1622776601683795, 3.605551275463989, 7.0710678118654755, 10.0, 10.63014581273465, 12.041594578792296]\n"
          ]
        }
      ]
    },
    {
      "cell_type": "code",
      "metadata": {
        "colab": {
          "base_uri": "https://localhost:8080/"
        },
        "id": "m9_fSPryOxlv",
        "outputId": "18173df9-73bf-428d-b1f0-24e08af307ff"
      },
      "source": [
        "urutan=[]\n",
        "for i in list_urut:\n",
        "  urtn=jarak.index(i)\n",
        "  urutan.append(urtn)\n",
        "print(urutan)"
      ],
      "execution_count": 15,
      "outputs": [
        {
          "output_type": "stream",
          "name": "stdout",
          "text": [
            "[3, 4, 5, 2, 1, 0]\n"
          ]
        }
      ]
    },
    {
      "cell_type": "markdown",
      "metadata": {
        "id": "N53CKK5xO90b"
      },
      "source": [
        "atau dengan sederhana dapat menggunakan np.argsort seperti berikut:"
      ]
    },
    {
      "cell_type": "code",
      "metadata": {
        "colab": {
          "base_uri": "https://localhost:8080/"
        },
        "id": "AzuNN13GPEsZ",
        "outputId": "f900b28e-f90e-433c-df93-852d102bd7b5"
      },
      "source": [
        "np.argsort(jarak)"
      ],
      "execution_count": 16,
      "outputs": [
        {
          "output_type": "execute_result",
          "data": {
            "text/plain": [
              "array([3, 4, 5, 2, 1, 0])"
            ]
          },
          "metadata": {},
          "execution_count": 16
        }
      ]
    },
    {
      "cell_type": "markdown",
      "metadata": {
        "id": "oIH4uXC3PLgF"
      },
      "source": [
        "**Langkah 4**\n",
        "\n",
        "Mengumpulkan kategori data (Klasifikasi nearest neighbor berdasarkan nilai k)\n",
        "\n",
        "Kelas data 3 data trdekat (k=3)"
      ]
    },
    {
      "cell_type": "code",
      "metadata": {
        "colab": {
          "base_uri": "https://localhost:8080/"
        },
        "id": "5bJS2QNSPXW8",
        "outputId": "252da3d0-16f7-4261-ff47-8b1d263fc5db"
      },
      "source": [
        "ambil=urutan[:k]\n",
        "print(y[ambil])"
      ],
      "execution_count": 17,
      "outputs": [
        {
          "output_type": "stream",
          "name": "stdout",
          "text": [
            "[1 1 1]\n"
          ]
        }
      ]
    },
    {
      "cell_type": "markdown",
      "metadata": {
        "id": "8LoK1EWePdOi"
      },
      "source": [
        "**Langkah 5**\n",
        "\n",
        "Dengan menggunakan kategori nearest neighbor yang paling mayoritas maka dapat dipredisikan kategori objek."
      ]
    },
    {
      "cell_type": "code",
      "metadata": {
        "colab": {
          "base_uri": "https://localhost:8080/"
        },
        "id": "7dgUlx_7PqOs",
        "outputId": "00566e1d-75c2-4e50-b365-1352f444eb65"
      },
      "source": [
        "from collections import Counter\n",
        "kelas_paling_banyak=Counter(y[ambil]).most_common(1)\n",
        "kelas_paling_banyak"
      ],
      "execution_count": 18,
      "outputs": [
        {
          "output_type": "execute_result",
          "data": {
            "text/plain": [
              "[(1, 3)]"
            ]
          },
          "metadata": {},
          "execution_count": 18
        }
      ]
    },
    {
      "cell_type": "code",
      "metadata": {
        "colab": {
          "base_uri": "https://localhost:8080/"
        },
        "id": "bO2CFM4iP2Wn",
        "outputId": "59ba5ab1-0b5f-44bd-c35b-d9842d19e4fe"
      },
      "source": [
        "kelas_paling_banyak[0][0]"
      ],
      "execution_count": 19,
      "outputs": [
        {
          "output_type": "execute_result",
          "data": {
            "text/plain": [
              "1"
            ]
          },
          "metadata": {},
          "execution_count": 19
        }
      ]
    },
    {
      "cell_type": "code",
      "metadata": {
        "colab": {
          "base_uri": "https://localhost:8080/",
          "height": 280
        },
        "id": "2kH77Yw0P5-7",
        "outputId": "0b5bcf49-d03b-46a3-9996-b268a8db40b1"
      },
      "source": [
        "#Plot Data\n",
        "df=pd.DataFrame(X,columns=['x1','x2'])\n",
        "colormap=np.array(['g','b'])\n",
        "label=['A','A','A','B','B','B']\n",
        "\n",
        "#Plot Titik Data\n",
        "plt.scatter(df['x1'],df['x2'], color=colormap[y])\n",
        "\n",
        "plt.scatter(x_baru[0], x_baru[1], color='r', label='Data Baru')\n",
        "\n",
        "#Label sumbu x\n",
        "plt.xlabel('x_1')\n",
        "\n",
        "#Label sumbu y\n",
        "plt.ylabel('x_2')\n",
        "\n",
        "#Menampilkan Legenda\n",
        "plt.legend()\n",
        "\n",
        "#Menampilkan Gambar Hasil Plot\n",
        "plt.show()"
      ],
      "execution_count": 20,
      "outputs": [
        {
          "output_type": "display_data",
          "data": {
            "image/png": "[encoded data removed]",
            "text/plain": [
              "<Figure size 432x288 with 1 Axes>"
            ]
          },
          "metadata": {
            "needs_background": "light"
          }
        }
      ]
    },
    {
      "cell_type": "markdown",
      "metadata": {
        "id": "jbxBMnIvQ0QW"
      },
      "source": [
        "Maka disimpulkan bahwa data (9,10) diklasifikasikan ke kelas '1'."
      ]
    },
    {
      "cell_type": "markdown",
      "metadata": {
        "id": "QW8G6bwGQ-4c"
      },
      "source": [
        "# **Implementasi Model KNN Pada Data Real**"
      ]
    },
    {
      "cell_type": "markdown",
      "metadata": {
        "id": "7PLz-fNkRDvY"
      },
      "source": [
        "Kita akan menggunakan dataset Wine yang tersedia di sklearn dataset."
      ]
    },
    {
      "cell_type": "code",
      "metadata": {
        "id": "s_MdeenEiqIW",
        "colab": {
          "base_uri": "https://localhost:8080/"
        },
        "outputId": "dd566c0f-b8fb-423e-b1fb-0ae31cef1b71"
      },
      "source": [
        "from matplotlib.colors import ListedColormap\n",
        "from sklearn import datasets\n",
        "from sklearn.model_selection import train_test_split\n",
        "\n",
        "wine=datasets.load_wine()\n",
        "wine"
      ],
      "execution_count": 21,
      "outputs": [
        {
          "output_type": "execute_result",
          "data": {
            "text/plain": [
              "{'DESCR': '.. _wine_dataset:\\n\\nWine recognition dataset\\n------------------------\\n\\n**Data Set Characteristics:**\\n\\n    :Number of Instances: 178 (50 in each of three classes)\\n    :Number of Attributes: 13 numeric, predictive attributes and the class\\n    :Attribute Information:\\n \\t\\t- Alcohol\\n \\t\\t- Malic acid\\n \\t\\t- Ash\\n\\t\\t- Alcalinity of ash  \\n \\t\\t- Magnesium\\n\\t\\t- Total phenols\\n \\t\\t- Flavanoids\\n \\t\\t- Nonflavanoid phenols\\n \\t\\t- Proanthocyanins\\n\\t\\t- Color intensity\\n \\t\\t- Hue\\n \\t\\t- OD280/OD315 of diluted wines\\n \\t\\t- Proline\\n\\n    - class:\\n            - class_0\\n            - class_1\\n            - class_2\\n\\t\\t\\n    :Summary Statistics:\\n    \\n    ============================= ==== ===== ======= =====\\n                                   Min   Max   Mean     SD\\n    ============================= ==== ===== ======= =====\\n    Alcohol:                      11.0  14.8    13.0   0.8\\n    Malic Acid:                   0.74  5.80    2.34  1.12\\n    Ash:                          1.36  3.23    2.36  0.27\\n    Alcalinity of Ash:            10.6  30.0    19.5   3.3\\n    Magnesium:                    70.0 162.0    99.7  14.3\\n    Total Phenols:                0.98  3.88    2.29  0.63\\n    Flavanoids:                   0.34  5.08    2.03  1.00\\n    Nonflavanoid Phenols:         0.13  0.66    0.36  0.12\\n    Proanthocyanins:              0.41  3.58    1.59  0.57\\n    Colour Intensity:              1.3  13.0     5.1   2.3\\n    Hue:                          0.48  1.71    0.96  0.23\\n    OD280/OD315 of diluted wines: 1.27  4.00    2.61  0.71\\n    Proline:                       278  1680     746   315\\n    ============================= ==== ===== ======= =====\\n\\n    :Missing Attribute Values: None\\n    :Class Distribution: class_0 (59), class_1 (71), class_2 (48)\\n    :Creator: R.A. Fisher\\n    :Donor: Michael Marshall (MARSHALL%PLU@io.arc.nasa.gov)\\n    :Date: July, 1988\\n\\nThis is a copy of UCI ML Wine recognition datasets.\\nhttps://archive.ics.uci.edu/ml/machine-learning-databases/wine/wine.data\\n\\nThe data is the results of a chemical analysis of wines grown in the same\\nregion in Italy by three different cultivators. There are thirteen different\\nmeasurements taken for different constituents found in the three types of\\nwine.\\n\\nOriginal Owners: \\n\\nForina, M. et al, PARVUS - \\nAn Extendible Package for Data Exploration, Classification and Correlation. \\nInstitute of Pharmaceutical and Food Analysis and Technologies,\\nVia Brigata Salerno, 16147 Genoa, Italy.\\n\\nCitation:\\n\\nLichman, M. (2013). UCI Machine Learning Repository\\n[https://archive.ics.uci.edu/ml]. Irvine, CA: University of California,\\nSchool of Information and Computer Science. \\n\\n.. topic:: References\\n\\n  (1) S. Aeberhard, D. Coomans and O. de Vel, \\n  Comparison of Classifiers in High Dimensional Settings, \\n  Tech. Rep. no. 92-02, (1992), Dept. of Computer Science and Dept. of  \\n  Mathematics and Statistics, James Cook University of North Queensland. \\n  (Also submitted to Technometrics). \\n\\n  The data was used with many others for comparing various \\n  classifiers. The classes are separable, though only RDA \\n  has achieved 100% correct classification. \\n  (RDA : 100%, QDA 99.4%, LDA 98.9%, 1NN 96.1% (z-transformed data)) \\n  (All results using the leave-one-out technique) \\n\\n  (2) S. Aeberhard, D. Coomans and O. de Vel, \\n  \"THE CLASSIFICATION PERFORMANCE OF RDA\" \\n  Tech. Rep. no. 92-01, (1992), Dept. of Computer Science and Dept. of \\n  Mathematics and Statistics, James Cook University of North Queensland. \\n  (Also submitted to Journal of Chemometrics).\\n',\n",
              " 'data': array([[1.423e+01, 1.710e+00, 2.430e+00, ..., 1.040e+00, 3.920e+00,\n",
              "         1.065e+03],\n",
              "        [1.320e+01, 1.780e+00, 2.140e+00, ..., 1.050e+00, 3.400e+00,\n",
              "         1.050e+03],\n",
              "        [1.316e+01, 2.360e+00, 2.670e+00, ..., 1.030e+00, 3.170e+00,\n",
              "         1.185e+03],\n",
              "        ...,\n",
              "        [1.327e+01, 4.280e+00, 2.260e+00, ..., 5.900e-01, 1.560e+00,\n",
              "         8.350e+02],\n",
              "        [1.317e+01, 2.590e+00, 2.370e+00, ..., 6.000e-01, 1.620e+00,\n",
              "         8.400e+02],\n",
              "        [1.413e+01, 4.100e+00, 2.740e+00, ..., 6.100e-01, 1.600e+00,\n",
              "         5.600e+02]]),\n",
              " 'feature_names': ['alcohol',\n",
              "  'malic_acid',\n",
              "  'ash',\n",
              "  'alcalinity_of_ash',\n",
              "  'magnesium',\n",
              "  'total_phenols',\n",
              "  'flavanoids',\n",
              "  'nonflavanoid_phenols',\n",
              "  'proanthocyanins',\n",
              "  'color_intensity',\n",
              "  'hue',\n",
              "  'od280/od315_of_diluted_wines',\n",
              "  'proline'],\n",
              " 'target': array([0, 0, 0, 0, 0, 0, 0, 0, 0, 0, 0, 0, 0, 0, 0, 0, 0, 0, 0, 0, 0, 0,\n",
              "        0, 0, 0, 0, 0, 0, 0, 0, 0, 0, 0, 0, 0, 0, 0, 0, 0, 0, 0, 0, 0, 0,\n",
              "        0, 0, 0, 0, 0, 0, 0, 0, 0, 0, 0, 0, 0, 0, 0, 1, 1, 1, 1, 1, 1, 1,\n",
              "        1, 1, 1, 1, 1, 1, 1, 1, 1, 1, 1, 1, 1, 1, 1, 1, 1, 1, 1, 1, 1, 1,\n",
              "        1, 1, 1, 1, 1, 1, 1, 1, 1, 1, 1, 1, 1, 1, 1, 1, 1, 1, 1, 1, 1, 1,\n",
              "        1, 1, 1, 1, 1, 1, 1, 1, 1, 1, 1, 1, 1, 1, 1, 1, 1, 1, 1, 1, 2, 2,\n",
              "        2, 2, 2, 2, 2, 2, 2, 2, 2, 2, 2, 2, 2, 2, 2, 2, 2, 2, 2, 2, 2, 2,\n",
              "        2, 2, 2, 2, 2, 2, 2, 2, 2, 2, 2, 2, 2, 2, 2, 2, 2, 2, 2, 2, 2, 2,\n",
              "        2, 2]),\n",
              " 'target_names': array(['class_0', 'class_1', 'class_2'], dtype='<U7')}"
            ]
          },
          "metadata": {},
          "execution_count": 21
        }
      ]
    },
    {
      "cell_type": "markdown",
      "metadata": {
        "id": "00xn5Rg-Rw-X"
      },
      "source": [
        "Memilih dataset X(wine.data) dan dataset y(wine.target)."
      ]
    },
    {
      "cell_type": "code",
      "metadata": {
        "id": "tzaH-8TtR9Q6"
      },
      "source": [
        "X,y=X,y=wine.data, wine.target"
      ],
      "execution_count": 22,
      "outputs": []
    },
    {
      "cell_type": "markdown",
      "metadata": {
        "id": "udM3fELMSB1P"
      },
      "source": [
        "Membagi dataset menjadi data latih dan data uji"
      ]
    },
    {
      "cell_type": "code",
      "metadata": {
        "id": "Ih9KZnsGSGyt"
      },
      "source": [
        "X_latih, X_uji, y_latih, y_uji=train_test_split(X,y,test_size=0.20, random_state=1234)"
      ],
      "execution_count": 23,
      "outputs": []
    },
    {
      "cell_type": "markdown",
      "metadata": {
        "id": "vCeZ-Sy1SW2x"
      },
      "source": [
        "Menuliskan algoritma KNN dalam bentuk fungsi"
      ]
    },
    {
      "cell_type": "code",
      "metadata": {
        "id": "AT6GM54zSclc"
      },
      "source": [
        "def _knn(x):\n",
        "  #Menghitung jarak antara x baru dengan semua sampel di data latih\n",
        "  jarak=[jarak_euclidean(x,x_latih) for x_latih in X_latih]\n",
        "  #Mengurutkan data dan mengambil sejumlah k objek\n",
        "  k_idx=np.argsort(jarak)[:k]\n",
        "  #Mengambil kelas dari k tetangga terdekat dari data latih\n",
        "  k_neighbor_labels=[y_latih[i] for i in k_idx]\n",
        "  #Mengambil kelas yang paling sering muncul\n",
        "  kelas_paling_banyak=Counter(k_neighbor_labels).most_common(1)\n",
        "  return kelas_paling_banyak[0][0]\n",
        "\n",
        "def KNN(X_latih, y_latih, k, x_baru):\n",
        "  y_pred=[_knn(x_i) for x_i in x_baru]\n",
        "  return np.array(y_pred)"
      ],
      "execution_count": 24,
      "outputs": []
    },
    {
      "cell_type": "code",
      "metadata": {
        "colab": {
          "base_uri": "https://localhost:8080/"
        },
        "id": "OGDJE_oeTeyN",
        "outputId": "1f886286-5c4e-4a7b-ac18-8bbc53e5963d"
      },
      "source": [
        "y_pred=KNN(X_latih,y_latih, k, X_uji)\n",
        "y_pred"
      ],
      "execution_count": 25,
      "outputs": [
        {
          "output_type": "execute_result",
          "data": {
            "text/plain": [
              "array([1, 1, 1, 1, 0, 1, 1, 1, 0, 1, 2, 1, 0, 1, 1, 1, 0, 2, 2, 2, 0, 1,\n",
              "       1, 2, 2, 2, 2, 0, 0, 2, 0, 1, 1, 2, 1, 1])"
            ]
          },
          "metadata": {},
          "execution_count": 25
        }
      ]
    },
    {
      "cell_type": "code",
      "metadata": {
        "colab": {
          "base_uri": "https://localhost:8080/"
        },
        "id": "ZPjR01JsTtBU",
        "outputId": "957c4bf9-de6a-48f1-b8ad-bdf3c584ba80"
      },
      "source": [
        "y_uji"
      ],
      "execution_count": 26,
      "outputs": [
        {
          "output_type": "execute_result",
          "data": {
            "text/plain": [
              "array([1, 1, 1, 1, 2, 1, 2, 0, 0, 2, 2, 1, 0, 1, 1, 0, 0, 2, 2, 2, 0, 1,\n",
              "       1, 2, 1, 2, 0, 0, 0, 1, 0, 1, 1, 1, 1, 1])"
            ]
          },
          "metadata": {},
          "execution_count": 26
        }
      ]
    },
    {
      "cell_type": "markdown",
      "metadata": {
        "id": "KgP06DJGTve_"
      },
      "source": [
        "# **Evaluasi Model**"
      ]
    },
    {
      "cell_type": "markdown",
      "metadata": {
        "id": "_opuULbaT0-M"
      },
      "source": [
        "Evaluasi model digunakan untuk melihat seberapa baik metode ini bekerja pada . data uji yang diberikan. Salah satu metrik yang dapat digunakan adalah akurasi. Metrik ini menghitung jumlah hasil prediksi yang sesuai dengan label sesungguhnya kemudian dibagi dengan jumlah keseluruhan label. Menggunakan bahasa python akurasi dapat dituliskan sebagai berikut."
      ]
    },
    {
      "cell_type": "code",
      "metadata": {
        "id": "BSuQWKZAURQ5"
      },
      "source": [
        "def akurasi(y_asli, y_pred):\n",
        "  akurasi=np.sum(y_asli==y_pred)/len(y_asli)\n",
        "  return akurasi"
      ],
      "execution_count": 27,
      "outputs": []
    },
    {
      "cell_type": "code",
      "metadata": {
        "colab": {
          "base_uri": "https://localhost:8080/"
        },
        "id": "rsPShbHzUcpV",
        "outputId": "ceb05d41-6068-4fa8-e6df-5415221cf2f7"
      },
      "source": [
        "akurasi(y_uji, y_pred)"
      ],
      "execution_count": 28,
      "outputs": [
        {
          "output_type": "execute_result",
          "data": {
            "text/plain": [
              "0.75"
            ]
          },
          "metadata": {},
          "execution_count": 28
        }
      ]
    }
  ]
}