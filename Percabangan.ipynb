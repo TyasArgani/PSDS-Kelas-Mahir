{
  "nbformat": 4,
  "nbformat_minor": 0,
  "metadata": {
    "colab": {
      "name": "Percabangan.ipynb",
      "provenance": [],
      "collapsed_sections": []
    },
    "kernelspec": {
      "name": "python3",
      "display_name": "Python 3"
    },
    "language_info": {
      "name": "python"
    }
  },
  "cells": [
    {
      "cell_type": "markdown",
      "metadata": {
        "id": "GJYmYOqLCZv3"
      },
      "source": [
        "# **PERCABANGAN**"
      ]
    },
    {
      "cell_type": "markdown",
      "metadata": {
        "id": "_M1gwM9bCg0P"
      },
      "source": [
        "# Percabangan/Struktur Pemilihan"
      ]
    },
    {
      "cell_type": "markdown",
      "metadata": {
        "id": "h7CSiS1lD04x"
      },
      "source": [
        "Pada bagian ini, kamu akan membuat keputusan pada bahasa pemrograman Python menggunakan struktur percabangan atau juga sering disebut IF ELSE Statement. Pengambilan keputusan dibutuhkan ketika kamu akan mengeksekusi suatu kode jika sebuah kondisi tertentu dipenuhi.\n",
        "\n",
        "Statement if .. elif ... else digunakan pada bahasa Python untuk pengambilan keputusan."
      ]
    },
    {
      "cell_type": "markdown",
      "metadata": {
        "id": "8eAXqUv2CppB"
      },
      "source": [
        "# IF Statements "
      ]
    },
    {
      "cell_type": "markdown",
      "metadata": {
        "id": "m4VAzlo8EZcn"
      },
      "source": [
        "**Python IF Statements Syntax**"
      ]
    },
    {
      "cell_type": "code",
      "metadata": {
        "id": "wmtFkJ9XEjI6"
      },
      "source": [
        "if test expression:\n",
        "  statement(s)"
      ],
      "execution_count": null,
      "outputs": []
    },
    {
      "cell_type": "markdown",
      "metadata": {
        "id": "KWICuzJAEnf5"
      },
      "source": [
        "Program akan mengevaluasi nilai dari test expression yang diberikan kemudian akan mengeksekusi statement(s) hanya jika test expression bernilai True.\n",
        "\n",
        "Jika test expression bernilai False, maka statement(s) tidak dieksekusi.\n",
        "\n",
        "Seperti telah disampaikan pada pertemuan sebelumnya bahwa bagian body dari statement if diindikasikan dengan identasi. Statement-statement yang akan dijalankan jika test expression bernilai True ditulis pada baris selanjutnya dan menjorok ke dalam.\n",
        "\n",
        "Sebagai catatan tambahan bahwa python menginterpretasikan non-zero values sebagai True. None dan 0 diinterpretasikan sebagai False.\n"
      ]
    },
    {
      "cell_type": "markdown",
      "metadata": {
        "id": "PcjfVCUfFX8W"
      },
      "source": [
        "**Example: Python IF Statement**"
      ]
    },
    {
      "cell_type": "code",
      "metadata": {
        "colab": {
          "base_uri": "https://localhost:8080/"
        },
        "id": "oWw2Rf_FFeDs",
        "outputId": "25953363-6a74-40a6-940e-a3072dbcd52e"
      },
      "source": [
        "#Jika angka adalah bilangan positif maka print \"adalah bilangan positif\"\n",
        "\n",
        "angka=3\n",
        "if angka>0:\n",
        "  print(angka,\"adalah bilangan positif\")\n",
        "print(\"Pernyataan ini selalu ditampilkan\")\n",
        "\n",
        "angka=-1\n",
        "if angka>0:\n",
        "  print(angka,\"adalah bilangan positif\")\n",
        "print(\"Pernyataan ini selalu ditampilkan\")"
      ],
      "execution_count": null,
      "outputs": [
        {
          "output_type": "stream",
          "name": "stdout",
          "text": [
            "3 adalah bilangan positif\n",
            "Pernyataan ini selalu ditampilkan\n",
            "Pernyataan ini selalu ditampilkan\n"
          ]
        }
      ]
    },
    {
      "cell_type": "markdown",
      "metadata": {
        "id": "GDnrWTdmF3Tt"
      },
      "source": [
        "Pada contoh di atas, angka >0 adalah test expression. Bagian body dan if dieksekusi hanya jika hasil evaluasi dari test expression adalah bernilai True.\n",
        "\n",
        "Ketika variabel angka bernilai 3, test expression bernilai True sehingga statement di dalam bagian body dari if akan dieksekusi. Sedangkan ketika variabel angka bernilai -1, test expression bernilai False sehingga statement di dalam bagian body dari if tidak dieksekusi (di skip).\n",
        "\n",
        "Statement print() di luar blok if (yang tidak teridentisasi) akan selalu dieksekusi."
      ]
    },
    {
      "cell_type": "markdown",
      "metadata": {
        "id": "V7tAqjpcCwX7"
      },
      "source": [
        "# IF ELSE Statements"
      ]
    },
    {
      "cell_type": "markdown",
      "metadata": {
        "id": "2eOCtHu0GcfY"
      },
      "source": [
        "**Python IF ELSE Statement Syntax**"
      ]
    },
    {
      "cell_type": "code",
      "metadata": {
        "id": "wBNBsSJdGgsv"
      },
      "source": [
        "if test expression:\n",
        "  Body of if\n",
        "else:\n",
        "  Body of else"
      ],
      "execution_count": null,
      "outputs": []
    },
    {
      "cell_type": "markdown",
      "metadata": {
        "id": "4ZhIhrOnGpC2"
      },
      "source": [
        "Statement if ... else mengevaluasi test expression dan akan mengeksekusi bagian body of if hanya jika test expression bernilai True.\n",
        "\n",
        "Jika test expression bernilai False, maka bagian body of else akan dieksekusi. Identasi juga digunakan pada bagian ini."
      ]
    },
    {
      "cell_type": "markdown",
      "metadata": {
        "id": "b6q9woxwG_-R"
      },
      "source": [
        "**Example: Python IF ELSE Statement**"
      ]
    },
    {
      "cell_type": "code",
      "metadata": {
        "colab": {
          "base_uri": "https://localhost:8080/"
        },
        "id": "eRnzkjwkHIvq",
        "outputId": "a4077464-c461-436e-c8ac-1282bf320caf"
      },
      "source": [
        "#Program disusun untuk mengecek apakah angka merupakan bilangan positif \n",
        "#atau negatif dan menampilkan tulisan yang sesuai\n",
        "\n",
        "angka=3\n",
        "\n",
        "#Kamu bisa mencoba angka-angka lainnya berikut:\n",
        "#angka=-5\n",
        "#angka=0\n",
        "\n",
        "if angka>=0:\n",
        "  print(\"Bilangan Positif atau Nol\")\n",
        "else:\n",
        "  print(\"Bilangan Negatif\")"
      ],
      "execution_count": null,
      "outputs": [
        {
          "output_type": "stream",
          "name": "stdout",
          "text": [
            "Bilangan Positif atau Nol\n"
          ]
        }
      ]
    },
    {
      "cell_type": "markdown",
      "metadata": {
        "id": "8esTIUOVHwk2"
      },
      "source": [
        "Pada contoh di atas, ketika angka sama dengan 3, test expression bernilai True dan bagian body dari if dieksekusi sedangkan bagian body dari else diabaikan.\n",
        "\n",
        "Ketika angka sama dengan -5, test expression bernilai False dan bagian body dari if diabaikan sedangkan bagian body dan else dieksekusi.\n",
        "\n",
        "Jika angka sama dengan 0, test expression bernilai True dan bagian body dari if dieksekusi sedangkan bagian body dari else diabaikan."
      ]
    },
    {
      "cell_type": "code",
      "metadata": {
        "colab": {
          "base_uri": "https://localhost:8080/"
        },
        "id": "lDfqu5YzIQ29",
        "outputId": "418d9ae2-f939-4b98-b94c-3868e52c3c86"
      },
      "source": [
        "#Program disusun untuk mengecek apakah dua buah angka sama atau tidak\n",
        "#dan menampilkan tulisan yang sesuai\n",
        "\n",
        "a=5\n",
        "b=5\n",
        "\n",
        "if a==b:\n",
        "  print(\"a dan b bernilai sama\")\n",
        "else:\n",
        "  print(\"a dan b bernilai berbeda\")\n",
        "  print(\"Halo\")"
      ],
      "execution_count": null,
      "outputs": [
        {
          "output_type": "stream",
          "name": "stdout",
          "text": [
            "a dan b bernilai sama\n"
          ]
        }
      ]
    },
    {
      "cell_type": "code",
      "metadata": {
        "colab": {
          "base_uri": "https://localhost:8080/"
        },
        "id": "TciexRzVIkvn",
        "outputId": "e3c62d69-f39d-4cb9-d3a3-14955219a90d"
      },
      "source": [
        "#Program disusun untuk mengecek apakah perbandingan dua buah angka\n",
        "#dan menampilkan tulisan yang sesuai\n",
        "\n",
        "#membaca dua angka\n",
        "bilangan1=int(input(\"Masukkan bilangan pertama: \"))\n",
        "bilangan2=int(input(\"Masukkan bilangan kedua: \"))\n",
        "\n",
        "#memilih bilangan yang lebih besar\n",
        "if bilangan1>bilangan2:\n",
        "  bilangan_lebih_besar=bilangan1\n",
        "else:\n",
        "  bilangan_lebih_besar=bilangan2\n",
        "\n",
        "#menampilkan hasil\n",
        "print(\"Bilangan yang lebih besar adalah: \",bilangan_lebih_besar)"
      ],
      "execution_count": null,
      "outputs": [
        {
          "output_type": "stream",
          "name": "stdout",
          "text": [
            "Masukkan bilangan pertama: 10\n",
            "Masukkan bilangan kedua: 10\n",
            "Bilangan yang lebih besar adalah:  10\n"
          ]
        }
      ]
    },
    {
      "cell_type": "markdown",
      "metadata": {
        "id": "U0Q4Q0DiC1u5"
      },
      "source": [
        "# IF ELIF ELSE Statements"
      ]
    },
    {
      "cell_type": "markdown",
      "metadata": {
        "id": "D9M1JOedJQVd"
      },
      "source": [
        "**Python IF ELIF ELSE Statement Syntax** "
      ]
    },
    {
      "cell_type": "code",
      "metadata": {
        "id": "Dg33wPTLJVwO"
      },
      "source": [
        "if test expression:\n",
        "  Body of if\n",
        "elif test expression:\n",
        "  Body of elif\n",
        "else:\n",
        "  Body of else"
      ],
      "execution_count": null,
      "outputs": []
    },
    {
      "cell_type": "markdown",
      "metadata": {
        "id": "tzwSseaCJf_G"
      },
      "source": [
        "elif adalah kependekan dari else if. Perintah ini bertugas untuk mengecek beberapa test expression.\n",
        "\n",
        "Jika kondisi untuk statement if bernilai False, maka akan mengecek ke kondisi elif selanjutnya dan begitu seterusnya. Jika semua kondisi pada statement if dan elif bernilai False maka, bagian body dari else akan dieksekusi.\n",
        "\n",
        "Hanya satu blok di antara if, elif, dan else yang akan dieksekusi berdasarkan kondisi yang sesuai.\n",
        "\n",
        "Pada sebuah if blok hanya diijinkan sebuah else blok namun dapat memiliki beberapa blok elif."
      ]
    },
    {
      "cell_type": "markdown",
      "metadata": {
        "id": "ROiyQ0QKK-CH"
      },
      "source": [
        "**Example: Python IF ELIF ELSE Statement**"
      ]
    },
    {
      "cell_type": "code",
      "metadata": {
        "colab": {
          "base_uri": "https://localhost:8080/"
        },
        "id": "p5cZoKB6LErM",
        "outputId": "8454d3f0-245b-47e5-ad63-bc3e572258e3"
      },
      "source": [
        "#Program disusun untuk mengecek apakah angka merupakan bilangan positif, negatif atau nol\n",
        "#dan menampilkan tulisan yang sesuai\n",
        "\n",
        "angka=3.4\n",
        "\n",
        "#kamu bisa mencoba angka-angka lainnya berikut:\n",
        "#angka=0\n",
        "#angka=-4.5\n",
        "\n",
        "if angka >0:\n",
        "  print(\"Bilangan Positif\")\n",
        "elif num==0:\n",
        "  print(\"Nol\")\n",
        "else:\n",
        "  print(\"Bilangan Negatif\")"
      ],
      "execution_count": null,
      "outputs": [
        {
          "output_type": "stream",
          "name": "stdout",
          "text": [
            "Bilangan Positif\n"
          ]
        }
      ]
    },
    {
      "cell_type": "markdown",
      "metadata": {
        "id": "c1TWQTYrLpiw"
      },
      "source": [
        "Ketika variabel angka bernilai positif, maka Bilangan Positif ditampilkan.\n",
        "\n",
        "Jika angka sama dengan 0, maka Nol ditampilkan.\n",
        "\n",
        "Jika angka bernilai negatif, maka Bilangan negatif ditampilkan."
      ]
    },
    {
      "cell_type": "code",
      "metadata": {
        "colab": {
          "base_uri": "https://localhost:8080/"
        },
        "id": "qsh2msQVL3VS",
        "outputId": "0767907f-6aa7-48d0-e33f-3c38d7e05944"
      },
      "source": [
        "#Statement if\n",
        "x=4\n",
        "if x%2==0: #jika sisa bagi x dengan 2 sama dengan 0\n",
        "  print(\"x habis dibagi dua\") # statement aksi lebih menjorok ke dalam\n",
        "\n",
        "#Statement if ... elif ... else\n",
        "x=7\n",
        "if x%2==0: #jika sisa bagi x dengan 2 sama dengan 0\n",
        "  print(\"x habis dibagi dua\")\n",
        "elif x%3==0: #jika sisa bagi x dengan 3 sama dengan 0\n",
        "  print(\"x habis dibagi tiga\")\n",
        "elif x%5==0: #jika sisa bagi x dengan 5 sama dengan 0\n",
        "  print(\"x habis dibagi lima\")\n",
        "else:\n",
        "  print(\"x habis tidak habis dibagi dua, tiga ataupun lima\")"
      ],
      "execution_count": null,
      "outputs": [
        {
          "output_type": "stream",
          "name": "stdout",
          "text": [
            "x habis dibagi dua\n",
            "x habis tidak habis dibagi dua, tiga ataupun lima\n"
          ]
        }
      ]
    },
    {
      "cell_type": "markdown",
      "metadata": {
        "id": "vGuJWToYDBOJ"
      },
      "source": [
        "# Python Nested IF Statements"
      ]
    },
    {
      "cell_type": "markdown",
      "metadata": {
        "id": "7S5pshPjMxNC"
      },
      "source": [
        "Kita dapat membuat statement if...elif...else di dalam statement if..elif..else lainnya. Ini disebut sebagai nesting dalam computer programming.\n",
        "\n",
        "Sejumlah pernyataan ini dapat bersarang(nesting) di dalam satu sama lain. Identasi adalah satu-satunya cara untuk mengetahui tingkat bersarang. Mereka bisa membingungkan, jadi mereka harus dihadiri kecuali jika perlu.\n",
        "\n",
        "**Example: Python NESTED IF Statement**"
      ]
    },
    {
      "cell_type": "code",
      "metadata": {
        "colab": {
          "base_uri": "https://localhost:8080/"
        },
        "id": "svBMNYPmNO_f",
        "outputId": "cd22b97d-e922-4650-b1cb-8a5c875c85cd"
      },
      "source": [
        "#Program disusun untuk mengecek apakah angka merupakan bilangan positif, negatif, atau nol\n",
        "#dan menampilkan tulisan yang sesuai\n",
        "\n",
        "angka=float(input(\"Masukkan angka: \"))\n",
        "if angka>=0:\n",
        "  if angka==0:\n",
        "    print(\"Nol\")\n",
        "  else:\n",
        "    print(\"Bilangan Positif\")\n",
        "else:\n",
        "  print(\"Bilangan Negatif\")"
      ],
      "execution_count": null,
      "outputs": [
        {
          "output_type": "stream",
          "name": "stdout",
          "text": [
            "Masukkan angka: 9\n",
            "Bilangan Positif\n"
          ]
        }
      ]
    },
    {
      "cell_type": "markdown",
      "metadata": {
        "id": "oVtnmm6gDw1d"
      },
      "source": [
        "# Latihan"
      ]
    },
    {
      "cell_type": "markdown",
      "metadata": {
        "id": "gI5Y9_rnNq7A"
      },
      "source": [
        "1. Buatlah sebuah fungsi \"Mahal_Diskon\" dengan ketentuan:\n",
        "\n",
        "A. Input berupa data harga produk dengan tipe data numerik **Tunggal**\n",
        "\n",
        "B. Kategori input adalah \"Murah\" dan \"Mahal\", kemudian diskon ada 3 kategori \"10%\", \"20%\", dan \"40%\"\n",
        "\n",
        "C. Output Pertama sebuah teks/string yang menyatakan \"Mahal\" dan \"Murah\" dan Keterangan \"Kamu Dapat Diskon...\"\n",
        "\n",
        "D. Output Kedua adalah harga yang perlu dibayarkan\n"
      ]
    },
    {
      "cell_type": "code",
      "metadata": {
        "colab": {
          "base_uri": "https://localhost:8080/"
        },
        "id": "tNpa9VwDB7sa",
        "outputId": "b061430f-2333-47ab-b8fe-4e813e12d36c"
      },
      "source": [
        "def mahal_diskon(x):\n",
        "    if x>=500000:\n",
        "        kategori=\"mahal\"\n",
        "    elif x<500000:\n",
        "        kategori=\"murah\"\n",
        "    if x<100000:\n",
        "        diskon=\"10%\"\n",
        "        total=x*0.90\n",
        "    elif x>100000 and x<=500000:\n",
        "        diskon=\"20%\"\n",
        "        total=x*0.8\n",
        "    else:\n",
        "        diskon=\"40%\"\n",
        "        total=x*0.6\n",
        "    a=\"Kamu mendapat diskon \"\n",
        "    b=\"Total yang harus dibayar = \"\n",
        "    output=kategori+\"\\n\"+a+diskon+\"\\n\"+b+str(total)\n",
        "    return output\n",
        "\n",
        "print(mahal_diskon(300000))"
      ],
      "execution_count": null,
      "outputs": [
        {
          "output_type": "stream",
          "name": "stdout",
          "text": [
            "murah\n",
            "Kamu mendapat diskon 20%\n",
            "Total yang harus dibayar = 240000.0\n"
          ]
        }
      ]
    },
    {
      "cell_type": "markdown",
      "metadata": {
        "id": "j6LEejF_R_m-"
      },
      "source": [
        "2. Diberi sebuah string, tulislah sebuah fungsi python untuk memeriksa apakah string tersebut merupakan palindrom atau bukan. Sebuah string dikatakan palindrom jika susunan terbalik dari string tersebut sama dengan string pada susunan awalnya. Misalnya, \"radar\" adalah palindrom, tetapi \"radix\" bukanlah palindrom."
      ]
    },
    {
      "cell_type": "code",
      "metadata": {
        "colab": {
          "base_uri": "https://localhost:8080/"
        },
        "id": "HsDVRsbzUcmA",
        "outputId": "25bd197a-9adc-400f-d275-0e84f2781a61"
      },
      "source": [
        "def Palindrome(x):\n",
        "  y=x[::-1]\n",
        "  if y==x:\n",
        "    return True\n",
        "  return False\n",
        "Palindrome(\"radar\")"
      ],
      "execution_count": null,
      "outputs": [
        {
          "output_type": "execute_result",
          "data": {
            "text/plain": [
              "True"
            ]
          },
          "metadata": {},
          "execution_count": 31
        }
      ]
    },
    {
      "cell_type": "markdown",
      "metadata": {
        "id": "-s6nM_2kVx9I"
      },
      "source": [
        "3. Buatlah fungsi untuk menghitung diskon suatu pembayaran belanjaan dengan input berupa dictionary untuk daftar harga dan dictionary untuk daftar belanjaan!"
      ]
    },
    {
      "cell_type": "code",
      "metadata": {
        "colab": {
          "base_uri": "https://localhost:8080/"
        },
        "id": "WBcC8KZQV57r",
        "outputId": "1d6aca4d-708e-4ae5-e4c7-c2820be9d3b7"
      },
      "source": [
        "daftar_harga={'telur/kg':20000,'gula_pasir/kg':16000,'teh/bks':4000}\n",
        "daftar_belanjaan={'telur':2,'gula_pasir':5}\n",
        "\n",
        "def pembayaran(x,y):\n",
        "  total=0\n",
        "  for k in y:\n",
        "    if k==\"telur\":\n",
        "      total=total+(x[\"telur/kg\"]*y[k])\n",
        "    elif k==\"gula_pasir\":\n",
        "      total=total+(x[\"gula_pasir/kg\"]*y[k])\n",
        "    elif k==\"teh\":\n",
        "      total=total+(x[\"teh/bks\"]*y[k])\n",
        "    else:\n",
        "      total=total\n",
        "  return total\n",
        "\n",
        "jumlah_bayar=pembayaran(daftar_harga, daftar_belanjaan)\n",
        "print(jumlah_bayar)"
      ],
      "execution_count": null,
      "outputs": [
        {
          "output_type": "stream",
          "name": "stdout",
          "text": [
            "120000\n"
          ]
        }
      ]
    }
  ]
}