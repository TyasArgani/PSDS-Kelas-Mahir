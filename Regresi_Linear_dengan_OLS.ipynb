{
  "nbformat": 4,
  "nbformat_minor": 0,
  "metadata": {
    "colab": {
      "name": "Regresi_Linear_dengan_OLS.ipynb",
      "provenance": [],
      "collapsed_sections": []
    },
    "kernelspec": {
      "name": "python3",
      "display_name": "Python 3"
    },
    "language_info": {
      "name": "python"
    }
  },
  "cells": [
    {
      "cell_type": "markdown",
      "metadata": {
        "id": "wTc4DdTTj8Ry"
      },
      "source": [
        "# **REGRESI LINEAR DENGAN OLS**"
      ]
    },
    {
      "cell_type": "markdown",
      "metadata": {
        "id": "8D4qPu4okCGr"
      },
      "source": [
        "# **Model Regresi Linear Sederhana**"
      ]
    },
    {
      "cell_type": "markdown",
      "metadata": {
        "id": "3GgYY1wIkeZL"
      },
      "source": [
        "Regresi linear adalah metode untuk mendefinisikan hubungan linear antara variabel dependen **Y** dan variabel independen **X**. Secara sederhana dapat dituliskan dalam formula berikut:\n",
        "\n",
        "# $$ Y_i = b_0 + b_1 X_i + \\epsilon_i $$\n",
        "\n",
        "Yang mana $Y_i$ adalah variabel dependen, $X_i$ adalah variabel independen, $\\epsilon$ adalah kesalahan acak, $b_0$ disebut sebagai intercept dan $b_1$ disebut sebagai koefisien regresi yang dapa diestimasi berdasarkan data $Y_i$ dan $X_i$ yang diberikan. Koefisien $b_0$ juga biasa disebut sebagai bias. Tujuan utama dari model ini adalah untuk menggambarkan garis linear dengan kesesuaian terbaik (*best fit*) anara X dan Y yang mengestimasi hubungan antara X dan Y.\n",
        "\n",
        "Lalu bagaimana untuk mengestimasi koefisien tersebut ? Salah satu pendekatan yang dapat dilakukan adlaah menggunakan metode **Ordinary Least Mean Square Method**. Pada python notebook ini, kia akan mengimplementasikan metode Ordinary Least Mean Square Method.\n",
        "\n"
      ]
    },
    {
      "cell_type": "markdown",
      "metadata": {
        "id": "gG4NWj7CkLkS"
      },
      "source": [
        "# **Ordinary Least Mean Square**"
      ]
    },
    {
      "cell_type": "markdown",
      "metadata": {
        "id": "8Y1omv_Hr6LD"
      },
      "source": [
        "Sebelumnya kita telah membahas tentang estimasi hubungan anara X dan Y pada sebuah garis. Misalnya, kita sediakan input dan ouput sampel, kemudian kita memplot titik titik data ini pada grafik 2 dimensi, maka akan dihasilkan grafik seperti di bawah ini.\n",
        "\n",
        "![image.png](data:image/png;base64,iVBORw0KGgoAAAANSUhEUgAAAYsAAAEGCAYAAACUzrmNAAAgAElEQVR4Ae19CbgcRdX2m4UkhEDYJQmEBAQlYU0CJB+GVT5IVFATVPz5RUVwQZQlKvn4ZBERAdlBFiWICxGBXxGURVBRUYQAYQkkkASEsCRhXwNZzv+8PV03detW9fTMdM90z5x6nrlVXcupU2/1PW9tUwOoUwQUAUVAEVAEFAFFQBFQBBQBRUARUAQUAUVAEVAEFAFFQBFQBBQBRUARUAQUAUVAEVAEFAFFQBFQBBQBRUARKDACG2ywgYwdO1Y/ioG+A/oO6DtQwzsAYGmBTXv2qpEo1CkCioAioAjUhgCAWdlb5AJLVLKo7QXR3IqAIqAIEAElC30PFAFFQBFQBKoioGRRFSLNoAgoAoqAIqBkISLvvfeeLFy4UB599FH9FBgD9hH7Sp0ioAg0HwElC5GIKJYuXSqrVq1qfg9ojakQYN+wj0gY6hQBRaD5CChZiESzCSWK5r98tdbIPuLsT50i0KkI/PKXIptvLtKrV8Xnc7OckkVMFs0CXOtpDAEli8bw09LlRYDEMHAgTyWt/vC5WYShZKFkUar/HiWLUnWXKpshApxR2ERhwoxvhlOyKAhZ9O7dW3bYYQcZPXq0fPSjH5VXXnmlGf3fo45JkyZ56958882jPQO7wA033CCnn366HZV7WMkid4i1goIiwKUnQxC2z/hmOCWLgpDFWmut1dXfn/vc5+T73/9+13O9gRUrVtRbtEc5H1n0yJRDhNsGJYscQFaRpUBAZxZN/ra37xvcRTBANllccskl8tWvfjV6gefPny/77befjBkzRj70oQ/JY4891hW/6667yrhx4+S73/2umPJ/+ctfZM8995SDDz5YttlmG6GxnTZtWpRvu+22k0svvTQq/9xzz8nEiRO7ZjN/+9vfovgQKfjir7zySjnyyCOjcoceeqgcddRRMmHCBBk5cqRce+21UTz/nHnmmV31n3jiiV3xBx54YNSuUaNGyWWXXdYVz7awTbvssov8/e9/74pnoAh91U0hfSg1Aq3cMK4VON2zKBpZfPObInvske2HMqs4Y+xp3KdOnSo333xzVGLvvfeWxx9/PArffffdstdee0Xhj3zkI3L11VdHYZKLKU+yGDhwYNcRUxrhU089Ncq3bNmy6OI0Hj/90Y9+1DV7YZ2vv/56lMdHCkzwxbtkQb1Xrlwpc+bMkS233DKSd+utt8rhhx8eHUtmGvW+8847o7SXXnop8t9+++1o+e3FF1+MngHINddcE4XdP0oWLiL6XC8CrTa+9ejdSnLTZSh3tNoisjB7FoMHDxYSBA34G2+8IQMGDIhG/9zP4OeDH/xg9I6tv/76snz58ij82muvdSMLziyMmzJlimy11VZdMkaMGCE04DTYNOgnnXSSPPDAAya7lxSYmIYsfsk3OXaDBg2KQscdd1xU1ujPOn/6059Gaax7++23jz7rrLOO/Otf/4ri+/TpE7U/FtXNU7LoBoc+NIBAq5d1GlC9JUWVLFyyaEk3SJexf/XVV6PlpvPPP19IAptssolXoySy4OjduE9+8pNyyy23mMdu/rPPPiuXX365bLvttnLVVVdFaT5SYIIv3p1Z2EtPZqZz7LHHdi192ZVzBrTbbrvJW2+9FUXvsccewjg6U9bOb8JKFgYJ9RtFoNUbxo3q3+zyShYFIwu+APfff79sttlm0dUW3AP4zW9+E70X/FLa7Nmzo/DkyZPl17/+dRTmUpMxsDS4NlkwjXsD5pqMefPmyZtvvilPPfVU18zk3HPPlW/GS2U+UmAlvvg0ZMFZDPceOEuiW7RokSxevFh+97vfRae+GMd9mP79+ytZRAjpn2YhoDOL2pBuBVnMALAEwCPOdsVRAOYBmAPgTCttOoD5cdp+VvxYAA/HaRcA6GWlBYNl2OBmF/L47M9//vNo74Eb3Fyu4Yb1KaecEvUw9zFohHfeeWc5+eSTZejQoVG8SxbcJ5g+fXo0e+CxXC5Rcfbys5/9LNon2HHHHaOZjLlGw0cKFMz4IUOGyLBhw6LPMcccI2nIgmXPO++8qH7OYMaPHy/ctOf+yf777y/cdOdeh84sou7TP01EoIx7Fk2Ep0dVrSCL3QGMcchiLwC3A+gfW/mNY38UgAfj+JEAFgDoE6fdA2BCTBI3A5gUZAgroahk0aNnqkRw+cZcUTJz5kw54IADqpRoj2RdhmqPfixKK1q5Ydx0DJ55pqEqW0EWNN0jHLL4DYAPWzbdBDmr4Me4W2OCGAJgrokEcDCAy6znYLBdyIJHXTnb4MicR2CfeOKJhl6EshRWsihLT6mehUFgzhyRSZNE1llHZMmSutUqClnMBnAKgH8DuBPAzrG1vwjAIZblvwLAVADj4pmISZoI4Cbz4PGPiBs6a/jw4T3AUgPUA5LCRmhfFbZralKso0b0NSGTYebFi0W+8hWRPn1EBg8WOesskWXL6q6gKGTB/Quz77ALgCfj5aWLPWQxJSYTLlsZR7K40Twk+e0ys6i7x0teUMmiegcW3RDrXkH1PmwoxzvviPAanrXXFunbV+Soo0SWLm1IJAsXhSxuAbCnZeS5N7FRvASly1ANd3P7CFCySO7LMhhiPYWU3Id1p/L3ePhFXQMw9zHnzq1bnFuwKGTxFQDfi8liawDPxDOL0c4G90Jrg/teAOOtDe7JFtkEgzqzcF+Bcj0rWST3l7ET9kVzDDO+KE6/35BDT9x1l8iuu1ZuGtxxR5E//znzSlpBFjMBPA9gOYBFAA4D0A/AL+NN7/sB7G1Z+xPiU1A8VmufeOK+BZevOAvh3kapj85m3rNtKlDJIrljy2CIy0BoySgXKHXBApGpUyskwePzV14pkuEFonZLW0EWFg80P1jUmYW57oOX6vGU09lnnx3ds2R3lht+8skn5Ve/+pUb3dbPShbJ3VsGQ1yGpbJklAuQyp8wOO44kX79Kr+IxO9fvflmroopWRTwG9z8hvM+++wj9g2tvrfA/QKeL0+7xXUyWaTZuC6LIU7TlnZ7dzNpz3vviVxwgcgGG1R+W/WLXxR59tlMRFcTomRRB1nk8aKb6zpMhy1YsEB4/xO/eMcZBK8n32mnnaLPXVyfFC5R7iq8gI+X9J1zzjnBfEZmO/idSha1kEAe72c7vDulbgM3r2+4QWTrrStLTvvsI2JdANqMtilZ1EgWtfzT1tKBLlmw7LrrrisvvPBCdNneOzwOJxJdV26W0tyZBb/V7ctXix5Fz9upZFGG5aWivzul1e+++0R4kzRPKvDW6ZtuEiF5NNkpWdRIFnn90/rIgteVkyx4l9MhhxwS3a/EWcSaa64ZvSYuWYTyNfmdyrW6TiWLMmxcp+l4nfWkQSnOs2iRyKGHVpabNtxQ5OKLRbgM1SKnZFEjWeT1T+uShb0Mxd994O9C8FJA/oYFf++BziWLUL4WvVu5VNupZJHXICWXTgoIzWtWHqiuvNG8oZm/KMlBITewv/1tkVdfbXl7lCxqJIu8/mltsliyZInsu+++XRvcRx99dPTLdnxbZsyYwW9SRi/OrFmzZPfdd+96iUL5ujK0QaBTyaIdDG1e/ztt8FpXmsAjr1dcITJkSGXJ6dOfFlm4sDDNU7KokSzy+qd1j86eddZZXUdneR05Lwzkhvbxxx/f9dsV/I0K/qoej9pygzuUrzBvWwaKdCpZELqyL+HkNSvP4LVqvYjbbxfZYYcKSYwfL/LPf7ZeJ0cDJYsayYL4lf2f1nkHSvXYyWRRqo7yKKszCw8ojz3GH6+pkMSIESL8QbMWbF57NOsRpWRRB1n0QFEjmoaAkkXToM68orxm5Zkr2gyBvCr8a1+r3AjLq8PPPFMkPvHYjOrrqUPJQsminvemZWWULFoGfSYVd/ysnIRwxhmV35bgQZUjj2zoNyYy6ZSUQpQsYrIwvzqXEjfN1gIE2EdKFi0AXqtsHAEuLXGJiUtNPKDCpadHH21cbhMlKFkIDxwslKVLl3b9TGkT8deqUiJAomAfmd8KT1lMsykCrUeAm9XctCZJcBObm9kldEoWwu+5vBcZIY5a9VNcDEgU7Ct1ikArEKh5CY3HXj/1qQpJ8DjsjBm53QjbDDyULJqBstahCCgCuSFQsxGvQ5OaNuf5BbpvfWv1jbAnnSTCL9qV3ClZlLwDVX1FoB0QqNfg12TEGwAq1bFfznovukiEV3PwSyWf/7wIr+xoE6dk0SYdqc1oPwTqNaBlQ6IRg5/KiGcASOIXCrl5feONlUv+uC+x114i99+fQa3FEqFkUaz+UG0UgQiBRgxo2SBsxOAnGvEMgQjpuP+Q2SK8LpwkwevDeY14Qb9U1ygcShaNIqjlFYEcEAgZJ8a3m2vE4DcLJ5e8h+BZuarPF2QVlecPEV14YUtvhG3GO6Fk0QyUtQ5FoEYEGjGgNVbV8uyNGHzXiHOAP3Bg5UqeNA1jedZPvOnzOeSY9sHN3pSTcLK81WugrOjbT2TaNBH+xGkHOCWLDuhkbWL5EGjEgJattY0YfJblwJ4kwQ/DSQbfxuarX62QhCmbSDQrV4pceaXI0KGVig46SGTBAltc24dbQRYzACwB8AhWu5MBPAtgdvyZvDoJ0wHMBzAPwH5W/FgAD8dpFwDoZaUFg+ZX5tq+Z7WBpUagEQNaxoazvWlH+KZ9jWDEsqHZG/Xo5u64Q2THHSskseuuIv/4R7fkTnloBVnsDmCMhyymeSz8KAAPAugPYCSABQD6xPnuATAhJombAUzylO8RpWTRKa92+dtZjwEtf6vTt6CR2VeoLGcXJJHIzZ0r8rGPVUiCBWbObNvN6zSot4IsaMBHpCQLzir4Me7WmCCGAJhrIgEcDOAy6zkYVLJI81poHkWg+AiEZgZdxj6hCaGyJIsdN10q8vWvi/TtK7L22iI//GHhb4RNaGpmSUUii6cAPASAy1Trxdb+IgCHWJb/CgBTAYwDcLsVPxHATdazGzwibuis4cOHZwaeClIEOgWBIs5yQrMDxldzvrL9sEym4Sx5d+DgytXh3NRYvLiaqI5JLwpZvC9eXuoN4LSYMGjwL/aQxRQAO3vI4kaXIXzPOrPomHdbG5oRAo3sDWSkgldMI3p1L7tKpuI3sgAjK0tOkyeLzJnjrbOTI4tCFrZdt5eodBmqk99ObXshELBPG9knh9KM4BttQLUZTbX0pPpZ9sBN7pZ/4L8iknh5s+1EbrstqUhHpxWFLLgHYdwxAH4dP4x2NrgXWhvc9wIYb21w2yeojKwevs4sOvp918bXiAANqk0QdjjN3kCN1XXLzrr5nQm7zlq+Q9FNmPvw5JMin/lMRfgmm4j85CelvhHWbV4ez60gi5kAngewHMAiAIcB+EV8DJZ7Fr8HYJPHCfEpKB6dtU88cd+Cx295Qop7G3p0No83RGV2NAK+tX1jvPOeWYTqbqhe3gj7ne+I9O8vsuaaIt/9blvcCNuMl7QVZNFjtN/MCJ1ZNOO10jraBYGkU0Mc+efpQnXXNaNZvlzkxz8W2Wijymzic58TeeaZPNVvO9lKFm3XpdqgMiFAg8uRMg0g/bwNcK3YhEb33MfI24XqZnxqx0v9/vAHkW22qZDEHnuIzJqVurhmXI2AksVqLDSkCDQVgVzX5DNoCfXzbW5ntm9QRceG8XnwQZEPf7hCElttJfK733X0l+qqwF01WcmiKkSaQRHIB4FMRs75qBbNcNzNZe5V1HL3UhaqkTCIU00zr+eeEznssEqh9dcXOf98kXffzUKdjpahZNHR3a+Nr4ZAXcaqmtA4PdM1+ZR1ps1WZCILtuGtt0S+9z2RtdYSWWMNkWOPFXn55WB2TagNASWL2vDS3B2EQMPLIFWwKrJBLjKR9YCVN8JedZXIsGGVJacpU0Tmz++RTSMaQ0DJojH8tHQbI5C3Mc+bjBrpmrzb3ohu3cr+9a8iY8ZUSGLnnUX+9rduyfqQHQJKFtlhqZLaDIFmjK7zXOZqpDtCRMbrkkgkNe0hNKJIqOy8eSIHHlghic02qxwj4wxDXW4IKFnkBq0KLjsCpRld5wS0S2QkCnfTu1kno7qa+OKLIt/4RuVG2EGDRH7wA5G33+5K1kB+CChZ5IetSi45AqHRNeM70bWUPJctEzn7bJF11xXp3Vvky18WeeGFTuyGlrVZyaJl0GvFZUDAHV2XkSiyakMzluV6vBP8Ut1114lssUVlyWn//UUefrhHtrwissIuL/2aKVfJoploa12KQJMRoLHLaumo6TOLf/9b5EMfqpDEttuK3HJLU9HLErumKp5TZUoWOQGrYhWBLBGod4SbpYH3GU/ONriXkcalbsN//iPy2c9WSGLjjUUuv1yEdzs12WWJXZNVz6U6JYtcYFWhikB2CPiMNGcL9skkfrOaH/eUUtZLR6zTlZlmkzvUBsZ3uddeE5k+vXIj7IABIiecIPL6613JzQ647TS37TK+E52SRSf2ura5VAiERrghY0ajZgx4qCzja3FmVmAMputXk5eoB2cNl14qwlkEBR9yiMjTT9eiXi55E3XOpcZiC1WyKHb/qHaKQI+RvGuoQ880dqlG9FUwpox+/Sp2PFRXtdF2iNj2x80io0dXhE+cKHLvvVW0aV5yFtg1T9v8a1KyyB9jrUERaAiB0Ag3ZLhNvDHgZlbAZ0MgtSjku3nW1GF8yk1ybhu2xUNyC/47IonXN95S5PrrC3kjbKPYJWFStjQli7L1mOrbcQj4Rrihkbox3vRp5LNwtkxf2Cx5JdVl2vA+PC+X4XBZgd7yEtaTb+JcGbzmu7n/joca/aTeSZemZJEOJ82lCLQUAdfY+b5N7RpyXrzKco06V679nHqm8vbb8sBB35fXMUjeQ185B0fLenip6/e1q81MGmmDISpb7zQE10id7VhWyaIde1Xb1FIEXMOehcH2NYhyqy0RZWGEQ3WkmrnwvqZf/EJk002jJafr8Ql5Px7vIgljwM2Sma+djca5S2CmziywaVS3MpVXsihTb6muhUeg2aPYkCE0BpF+o2TF8pyl2DJTzVruvFNk3LhKwbFjRe68M0hueRru0JJdngRV+Be1DgVbQRYzACwB8Ah6umkABMCGVtJ0APMBzAOwnxU/FsDDcdoFAHpZacHgWL606hSBnBAIGe+8jKFtwEPhLJZcSBhsAw0s/UQCevxxkU98okISnFFwZrFyZVTGd6oqFfE00F/N7pMGVC100VaQxe4AxnjIYjMAtwL4j0UWowA8CKA/gJEAFgDoEzPBPQAmxCRxM4BJQYawEpQsCv0+ll65rEex1Yx0nz7dR/whwqiHrKrV3aOzXnpJ5OijK9MQ3gj7/e+L8NfrYhcy2qmWs4yQOny2g4RpY8Nn+0uNVQmwjnrbrUgryIKme4SHLK4DsAOApyyy4KyCH+NIJiSIIQDmmkgABwO4zHoOBpUs2u0VLlZ7QgaxXmPtM3L2qN42gEnhWpdcQgbWrrsLef6+9bnniqy3XuVG2MMPF3n++a5kE8iaSI3cND71Zh+YmZHvgEAWM7A0upQ1T1HI4gAA58cW3iaLiwAcYln+KwBMBTAOwO1W/EQAN1nPwaCSRVlf1XLoXZORrdKkNMQTyuMSR61kFZJr5ETGd/gq+QT+nyzs+/7KsH3ffUUeeijYqmoygwVzSCiSLjk0LxeRRSCLgQD+DWBwbOFtsrjYQxZTAOzsIYsbgwwBHBE3dNbw4cNzAVKFKgIGAXcUy+d6XJqROGX79gFssqhnxJxUN+vcrf+98lfsHpHEIxglH+//R/nlL1YlNpPlqs2UEgVkmJjUvgyraStRRSCL7eINb5IEPysAPA1gk3gJSpeh2uqV08akRSDt6Dd0tJWEQRn1kFWo7vHDnpbr1zokIonF2EiOwKXSB8uj/QCWqeaoC/OZ5aB6dKtWR5r0UPvStCGN/HbMUwSycCcE9sxitLPBvdDa4L4XwHhrg3uyK8j3rMtQ7fgat2eb0o7Ek0bJ9RhnlnEJaBBelx/2PUGWrzFA3kF/OQ3TZW281m3TmHoYV0u9teQ18hv1WWdRZjmNtqVZ5VtBFjMBPA9gOYBFAA5zjLpNFkw6IT4FxaOz9okn7lvw+C1PSHFvQ4/ONuut0XqahkAaQxoaJdPg12oQXSPaGyvkS7hcXuj1vsq+xGc/K/817KluJGGWvMyo3JXB9NBSWC15swY9DbZZ11lmea0gC4cbmvuoM4syv67N0b2oRiSkV+g3JtzZgWvUXTQp3z6Kuy9ulYewbUQS9/TfTYS/XCeVZa0kEgqRlyETu95a8trlNNx8BJQsmo+51lhgBGgwkwxhq1QP6eU7AsrlIB+BGLKwl4tMe2z5o/CI/BH7RyQxH1vIJ3Gd9EL3zWvmp6GnLPp8No5xpi7Xd8uE8vp0NPLVbw0CShatwV1rLSgCRR3phvSyZwK2YWb+UBnGu45xG+MFuQRfjm6EfRnryjE4W/phWerNayMzVK9LDCTlWmc/pg71m4+AkkXzMdcaC4yAa9CMAW71SDekl9HP9Znfni2YdO/ewdtvy3T8QF7D2tGNsOfhG7I+XuyaHXjLBPqQdfoIIKR/Pfsqgao1OmcElCxyBljFlwuB0KjYNxpvZstCeiXNLKifWS4iWZi8lBUtG/FG2F/9SoTfPQLktzhQtsK8LpIwZaK8KRrLfO4SHmWstVZ4WcqQGnViuEu3FPVpluYioGTRXLy1tgIiYAwqjRVHuu6X3GoZWefVPJ8hpl6+PQvqz3YY4+vLs3f/f8jSLXepWPGddpLb/ucvPQx9re0OEZrB1cxubJ9l1JUDASWLcvSTapkTAj4jzFtQbWPLPEnOJZtQWTtfPSPoUHk7nnW714nTWBsDvQXmy7WYEkU812eYyFVXRTfCsn22nHr0s+sx9RmfermzjlrJKKkPNC1/BJQs8sdYaygwAqHRcNoRLw2sa5yNgaRvDGLodBKNKNOMHu5SEeUzj5HJMONCzsgx+Y2/Ll6WH+FYeRdryBtYS/4X35OBeKthgrD1CNVNHUgkjZKRXZeGm4+AkkXzMdcaC4RAaDTM+DTONuTGMLs+84TqcfPazyShvn1XE4VJY3yIMNx6+uI9OQrny4tYX1ail/wEh8kmeC4iH+qV5WifOrn1G53Tkm8azDVPaxBQsmgN7lprQRAIjYbTGjdjDJvth/Rb3Z5VcgB+J/OwVcQ2t+HDsj1md81QSBIhogvJTtNlvhmUmV2lKa95iouAkkVx+6ZQmpV5CYG624aRYTMyp9/I6LrZJGHq8818TDt3wn3yF+wRkcQcbCOT8AcBVnURBZe6mDc0C/DJruVlpGwSDuXQ57O68iOgZFH+Psy9Bfxnb8Sg5q5gQgXU3benwBNDxojRd42bL85XjU1CxpDbftII3s5Xa9gd/VPf9w94Rn6Gz0XLTUuwoXwFP+66EdaWb8iAMux4E3Zl+9rdzDi2zcbZJvtm6tHpdSlZdPobkKL9ZTEqvqaEdKdhDBlFGqe05Mi87lFb2+gy3SfP5EnyU+9ZvPGGnDf4u/IW1oxuhD0d35F18KqXCOx2+/RiuxlfFEddqpF9UXRtdz2ULNq9hzNoX17LFRmoVlVESHcaTTPCdoWECCaJXJhGefR9xpZxJg9HxvyY/HWfhlqxQuSnPxXZZJNoinA1PiOb48kgSRhi2mefsC4+3V18mvlMzIzers+0rJzdP6E+zKqusspRsihrzzVR79A/bJb/rHk1J6Q7DU9I/xDBhMglL90T5f7pTyLbb1+xpBMmyMc3+VfQqLpG1m1f0WYTdrtdXe22ZNUfJIq0M0lbt04LK1l0Wo/X0d6y/TPZo0SO4Hv37jk6tfcsXEhCBBMiF7d8rs9z5ohMnlxp0MiRItdcI7JqVd1LXcb4sm02buY517akEB7qiySyTyG2W5ZQHYxXtxoBJYvVWGgoAYEiGhKfuj5iIzHY9xP5Nkjt9jHd3Ycwo287XzWDauelTH44Gq5Wzm6XkbExFsvPB31VVvbuIzJ4sMhZZ4ksW2Zn7WHsWZ8hgzR+EUfXbH/eexah2UtWM5dunVTiByWLEneeqt4TgXpGiTRIrqGkgXKNey3fIfDJtA22IZ+eLVgdQxnrrfmOfBs/lFexjixHH/lx36/LtZcsjTIxne0NEZBPh5BhNN8ct3VkmPJb7dgOm/gYZlxWrp53Jqu6yyRHyaJMvaW6VkUgZAyTRolpjAWNU0i2bVCZLySvJkO8apV8fcOZ8iQqO7w34GPyATwWzRQon/W4BOcjIKMPdWc5Ep6vnKubefbh5srkc5ldWizL3MYsdFeyyAJFlVEYBEKG2oxGmW4MpzFyIRKwDWVILo2qyeczOsbohnyjQzcA77pLZNddozWk+7Gj7IU7ui0nGf19MqknHeX62sp43yg91D4jz+jna6OPpEz+svghvMqifzP0VLJoBspaR9MQ4D+9u99Ao8plFnft2xi5NIbSZ5hNnDGoITkmn883OkQALVggctBBlY2GIUPkuA2ulN5Y0Y0oKIP1JBFcyKCHZhXMHyrDeNvZRGO3x2Bg59VweyHQCrKYAWAJgEew2p0K4CEAswHcBmDo6iRMBzAfwDwA+1nxYwE8HKddAKCXlRYMjh07tr16UFvTA4GQQbONmwnTyFUzlEyvZpypRCiPqSvkb7fZKyLTplVYjuxx8skib76ZqFeImBgfSqu2L8F2sizbQQz5YZhxTOMn1AbmU9feCLSCLHYHMMYhi3Us6/4NAJfGz6MAPAigP4CRABYA6BOn3QNgQkwSNwOYZMkIBpUs2vuFZutqMdrGyNmG0hhHg1TI+NJw2kdwk/L5jCxvhD0SF8pSbBBd0fHL/l+QoXi2yziz/pBejCev2HLNLKWW9pvypq2mTp/sJBJm29W1NwKtIAsa8hEOWdjGnTOJS+IIhvkx7taYIIYAmGsiARwM4DLrORhUsmjvF5qtq8VopzFy1Ywvl7dovPlxl7qMMe7ur5KP4vfyGD4QWfvbsbfsgAe8hj+pt0JEEi7ltlsAACAASURBVGp/aGbB9lGWcUmk0L0dq8nKLm/kqN9eCNRDFn+MjX3QIKdI8JHFaQCeiUlko1jGRQAOseRdAWAqgHEAbrfiJwK4yXoOBpUs2usF9rWGhssdGXMG4DPkNIzVDF3I+NqG05BONUO7I+6XO7BXZGVJFiQN+0ZYn0xfG5PifO0nHr6jv6Y+oz/Lmri0Ptusrv0RqIcsPgXgcQAnAFgjaJWTE3xkYUpwJnFK/HCxhyymANjZQxY3GgEe/4i4obOG88fp1bUVAjRwNHYcIdPnsx1HY2aMuO/b3Gb5JgQKZVWbXdCwJuUZikUyA5+Plpu47PQ1XCRchkoyyJRXr7PbbzChrFB9pi7mDeUhhu7hAXsZrl5dtVw5EKiHLGiL1wJwRryfMA3AsdbHY6t7RCWRxebWEpUuQ5XjPWqZljSK7izCNv6+dJ8xpJFMcr4yaeIG4k05CSfJmxgoy9BPzsC3ZDBeCRpkW2Y1nZL0DaWFyMDUlUR4nJm4szOzBBeqT+PbB4F6yaIfgBPjfQPOAk6yPj2YwRPhksVWVp6jAFwXP492NrgXWhvc9wIYb21wT7ZkBIO6DNU+Ly9bUs34hdJto+yGOYImydiuVjk88vp5zJBnMSQaqv+236dkBBamIgnqQyNM48x6acDpuzrZ+qUN+8jTJtdQOwcNqo51Wh00XzkRqIcs9gfwKIAfAhgYtMrhhJkAngewHMAiAIcBuD6eTfD4LJeThlnFudzFU1A8OmufeOK+BY/fMo17G3p0tmTvIA1Xo8YwNBI2yyqhdJcg3Gd3xOwzsm4Z87w3bpcHsENEEvf1Gy+3nHhX4hKVKWf7/O1tdxRvG/VGujoJd6a5S03Uy9XF1tVg3YhOWrb4CNRDFn8HwBF/KZ3OLIrxUvqMbz3GMDQSZjxdKN02dqGwkWEQM0Y2lJ/XcfweH41I4pk+m4v8+tfRjbCN6mHXxxNNNM7Ujfrk4cz+jl0vw6HTVC5OeeikMluPQD1kUUqSMEorWbT+paMGISNeq+GpRjq+dI6c7VtoXaNont0Rs00W9oxlQyyRC3FkdNEfL/w7YY0z5OoZ70RAh8qYOhrx05Crqb8WgrHb5urHOu24NDoU441TLRpFQMmiUQS1fF0IhAwS42t11Qyim+679sI2gCZsExdluIZyAN6RaThTXutVuRH2YnxNdtp0SdeI31cm1G5TZ62+raOLm6/+NMY9ichdLPmsrjMQULLojH4uXCtDBqkZyyyhul1DbRvC7mVWyUG4RhZiRGWY/ZGPiDz6aA+Mu5dZPSIPLefY9XP2k7RPYPImkWuofsYnuXpJJkmmppUfASWL8vdhKVvgM0jGABo/zSi4nsanGd1z3d52psyu+JfchQmR5Z+N7eXD+JOdLQqzbSFDbdqW5LMsZaSRk2T4jc5uXUkEYxpj6mZeo49JU78zEVCy6Mx+L0SrbYMUGm0nGcN6G0GZrgG1n30ktduwJ2UmPh0VfA6byBdwRXQjrKsf2+QuV9myGa6lrUnyfHramITa6epsl2lF2H4PqBuf1RUPASWL4vVJR2rUyCi4VsB8BtjU38NYvfqqPPLRb8s76C9vYU05GSfKWngjIhufsQ4ZaEMYLOPbM/HJYrtC8kg41Yyqr52hemrFMKv8ZdAxq7aWXY6SRdl7sMT601DQGNJQJ4227Xw9jHmd7Tcy7ZE+ZdOQcwmqD5bLV3GxLMWG0RUdV+JQGYZnesxIqDfLGGdIx5CD7du6m/qZ3443cowfksf4NM6th7qyvmr1ppGdRR7qYmNkwoxXVywElCyK1R8dow2NGEe5xjj4fBq0ffbpmS+r0bFfh1UyGTfJo/hgpNyfsafshPsS9aTuhjCyNn5ZyvO1Nyss631xGyXDeuvVcrUjoGRRO2ZaIgMEQkbQJY2QMfGNPN1RNJ+TnKvD9pgtf8I+EUnMxdbyMdwQvBHW1ZMzDDqfQWYbDJkk6eNL88mjga9nhuC217TBh6VPlzziiqhTHu1sB5lKFu3QiyVsQ4gEjAGr5rO87UJG1UcYjLON1BA8Kz/FF6PlphexvnwdF1S9Edann9GHhtxtXyMjeKMvZVJvzrbqke+WMW1gfKtcLf3WKh213goCShb6JmSGgGvU+BxytrE2RqsW393gDcljvO1s48QbYb+LU6IbYd/FGnIWjpN18XLVJSefnmZmwbrS6mLrlTZM/UNG322rKzNPvdy6anmu5b2pRa7mzRYBJYts8exYabYRNsbUN5o2hoF5QkbPlDd+KJ8tP5SHMmgkmU6fm9e9sFI+h5/JIgyNlpx+g6myBebXRRJGR3uZKaQL4+kMBkYnPqd1IYNPPYz8kKy0fRQqr/GdjYCSRWf3f2atDxkxxhvnM1bG2IZ8sz7Pkbsvj5Efqt813Hviz3IfdoqE3Y1d5L/wD69cUxfJxewPmDjX5z1TtgvpQlk+DGzSs+X4wm57bF0MFr5yJo71M189RGVkqN+ZCChZdGa/Z95q22jZYXu0GzKidn47bC81hYykkU8j6Lta28jbGnPldzggIomnMFw+g6ujGYZJ9/nG+BoDyzyuHj5DH9KF13eQMJLqqtYxIQypF+tVpwjkhYCSRV7IdpBcGinXiBqDaAwu4QjlSWOEQ0bSyKcOvruU1seLcj6OkvfQV17D2vIdnC4D8LbXYBud6RsSoFyG7TTTDtYdMtAhUrDl2GHKTONC+tjLYEYO81JHyk7S1eRXXxFIQkDJIgkdTUuFAA2RbfhMmEbKNqahfMaQ0WcZGlp+bCNXzUi6svthmRyLH8nLWFdWoLf8GF+RjbC4h56sg78CZ3Smz7qN3q5ck4/xSY5yTd40fjV5dl1pSMCHlyFAW5aGFYG0CChZpEVK8wURSDKMdqE0BiwpT9KR1NU6rJIpuFbmY4vIWv8Bk2QUHkk03O7MwTaqq+V2N/6MT3IhkgkRh29mkCS/Wlqo/lpIqVodmt5ZCChZdFZ/59LakGGiQaXxtx2fmZ9p9N30kCzGJ6VxNrAL7pa/Y7fIqj+I7WRf3JpIEjTc9W6cU5ckx3aFiMEXX01eUl2+tHpJzidL4xQBIqBkoe9BwwjQMIaMU61GMCSH8aG0zfGUXNfv4Mg6P4/3yWH4SXQjrG2UqaNvBmHnccOGnNx67ZkH5TIf89Dns3EkMFdm6Jnla3VJdRvd3foYr04RqAcBJYt6UNMyPRBwjZJ5rtUIJhk5N21tvCY/wPGyLL4R9nv4XxmE13sYaPOFOZ9xdWXaepswfUMYzG8Igb6PgOyjtqackeU+m3jKTeNMG2ydjAyXxHy6Gd3T1KV5FAEbASULGw0N14UADVC15Zy0gkMGmPEmjTfCfhmXyGJsFA3d7976/8r4YU/3IAljRJP2A4xMk9dnhE2aa9DrIRrqUq8R9+lqdDO+rSPz85kERZ/P6hSBehFoBVnMALAEwCNY7c4CMBfAQwB+C2Dd1UmYDmA+gHkA9rPixwJ4OE67AEAvKy0YHDt2bL1YaTkPAtUMmH2yyFPcGxU0cqtWyYWT/yiPYFREEn/BHjIGsyLj6zPCNKC8R6mac+szhtf1aXRtF5oluOX4nIURpwyfbDvO1dHWV8OKQCMItIIsdgcwxiGL/wbQN7bwZwDgh24UgAcB9AcwEsACAH3itHsATIhJ4mYAk+L4RE/JopHXpWfZNAbMXh7pKSFlzEMPiey7b2QtH8f75UD8ttuNsNSDhGFmOPSTZhRJtYbaxHjbhfLZxtuEszDiacjJ1dHWV8OKQCMItIIsaMxHOGRhG/hPAPhVHMFZBT/G3RoTxJB4JmLiDwZwmXlI8pUsGnldepZNY8BoMOs1Ytdd9LxcPehL0XclXum9nnwD58kaeNc7wg4t77gzBz4nOaaHZNnlfPlCeNTbfru+auSUCSnbFWpYEbAQKCJZ3AjgkNjgX2SFGXUFgKkAxgG43SKFiQBusp7d4BFxQ2cNHz7car4GG0WgmgGre2T91lsye+qp8gbWEt4IezaOkfXwUtdGs5Fr/JCR5jJYGsPv4pCWYNx8vuWwrIx4EjmxH5iuThHIC4GikcUJ8Z6F2X+42EMWUwDs7CELkkxVpzOLbF8lnwEzBtz2U4+sV64U+fnPRTbdNFpyug6flC3xhHcmYcuvNZxanzrgcgkkSyOep+w6mqpFOgiBIpHFoQD+BWCgZfF1GaoEL6NtwDiSd+9oSj2y/utfRXgAgZZ/3DiZiL9lThKGVDgTUacIKALpESgKWewP4FEAG1lEweBoZ4N7obXBfS+A8dYG92SnrPdRZxbpXw7mtIkgzVIH89tfRmOYSzMsSwNtZNhy9xj6uDw99uMVkthss0qlK1dGeY1xr8cnSdm62DKynFnYbTHtqw1lza0IFB+BVpDFTADPA1gOYBGAw+Ljr88AmB1/LrUsPZemeAqKR2ftE0/ct+DxW6Zxb8MsXVlFewaVLNK/lDSCtaz3+/LbBtqEOfPgdeLcgzgX34xuhH0dg+SBg04TefvtLgUpz52l8Ll37wqvGHkhnyTl0yn1TKdLk3Agb/nhmjVFEWguAq0gi54WvIkxShbpXzCOkn2G2Dcqp9E0x1Z9Zew4nmY6Gud03Qh7KY6QjfFCjxNTlOn+RgWfR1W+ZuHVrVs9a1TIgnKosz2zSY9Ccs5aMEqWpKmKQLERULIodv+0VLvQCSMaZNv5Rte20V4dXiWfwPXyBLaMWOhm7Cej8XCX0Xf3EUKGOEmv1XVViI7LUHm6kC5uW/LUQWUrAs1AQMmiGSiXtI4kY23vQ6SZUYzDPXInJkYW/GGMlv1wcxdJGAPP+owjAZn4Rn0jMw8/hBExYRsacXnOiBrRS8t2JgJKFp3Z76laTWOVNHJOY8Q3w3/kF/g/keV/ARvL4bhMBvRd3mN5yd5HYL3uXkmaukJ5fI3NyhAn6Wq3yadDUpxPbiPykurSNEUgDQJKFmlQ6uA8IQNcLZ63v34f/yNvY0D0OQ3/I7wlliNxGsIkYx0arbPOEHmFNr19y1BZG2LKC82u7NlSLa9RCIN65dVSt+ZVBHwIKFn4UNG4LgRCRitEFrwRlrMHziK4jsRZxYRh/6lpSSZECKzT9w3pUH5uhtOQuy7UpkYMcUgHxtfjspZXjw5aRhGwEVCysNHQcBcCZuTvG82HDNmk3rcI9yNIEou3/pDIPfd0yaslUM2Yp9GNMnxEQT1C+tdr2Cmzms61tD8PebXWr/kVARcBJQsXEX2OjKy7Z2AMLI2iO7rniabbeu9X2ZHeckuR668XWbWqbiRp5N36fev19RroesslNSitzkky7LSs5dmyNawI1IOAkkU9qLV5mTTGlMZs7KYvyGU4IroRdtnAdUXOOUfk3XczQYfyqQdJij6fXWcIzF0SqzZDyMsQp9HZbUPSc9bykurSNEWgGgJKFtUQ6sD0qkaY37I+7TSRQYNE+vYV+eY3RV58sW6k6jWKIVLjZnMSyVDReuusu5FaUBEoOQJKFiXvwDzUDxnhEcNXVqws72/icP7jHxeZN68hFWi00yw5+SrxlXVnGb7lK58sjVMEFIFkBJQskvHpyFSfEf5w/7/J0i12rpDEmDEivCE2AxciJsbbLjQTsOPrOb5ql2edfFanCCgCPRFQsuiJSdvG1GIYTd734wn548BPVkhi2LDKb03wNycyclWXvOIlo2qzD+rrzirMc2gPg2Wqyc2omSpGESg9AkoWpe/CdA2o2TC+/LLIMcdUrn1day2RU08VeeutqpUZkqm2Z2AEpZlZVMvDOt0LBw1R0HdnKbXUbfLW2i5TTn1FoF0QULJol56s0o5qBrerOE8znXeeyHrrVe4C/9KXRJ57ris5KVAzIaWcNVSbfYR+s4JEkbRnUU2uaWs97TJl1VcE2gUBJYt26ckq7ahqGPm9iN/+VuT974/Wc+4csK9sjweDx1Z91aUmJKdwaNRu4u1Zgh02MwY7zg1TRsil1TdtvlA9Gq8ItAMCShbt0Isp2pBo8GbNEtl994gkXh26jXy8/x8FWNW1B5A0OrerrkpIduYqYd9o3iYCWyc73g0nVeOrw5ZrymbZLiNTfUWgbAgoWZStx+rU12cYtxrwtCz40P+t7AxvtJHIJZfIFsOXd5GEbXjNKD6p+kRCSiroSQvJok5Ms2cMoUsEGV/NUQ7lkRBcuaZsSBfGq1MEOgUBJYtO6Wnri2hr43U5f/D/yvI1Boj07y9y/PEir70WIdHIKNpHSGaknsYo211Rix42qblhW2a94aR21StTyykCZUNAyaJsPdaIvitWiFx+ucj73leZTRx8sMhTT3WT2Ogo2kcKaY2tXbaW70w0qnM3AAIPtm6sj8/qFIFOQkDJolN6+7bbRLbbrkISu+0mcvfd3panNezewoHIkDG3l5R89bqzBDNLcavxlQ3lNWVZhnolLT+ZvOorAooATQdmocluBoAlAB6x6j0IwBwAqwCMs+IZnA5gPoB5APaz0sYCeDhOuwBALystGBw7dmxn9fucOSKTJlVIYuRIkWuvrXojbD2GNKlMaEnJkAENe+j4a5p7ntihSfW7Hc68rNPUT78aubgy9FkR6DQEWkEWuwMY45DFNgA+AOCvDlmMAvAggP4ARgJYAKBPzAT3AJgQk8TNACYFGcJK6BiyWLxY5CtfqfyE2+DBIj/6kciyZbm839WMb9LMwjbYvjCJxudqIQe3fEgfxqtTBBQBPwKtIAua7hEOWRhz7pIFZxX8GHdrTBBDAMw1kQAOBnCZ9RwMtj1ZvPOOyOmni6y9duVG2KOOElm61N/7GcVWM74+MvERgy/OZ8B98mqZGYRmOiFiyggmFaMIlBqBopPFRQAOsSz/FQCmxrOP2634iQBusp7d4BFxQ2cNHz681B0WVJ5fqrv6ahG2j1b3gANE5s71Zm9kVO4TmMb4mjp9hMA4LkOlXRqqRk4+He24RsvbsjSsCHQKAkUni4s9ZDEFwM4AXLK40WUI33Nbziz+8Q+RXXapkMROO4n8+c/B97fRUblPcC3GN6l+QygkH8rks8+lISdfOROXpIPJo74ioAh0R6DoZKHLUN37q/vT/PkiU6dWSGLoUJGf/Uykyo2wtRj27pWFn2o1vmlJIVRjFm1oVIeQbhqvCLQrAkUni9HOBvdCa4P7XgDjrQ3uyb6ZhBvXFjML3gh73HGVG2G5dnPKKSJvvpnqHa1lVO4aVP72Ng21b+Tv5uVzXo6y0y5Z5aWDylUEOg2BVpDFTADPA1gOYBGAwwB8Ig6/C2AxAG5kG3dCfAqKR2ftE088Ysvjtzwhxb2NUh2drcu4vveeyAUXiKy/fsVif/GLIs8+W9M7m3ZU7jPI7n5DLZvKtSiZBps0eWqpU/MqAopAMgKtIAtDAi3xizCz8BniRMPLzesbbhDZeuvKktM++4jMnu3t2WpGNG3dIVJxCYP5snRp9cuyTpWlCCgC1RFQsqiOUeY5QobYa3jvu09kzz0rJPHBD4rcdFPwS3VpDW01QmGDQ8tVLlkwX5auJmyyrFhlKQKKQCICShaJ8OSTGDLE3QzvokUihx5asdobbihy8cUiXIZKcFka2pAslyy8BJegY7WkVNhUE6LpioAikDkCShaZQ1pdYMgQR4b3jTdETjxRZM01K78V+u1vi7z6anWhVWYDqQRYmXyzFJcoEpfOLFkmmGZGk4iNEaS+IqAINB0BJYumQ175/oB7mmfQmivkn4dfITJkSGXJ6dOfFlm4sCbtQoaWo3Ua6lqda9yTTkNVk+0jHx/ZpM1XrT5NVwQUgWwRULLIFs/U0mxD/NmN/yQvD9++QhLjx4v885+p5dgZKTO0jBPNWuzMTQ6HiMynl40N0/msThFQBFqLgJJFK/F/9FGRj3ykQhIjRohcc01w8zqtmu5SkXnuth+SVliG+UIk1mq9MmyiilIE2hoBJYtWdO+SJSJf+1rlRth11hE580wRXgCYgatlBJ9BdalFFFWv1A3QjIpAhyOgZNHMF4CEcMYZIiQI/lDDkUeKkDgydFyycfdDfHsDGVaZSlRR9UqlvGZSBBSBlvz4UUu+jGcqbcmX8vilupkzK3dlcF3oYx8Teeyx3F6/oq75F1Wv3DpCBSsCbYSAzizy7kxuVnPTmiSx444id9yRd40qXxFQBBSBzBFQssgc0lggj71+6lMVkuBx2BkzRFasyKs2lasIKAKKQK4IKFlkDe8rr4h861uVL9Rxs+Ckk0T4RTt1ioAioAiUGAEli6w6j1dxXHRR5SffeB70858X4ZUdGThd688ARBWhCCgCDSGgZNEQfFL5XsSNN4p84AOVJae99hK5//5GpXaVb9UpIiWori7QgCKgCAjNG2aZg0Id4Wd6GuqBB0T23rtCErw+/Pe/b/hLde5b2YrvJ7SKoNy267MioAgUBwEli3r6gj849IUvVO7W2GADkQsvrHojbD3VsEwrvvncCoKqFx8tpwgoAs1BQMmiFpz506Unn1z51lu/fiLTpolwQztHFzLc5Ki8XCsIKq+2qFxFQBHIBgElizQ4rlwpcuWVIkOHVpacDjpIZMGCNCUbzsMloTXWqFRr7nmiT65iWh4uRFCMV6cIKAKdiYCSRZp+J1mMGSOy664id92VpkSmeTiLsInChPMy3rpnkWn3qTBFoC0QULJI242LF2e+eZ226lYsC5EwSEasm35es5i0GGg+RUARaC0CrSCLGQCWAHjEOn61PoA/AXgi9tez0qYDmA9gHoD9rPixAB6O0y4A0MtKCwYzPQ3VpL6jsTazCdvPa2bRpGZpNYqAIlAiBFpBFrsDGOOQxZkAjo8tPP0z4vAoAA8C6A9gJIAFAPrEafcAmBCTxM0AJgUZwkooI1noslCJ/qNUVUWgTRFoBVnQdI9wyIKzhiGxTafPZzrOKvgx7taYIJhnrokEcDCAy6znYLCMZMF3T5eF2vQ/UJulCJQEgaKQxauOdX8lfr4IwCFW2hUApgIYB+B2K34igJusZzd4RNzQWcOHDy9J16iaioAioAgUB4Gik8XFHrKYAmBnD1nc6DKE77msM4vivDKqiSKgCHQiAkUhC12G6sS3T9usCCgCpUGgKGRxlrPBzQ1vutHOBvdCa4P7XgDjrQ3uyXGZRE9nFqV5N1VRRUARKBACrSCLmQCeB7AcwCIAhwHYAMAd8dFZ+jxKa9wJ8Skozj7sE0/ct+DxW56Q4t5G2x6dLdD7oqooAopAhyLQCrIwJNASX2cWHfqma7MVAUWgIQSULBqCTwsrAoqAItAZCChZdEY/aysVAUVAEWgIASWLhuDTwoqAIqAIdAYCShad0c/aSkVAEVAEGkJAyaIh+JIL6xUdyfhoqiKgCJQHASWLnPpKL//LCVgVqwgoAi1BQMkiJ9j1WvGcgFWxioAi0BIElCxygr0VP1iUU1NUrCKgCCgComSR00ugM4ucgFWxioAi0BIElCxygl33LHICVsUqAopASxBQssgRdj0NlSO4KloRUASaioCSRVPh1soUAUVAESgnAkoW5ew31VoRUAQUgaYioGTRVLi1MkVAEVAEyomAkkU5+021VgQUAUWgqQgoWTQVbq1MEVAEFIFyIqBkUc5+U60VAUVAEWgqAh1HFgCWxo2epT6eUgxgvweKB7rhQWwUk+6YdDIetJ3qOhQBGgN1qxFQPFZjYUKKiUGi4ise3fHQpw5BQF/87h2teHTHg0+KSXdMFI/ueOhThyCgL373jlY8uuPBJ8WkOyaKR3c89KlDEDiiQ9qZtpmKR0+kFJPumCge3fHQJ0VAEVAEFAFFQBFQBBQBRUARUAQUAUVAEVAEFAFFQBFQBEIIDABwD4AHAcwBcEqccX0AfwLwROyvZwmYDmA+gHkA9rPixwJ4OE67AEAvK60swRAeJwN4FsDs+DPZalA742Ga2QfAAwBuiiM69f0weNB3Men0d8TGRsNtiAAN+qC4XWsA+DeA8QDOBHB8HE//jDg8KiaW/gBGAlgQ/9MwmaQzISaJmwFMisuUyQvhQUMwzdOQdsfDNPlYAFdbZNGp74fBg76LSae/IzY2Gm5zBAYCuB/ArvGsYUjcXvqcRdBxFM2PcbfGBME8c00kgIMBXGY9lzFo4xEyBJ2Ax6YA7gCwt0UWfB86+f3wYdLJ70gZ/79V5zoQ4HSayytvWjOIVx05r8TPFwE4xEq7AsBUAOMA3G7FT7QMixVdiqAPDxoCXtvwEIAZAMyyXCfgcR0ALjHuafVpJ78ffIl9mHTyO1KKf2xVMjsE1gXwFwDbAggZg4s9ZDEFwM4esrgxO9VaIsnG433xcltvAKfFhEGl2h2PjwL4cYx+GrJodzwIRQiTTn1HWvLPqZW2HoGT4rX5Tl9mMD1h8DDP9EcAeCSOaPdlqNMBLIpnVS8AeBvALzt8mTKESae+I3a7NdzGCGwEgCNoujUB/D0eOZ3lbHBzQ5NutLPBvdDa4L433hznJjE3uO0TQ3HxwnshPMz6PBtwDIBfxy1pdzzsDrNnFp36fth4MGxjou+Ii44+txUC28dHIrkWz9HyiXHrNog3NXl0lpubPCpp3AnxKSjOPuwTT9y3oAyekOJafhmPzobw+EV8LJg4/d7a3CUm7YyH6XP6tmHs1PfDxsPFRN8RFx19VgQUAUVAEVAEFAFFQBFQBBQBRUARUAQUAUVAEVAEFAFFQBFQBBQBRUARUAQUAUVAEVAEFAFFQBFQBBQBRUARUAQUAUWgYQQ2A/CkdZyZV4/wefOGJasARUARUAQUgbZC4NsALo9bxAsb7csd26qh2hhFQBFQBBSB+hHgdfL8guDR8e+Q9KtflJZUBBQBRUARaGcE+MNTAmDfdm6ktk0RUAQUAUWgMQTOA/BcfFdVY5K0tCKgCCgCikBbIrBjvPw0HMDTzl1VbdlgbZQioAgoAopAbQjwgsZ/WctPRwH4VW0iNLcioAgoAopAuyNwBIBrrEbyl/3uA7CHFadBRUARUAQUAUVAjj6knwAAAFdJREFUEVAEFAFFQBFQBBQBRUARUAQUAUVAEVAEFAFFQBFQBBQBRUARUAQUAUVAEVAEFAFFQBFQBBQBRUARUAQUAUVAEVAEFAFFQBFQBBQBRUARKDgC/x/qJunJM8A7/wAAAABJRU5ErkJggg==)\n",
        "\n",
        "\n"
      ]
    },
    {
      "cell_type": "markdown",
      "metadata": {
        "id": "OxeA03DBtI4c"
      },
      "source": [
        "Garis merah pada grafik adalah hubungan sesungguhna yang ingin diestimasi. Kita berusaha untuk meminimalkan kesalahan model yang kita bangun. Garis ini adalah garis yang paling tepat menggambarkan hubungan antara X dan Y dengan melewati sebagian besar titik data dan memiliki kesalahan yang paling minimal. Kesalahan ini berupa jarak titik data ke garis estimasi model ini. Secara konsepual kesalahan ini diilustrasikan pada gambar di bawah ini.\n",
        "\n",
        "![image.png](data:image/png;base64,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)"
      ]
    },
    {
      "cell_type": "markdown",
      "metadata": {
        "id": "0fLuqGWRtw35"
      },
      "source": [
        "Dan kesalahan total model linear adalah jumlah kesalahan dari setiap titiknya, yaitu:\n",
        "\n",
        "$$ \\sum \\limits^{n}_{i=1} {\\epsilon_i}^2 $$\n",
        "\n",
        "$ \\epsilon_i $ = Jarak antara garis ke titik data ke-i\n",
        "\n",
        "$ n $ = Jumlah total titik data\n"
      ]
    },
    {
      "cell_type": "markdown",
      "metadata": {
        "id": "Z9o5txch_A1I"
      },
      "source": [
        "Formula di atas diperoleh dari:\n",
        "\n",
        "\n",
        "$$ \\begin{aligned}\n",
        " y_i & = b_0 + b_1 . x_i + \\epsilon_i \\\\\n",
        " \\epsilon_i & = y_i - b_0 - b_1.x_i \\\\\n",
        " \\sum \\limits^{n}_{i=1} {\\epsilon_i}^2 & = \\sum \\limits^{n}_{i=1} (y_i - b_0 - b_1 . x_i)^2 \\\\ \n",
        " \\end{aligned}$$\n",
        "\n",
        "\n",
        "Pada baris terakhir persamaan di atas kita **mengkuadratkan kesalahan yang berupa jarak anatara garis estimasi dengan titik data**. *Kita dapat mengkuadratkan masing-masing jarak karena terdapat beberapa titik di atas garis dan beberapa di bawahnya*. Kemudian, untuk memperoleh model terbaik jarak tersebut dapat kita minimumkan. Misal $ \\sum \\limits^{n}_{i=1} {\\epsilon_i}^2 = J $"
      ]
    },
    {
      "cell_type": "markdown",
      "metadata": {
        "id": "L4jg43VFxeUA"
      },
      "source": [
        "Ide Dasar Metode OLS: **Nilai minimum dari fungsi kesalahan** $ \\sum \\limits^{n}_{i=1} {\\epsilon_i}^2 $ **terjadi saat turunan pertama terhadap koefisien $b_0$ dan $b_i$ sama dengan 0. Ini merujuk pada konsep dasar turunan fungsi dalam kalkulus yaitu nilai minimum suatu fungsi terjadi saat turunan pertamanya sama dengan 0**. \n",
        "\n",
        "Konsep ini kemudian diperluas menjadi metode Gradient Descent.\n",
        "\n",
        "**Mencari nilai minimum untuk $b_0$**\n",
        "\n",
        "$$ \\begin{aligned}\n",
        " J & = \\sum \\limits^{n}_{i=1} (y_i - b_0 - b_1 . x_i)^2 \\\\\n",
        " \\frac{\\partial J}{\\partial b_0} & = 2 \\sum \\limits^{n}_{i=1} (y_i - b_0 - b_1 . x_i)^{(2-1)} . (-1) \\\\\n",
        " \\frac{\\partial J}{\\partial b_0} & = -2 \\sum \\limits^{n}_{i=1} (y_i - b_0 - b_1 . x_i) \\\\\n",
        " \\frac{\\partial J}{\\partial b_0} & = 0 \\\\\n",
        " \\sum \\limits^{n}_{i=1} (y_i - \\hat{b_0} - \\hat{b_1} . x_i) & =0\\\\\n",
        " \\sum \\limits^{n}_{i=1} y_i - n\\hat{b_0} - \\hat{b_1} \\sum \\limits^{n}_{i=1}  x_i & = 0\\\\\n",
        " n\\hat{b_0} & = \\sum \\limits^{n}_{i=1} y_i-\\hat{b_1} \\sum \\limits^{n}_{i=1} x_i\\\\\n",
        " \\hat{b_0} & = \\frac{\\sum \\limits^{n}_{i=1} y_i - \\hat{b_1} \\sum \\limits^{n}_{i=1} x_i}{n}\\\\\n",
        " \\hat{b_0} & =\\bar{y}-\\hat{b_1}\\bar{x}\\\\\n",
        "\\end{aligned} $$\n",
        "\n",
        "Sehingga diperoleh formula untuk $b_0$ adalah\n",
        "\n",
        "$$ \\hat{b_0}=\\bar{y}-\\hat{b_1}\\bar{x} $$"
      ]
    },
    {
      "cell_type": "markdown",
      "metadata": {
        "id": "nk98Vn1DFHnb"
      },
      "source": [
        "**Mencari nilai minimum untuk $b_1$**\n",
        "\n",
        "$$ \\begin{aligned}\n",
        "J & = \\sum \\limits^{n}_{i=1} (y_i - b_0 - b_1 . x_i)^2 \\\\\n",
        "\\frac{\\partial J}{\\partial b_1} & = 2 \\sum \\limits^{n}_{i=1} (y_i - b_0 - b_1 . x_i)^{(2-1)} . (-x_i) \\\\\n",
        "\\frac{\\partial J}{\\partial b_1} & = -2 \\sum \\limits^{n}_{i=1} (x_i.y_i - b_0.x_i - b_1 . x_i^2) \\\\\n",
        "\\frac{\\partial J}{\\partial b_1} & =0 \\\\\n",
        "\\sum \\limits^{n}_{i=1} x_i.y_i - \\hat{b_0}\\sum \\limits^{n}_{i=1} x_i - \\hat{b_1}\\sum \\limits^{n}_{i=1} x_i^2 & = 0\\\\\n",
        "\\sum \\limits^{n}_{i=1} x_i.y_i - \\left(\\frac{\\sum \\limits^{n}_{i=1} y_i-\\hat{b_1} \\sum \\limits^{n}_{i=1} x_i}{n}\\right) \\sum \\limits^{n}_{i=1} x_i-\\hat{b_1} \\sum \\limits^{n}_{i=1} x_i^2 & = 0 \\\\\n",
        "\\sum \\limits^{n}_{i=1} x_i.y_i - \\frac{\\sum \\limits^{n}_{i=1} x_i \\sum \\limits^{n}_{i=1} y_i}{n} + \\hat{b_1} \\frac{\\bigg(\\sum \\limits^{n}_{i=1} x_i\\bigg)^2}{n}-\\hat{b_1} \\sum \\limits^{n}_{i=1} x_i^2 & =0\\\\\n",
        "\\hat{b_1} \\left(\\frac{\\bigg(\\sum \\limits^{n}_{i=1} x_i\\bigg)^2}{n} - \\sum \\limits^{n}_{i=1} x_i^2 \\right) & = \\frac {\\sum \\limits^{n}_{i=1} x_i \\sum \\limits^{n}_{i=1} y_i}{n} - \\sum \\limits^{n}_{i=1} x_i.y_i\\\\\n",
        "\\hat{b_1} & = \\frac{\\sum \\limits^{n}_{i=1} x_i.y_i - \\frac{\\sum \\limits^{n}_{i=1} x_i \\sum \\limits^{n}_{i=1} y_i}{n}}{\\sum \\limits^{n}_{i=1} x_i^2 - \\frac{\\Big(\\sum \\limits^{n}_{i=1} x_i \\Big)^2}{n}}\\\\\n",
        "\\end{aligned} $$\n",
        "\n",
        "Sehingga diperoleh formula untuk $b_1$ adalah\n",
        "\n",
        "$$ \\hat{b_1} = \\frac{\\sum \\limits^{n}_{i=1} x_i.y_i - \\frac{\\sum \\limits^{n}_{i=1} x_i \\sum \\limits^{n}_{i=1} y_i}{n}}{\\sum \\limits^{n}_{i=1} x_i^2 - \\frac{\\Big(\\sum \\limits^{n}_{i=1} x_i \\Big)^2}{n}} $$"
      ]
    },
    {
      "cell_type": "markdown",
      "metadata": {
        "id": "D1XzrMR9kSg0"
      },
      "source": [
        "# **Cotoh Perhitungan Manual Regresi Linear dengan OLS**"
      ]
    },
    {
      "cell_type": "markdown",
      "metadata": {
        "id": "OQx7oWRM8BJ4"
      },
      "source": [
        "Diketahui data X dan Y adalah sebagai berikut (Y=2X-1):\n",
        "\n",
        "$$ \\begin{matrix} X & Y \\\\ 1 & 1 \\\\ 3 & 5 \\\\ 5 & 9 \\\\ 6 & 11 \\\\ 7 & 13 \\\\ 8 & 15 \\end{matrix} $$\n",
        "\n",
        "Berikut adalah proses menghitung model Regresi Linear dari data di atas:\n",
        "\n",
        "**1. Menghitung rata-rata X dan Y**\n",
        "\n",
        "$$ \\begin{aligned}\n",
        "n=6\\\\\n",
        "\\bar{x}=\\frac{1+3+5+6+7+8}{6} = \\frac{30}{6}=5 \\\\\n",
        "\\bar{y}=\\frac{1+5+9+11+13+15}{6}=\\frac{54}{6}=9 \\\\\n",
        "\\end{aligned} $$\n",
        "\n",
        "**2. Menghitung $b_1$**\n",
        "\n",
        "$ \\begin{aligned}\n",
        "& \\hat{b_1}=\\frac{\\sum \\limits^{n}_{i=1} (x_i-\\bar{x})(y_i-\\bar{y})}{\\sum \\limits^{n}_{i=1}(x_i-\\bar{x})^2}\\\\\n",
        "& \\hat{b_1}=\\frac{([1-5][1-9]+[3-5][5-9]+[5-5][9-9]+[6-5][11-9]+[7-5][13-9]+[8-5][15-9])}{([1-5]^2+[3-5]^2+[5-5]^2+[6-5]^2+[7-5]^2+[8-5]^2)}\\\\\n",
        "& \\hat{b_1}=\\frac{((-4)(-8)+(-2)(-4)+(0)(0)+(1)(2)+(2)(4)+(3)(6))}{((-4)^2+(-2)^2+0^2+1^2+2^2+3^2)}\\\\\n",
        "& \\hat{b_1}=\\frac{32+8+0+2+8+18}{16+4+0+1+4+9}\\\\\n",
        "& \\hat{b_1}=\\frac{68}{34}\\\\\n",
        "& \\hat{b_1}=2\\\\\n",
        "\\end{aligned} $\n",
        "\n",
        "**3. Menghitung $b_0$**\n",
        "\n",
        "$$ \\begin{aligned}\n",
        "\\hat{b_0}=\\bar{y}-\\hat{b_1}\\bar{x}\\\\\n",
        "\\hat{b_0}=9-(2)\\times 5\\\\\n",
        "\\hat{b_0}=-1\n",
        "\\end{aligned} $$\n",
        "\n",
        "**4. Menyusun Persamaan Regresi Linear**\n",
        "\n",
        "$$ \\begin{aligned}\n",
        "Y&=\\hat{b_0}+\\hat{b_1}X\\\\\n",
        "Y&=-1+2X\\\\\n",
        "\\end{aligned} $$\n"
      ]
    },
    {
      "cell_type": "markdown",
      "metadata": {
        "id": "ZWWVZvHukX82"
      },
      "source": [
        "# **Regresi Linear Python From Scratch**"
      ]
    },
    {
      "cell_type": "markdown",
      "metadata": {
        "id": "GcjV237KWvuO"
      },
      "source": [
        "**Membangun Model Regresi Linear**\n",
        "\n",
        "Pertama, import library python yang dibutuhkan yaitu:\n",
        "\n",
        "\n",
        "\n",
        "*   Numpy\n",
        "*   Pandas\n",
        "*   Matplotlib\n",
        "\n"
      ]
    },
    {
      "cell_type": "code",
      "metadata": {
        "id": "Y27TumkOjvEg"
      },
      "source": [
        "import numpy as np\n",
        "import pandas as pd\n",
        "import matplotlib.pyplot as plt\n",
        "from sklearn.model_selection import train_test_split\n",
        "%matplotlib inline"
      ],
      "execution_count": null,
      "outputs": []
    },
    {
      "cell_type": "markdown",
      "metadata": {
        "id": "0u_dioRjXROX"
      },
      "source": [
        "Untuk memahami konsep, kita akan menggunakan data X dan Y seperti yang kita tunjukkan pada proses penghitungan manual. "
      ]
    },
    {
      "cell_type": "code",
      "metadata": {
        "id": "0Lnyf2t0XcE6"
      },
      "source": [
        "x_train=np.array([1, 3, 5, 6, 7, 8])\n",
        "y_train=np.array([1, 5, 9, 11, 13, 15])"
      ],
      "execution_count": null,
      "outputs": []
    },
    {
      "cell_type": "code",
      "metadata": {
        "colab": {
          "base_uri": "https://localhost:8080/"
        },
        "id": "i3Ypbce9XpIA",
        "outputId": "c8c8e087-820a-4480-b3b4-ded15ef4de73"
      },
      "source": [
        "#Proses Training Model\n",
        "\n",
        "#Menghitung rata-rata inputs and outpus\n",
        "x_rata2=np.mean(x_train)\n",
        "print(\"Rata-rata x: \", x_rata2)\n",
        "y_rata2=np.mean(y_train)\n",
        "print(\"Rata-rata y: \", y_rata2)\n",
        "\n",
        "#Jumlah Data\n",
        "n=len(x_train)\n",
        "print(\"Jumlah data(n): \", n)\n",
        "\n",
        "#Menuliskan formula untuk menghiung beta 0 dan beta 1\n",
        "A=0\n",
        "B=0\n",
        "for i in range(n):\n",
        "  a=(x_train[i]-x_rata2)*(y_train[i]-y_rata2)\n",
        "  print(\"(\",x_train[i],\"-\",x_rata2,\")\",\"*\",\"(\",y_train[i],\"-\",y_rata2,\") =\",a)\n",
        "  A+=a\n",
        "  b=(x_train[i]-x_rata2)**2\n",
        "  print(\"(\",x_train[i],\"-\",x_rata2,\")\",\"^2\",\"=\",b)\n",
        "  B+=b\n",
        "\n",
        "print(\"Pembilang =\",A)\n",
        "print(\"Penyebut =\", B)\n",
        "\n",
        "#Menampilkan Koefisien Regresi Linear\n",
        "b_1=A/B\n",
        "print(\"b_1 =\", b_1)\n",
        "b_0=y_rata2-(b_1*x_rata2)\n",
        "print(\"b_0 =\", b_0)"
      ],
      "execution_count": null,
      "outputs": [
        {
          "output_type": "stream",
          "name": "stdout",
          "text": [
            "Rata-rata x:  5.0\n",
            "Rata-rata y:  9.0\n",
            "Jumlah data(n):  6\n",
            "( 1 - 5.0 ) * ( 1 - 9.0 ) = 32.0\n",
            "( 1 - 5.0 ) ^2 = 16.0\n",
            "( 3 - 5.0 ) * ( 5 - 9.0 ) = 8.0\n",
            "( 3 - 5.0 ) ^2 = 4.0\n",
            "( 5 - 5.0 ) * ( 9 - 9.0 ) = 0.0\n",
            "( 5 - 5.0 ) ^2 = 0.0\n",
            "( 6 - 5.0 ) * ( 11 - 9.0 ) = 2.0\n",
            "( 6 - 5.0 ) ^2 = 1.0\n",
            "( 7 - 5.0 ) * ( 13 - 9.0 ) = 8.0\n",
            "( 7 - 5.0 ) ^2 = 4.0\n",
            "( 8 - 5.0 ) * ( 15 - 9.0 ) = 18.0\n",
            "( 8 - 5.0 ) ^2 = 9.0\n",
            "Pembilang = 68.0\n",
            "Penyebut = 34.0\n",
            "b_1 = 2.0\n",
            "b_0 = -1.0\n"
          ]
        }
      ]
    },
    {
      "cell_type": "code",
      "metadata": {
        "colab": {
          "base_uri": "https://localhost:8080/",
          "height": 279
        },
        "id": "FPDOrAzQZ4Vp",
        "outputId": "bdb0f42b-78ef-4993-ce12-fa1f299e5e49"
      },
      "source": [
        "#Plot Nilai data\n",
        "x_max=np.max(x_train)\n",
        "x_min=np.min(x_train)\n",
        "\n",
        "#Garis Regresi\n",
        "x=np.linspace(x_min,x_max,1000)\n",
        "y=b_0+b_1*x\n",
        "\n",
        "#Plot Garis Regresi\n",
        "plt.plot(x,y,color='red',label='Regresi Linear')\n",
        "\n",
        "#Plot Titik Data\n",
        "plt.scatter(x_train,y_train,color='blue',label='Data')\n",
        "\n",
        "#Label sumbu X\n",
        "plt.xlabel('X')\n",
        "\n",
        "#Label sumbu Y\n",
        "plt.ylabel('Y')\n",
        "\n",
        "#Menampilkan Legenda\n",
        "plt.legend()\n",
        "\n",
        "#Menampilkan gambar Hasil Plot\n",
        "plt.show()"
      ],
      "execution_count": null,
      "outputs": [
        {
          "output_type": "display_data",
          "data": {
            "image/png": "[encoded data removed]",
            "text/plain": [
              "<Figure size 432x288 with 1 Axes>"
            ]
          },
          "metadata": {
            "needs_background": "light"
          }
        }
      ]
    },
    {
      "cell_type": "markdown",
      "metadata": {
        "id": "I9zIJG4ha6ZJ"
      },
      "source": [
        "**Implementasi Model Regresi Linear Pada Data Real**\n",
        "\n",
        "Kita akan menggunakan dataset yang berisi **tahun bekerja** dan **gaji**"
      ]
    },
    {
      "cell_type": "code",
      "metadata": {
        "colab": {
          "base_uri": "https://localhost:8080/",
          "height": 224
        },
        "id": "9Utv6eR8bIlg",
        "outputId": "76b5d105-93dd-4b5a-89f2-e76cd79e53dd"
      },
      "source": [
        "dataset=pd.read_csv('https://github.com/TyasArgani/PSDS-Kelas-Mahir/raw/main/Daftar_gaji.csv')\n",
        "#Melihat ukuran dataset\n",
        "print(dataset.shape)\n",
        "#Menampilkan 5 data teratas\n",
        "dataset.head()"
      ],
      "execution_count": null,
      "outputs": [
        {
          "output_type": "stream",
          "name": "stdout",
          "text": [
            "(30, 2)\n"
          ]
        },
        {
          "output_type": "execute_result",
          "data": {
            "text/html": [
              "<div>\n",
              "<style scoped>\n",
              "    .dataframe tbody tr th:only-of-type {\n",
              "        vertical-align: middle;\n",
              "    }\n",
              "\n",
              "    .dataframe tbody tr th {\n",
              "        vertical-align: top;\n",
              "    }\n",
              "\n",
              "    .dataframe thead th {\n",
              "        text-align: right;\n",
              "    }\n",
              "</style>\n",
              "<table border=\"1\" class=\"dataframe\">\n",
              "  <thead>\n",
              "    <tr style=\"text-align: right;\">\n",
              "      <th></th>\n",
              "      <th>Tahun_bekerja</th>\n",
              "      <th>Gaji</th>\n",
              "    </tr>\n",
              "  </thead>\n",
              "  <tbody>\n",
              "    <tr>\n",
              "      <th>0</th>\n",
              "      <td>1.1</td>\n",
              "      <td>39343.0</td>\n",
              "    </tr>\n",
              "    <tr>\n",
              "      <th>1</th>\n",
              "      <td>1.3</td>\n",
              "      <td>46205.0</td>\n",
              "    </tr>\n",
              "    <tr>\n",
              "      <th>2</th>\n",
              "      <td>1.5</td>\n",
              "      <td>37731.0</td>\n",
              "    </tr>\n",
              "    <tr>\n",
              "      <th>3</th>\n",
              "      <td>2.0</td>\n",
              "      <td>43525.0</td>\n",
              "    </tr>\n",
              "    <tr>\n",
              "      <th>4</th>\n",
              "      <td>2.2</td>\n",
              "      <td>39891.0</td>\n",
              "    </tr>\n",
              "  </tbody>\n",
              "</table>\n",
              "</div>"
            ],
            "text/plain": [
              "   Tahun_bekerja     Gaji\n",
              "0            1.1  39343.0\n",
              "1            1.3  46205.0\n",
              "2            1.5  37731.0\n",
              "3            2.0  43525.0\n",
              "4            2.2  39891.0"
            ]
          },
          "metadata": {},
          "execution_count": 96
        }
      ]
    },
    {
      "cell_type": "markdown",
      "metadata": {
        "id": "CmpYxhP8bjQ2"
      },
      "source": [
        "Mencari hubungan antara data X(Tahun Bekerja) dan Y(Gaji)"
      ]
    },
    {
      "cell_type": "code",
      "metadata": {
        "id": "KWC1ZY46bpTg"
      },
      "source": [
        "#Definisikan Variabel Input(X) dan Output(Y)\n",
        "X=dataset['Tahun_bekerja'].values.reshape(-1,1)\n",
        "Y=dataset['Gaji'].values.reshape(-1,1)"
      ],
      "execution_count": null,
      "outputs": []
    },
    {
      "cell_type": "code",
      "metadata": {
        "id": "pjAF2WqicEMw"
      },
      "source": [
        "#Membagi data menjadi data training dan data testing\n",
        "x_train,x_test,y_train,y_test=train_test_split(X,Y,test_size=0.2,random_state=0)"
      ],
      "execution_count": null,
      "outputs": []
    },
    {
      "cell_type": "code",
      "metadata": {
        "colab": {
          "base_uri": "https://localhost:8080/"
        },
        "id": "Lkljo_v_cY9M",
        "outputId": "f304f74a-4e4d-4ffa-b277-d42d1540ac31"
      },
      "source": [
        "#Proses Training Model\n",
        "\n",
        "#Menghitung rata-rata inputs and outpus\n",
        "x_rata2=np.mean(x_train)\n",
        "y_rata2=np.mean(y_train)\n",
        "\n",
        "#Jumlah Data\n",
        "n=len(x_train)\n",
        "\n",
        "#Menuliskan formula untuk menghiung beta 0 dan beta 1\n",
        "A=0\n",
        "B=0\n",
        "for i in range(n):\n",
        "  A += (x_train[i]-x_rata2)*(y_train[i]-y_rata2)\n",
        "  B += (x_train[i]-x_rata2)**2\n",
        "\n",
        "b_1=A/B\n",
        "b_0=y_rata2-(b_1*x_rata2)\n",
        "\n",
        "#Menampilkan Koefisien Regresi Linear\n",
        "print(b_0,b_1)"
      ],
      "execution_count": null,
      "outputs": [
        {
          "output_type": "stream",
          "name": "stdout",
          "text": [
            "[26780.09915063] [9312.57512673]\n"
          ]
        }
      ]
    },
    {
      "cell_type": "markdown",
      "metadata": {
        "id": "LKNkoljCdFJ6"
      },
      "source": [
        "Dalam notasi matematika, hasil ini dapat ditulis sebagai berikut:\n",
        "\n",
        "      Brain weights = 334.26127335 + 0.26106902 * Head size\n",
        "\n",
        "Sekarang kita memiliki model linier. Mari kita plot secara grafis."
      ]
    },
    {
      "cell_type": "code",
      "metadata": {
        "colab": {
          "base_uri": "https://localhost:8080/",
          "height": 279
        },
        "id": "ZTegOvQgd-Mv",
        "outputId": "32e4c88d-48dd-4984-f62e-7c8b6553b55e"
      },
      "source": [
        "#Plot Nilai data\n",
        "x_max=np.max(X)+10\n",
        "x_min=np.min(X)-10\n",
        "\n",
        "#Garis regresi\n",
        "x=np.linspace(x_min,x_max,100)\n",
        "y=b_0+b_1*x\n",
        "\n",
        "#Plot Garis Regresi\n",
        "plt.plot(x,y,color='red',label='Regresi Linear')\n",
        "\n",
        "#Plot Titik data\n",
        "plt.scatter(X,Y, color='blue',label='Data')\n",
        "\n",
        "#Label sumbu x\n",
        "plt.xlabel('Tahun Bekerja')\n",
        "\n",
        "#Label sumbu Y\n",
        "plt.ylabel('Gaji')\n",
        "\n",
        "#Menampilkan Legenda\n",
        "plt.legend()\n",
        "\n",
        "#Menampilkan Gambar Hasil Plot\n",
        "plt.show()"
      ],
      "execution_count": null,
      "outputs": [
        {
          "output_type": "display_data",
          "data": {
            "image/png": "[encoded data removed]",
            "text/plain": [
              "<Figure size 432x288 with 1 Axes>"
            ]
          },
          "metadata": {
            "needs_background": "light"
          }
        }
      ]
    },
    {
      "cell_type": "markdown",
      "metadata": {
        "id": "6AH5QKNMiIxt"
      },
      "source": [
        "**Evaluasi Model**"
      ]
    },
    {
      "cell_type": "markdown",
      "metadata": {
        "id": "2ALRxThMiSGJ"
      },
      "source": [
        "Kita perlu mengukur tingkat ketepatan(akurasi) model yang telah diperoleh. Terdapat banyak metode untuk melakukan hal ini, namun pada artikel ini kita memilih menggunakan **Root Mean Square Error** dan **Koefisien Determinasi ($R^2$ Skor)**\n",
        "\n",
        "# $$ RMSE =\\sqrt{\\frac{1}{n} \\sum\\limits_{i=1}^{n} (y_i-\\hat{y_i})^2} $$\n",
        "\n",
        "$\\hat{y_i}$ adalah nilai hasil prediksi ke-i. Berikut adalah penulisan kode untuk RMSE"
      ]
    },
    {
      "cell_type": "code",
      "metadata": {
        "colab": {
          "base_uri": "https://localhost:8080/"
        },
        "id": "S26_AeXdjbwy",
        "outputId": "bd997942-4687-4756-c7e4-a1e659136038"
      },
      "source": [
        "rmse=0\n",
        "for i in range (len(x_test)):\n",
        "  y_pred=b_0+b_1*x_test[i]\n",
        "  rmse+=(y_test[i]-y_pred)**2\n",
        "\n",
        "rmse=np.sqrt(rmse/n)\n",
        "print(rmse)"
      ],
      "execution_count": null,
      "outputs": [
        {
          "output_type": "stream",
          "name": "stdout",
          "text": [
            "[1790.48961866]\n"
          ]
        }
      ]
    },
    {
      "cell_type": "markdown",
      "metadata": {
        "id": "J5675RoIj6Am"
      },
      "source": [
        "Selanjutnya, mari kita hitung nilai $R^2$ skor untuk mengukur tingkat akurai dari model linear yang diperoleh, secara matematis $R^2$ dituliskan sebagai berikut:\n",
        "\n",
        "# $$ R^2=1-\\frac{SSE}{SST}=1-\\frac{\\sum\\limits (\\hat{y_i}-\\bar{y})^2}{\\sum\\limits (y_i-\\bar{y})^2} $$\n",
        "\n",
        "SSE adalah jumlah kuadrat galat sedangkan SST jumlah kuadrat total.\n",
        "\n",
        "$R^2$ skor biasanya memiliki nilai antara 0 hingga 1. Nilai ini juga bisa bernilai negatif jika model regresi benar-benar salah. Di bawah ini adalah kode pemrograman untuk menghitung $R^2$ skor."
      ]
    },
    {
      "cell_type": "code",
      "metadata": {
        "colab": {
          "base_uri": "https://localhost:8080/"
        },
        "id": "krMjvu-Ek96K",
        "outputId": "64b8dc37-0df3-4219-98d5-4a280f2b2fbe"
      },
      "source": [
        "SST=0\n",
        "SSE=0\n",
        "y_pred= b_0 + b_1 * x_test\n",
        "y_rata2=np.mean(y_test)\n",
        "for i in range (len(x_test)):\n",
        "  SST += (y_test[i]-y_rata2)**2\n",
        "  SSE += (y_test[i]-y_pred[i])**2\n",
        "\n",
        "score=1-(SSE/SST)\n",
        "print(\"Koefisien Determinasi:\", score)"
      ],
      "execution_count": null,
      "outputs": [
        {
          "output_type": "stream",
          "name": "stdout",
          "text": [
            "Koefisien Determinasi: [0.98816952]\n"
          ]
        }
      ]
    }
  ]
}