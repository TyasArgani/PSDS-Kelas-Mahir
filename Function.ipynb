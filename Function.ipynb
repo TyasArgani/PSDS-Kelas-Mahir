{
  "nbformat": 4,
  "nbformat_minor": 0,
  "metadata": {
    "colab": {
      "name": "Function.ipynb",
      "provenance": [],
      "collapsed_sections": []
    },
    "kernelspec": {
      "name": "python3",
      "display_name": "Python 3"
    },
    "language_info": {
      "name": "python"
    }
  },
  "cells": [
    {
      "cell_type": "markdown",
      "metadata": {
        "id": "9JHnUulg3Tpd"
      },
      "source": [
        "# **FUNCTION**"
      ]
    },
    {
      "cell_type": "markdown",
      "metadata": {
        "id": "KO0ltSAN4jrq"
      },
      "source": [
        "# Fungsi Pada Python"
      ]
    },
    {
      "cell_type": "markdown",
      "metadata": {
        "id": "RV9G2Dha5ECA"
      },
      "source": [
        "Function adalah sebuah blok statemen yang hanya akan dijalankan saat ia dipanggil."
      ]
    },
    {
      "cell_type": "code",
      "metadata": {
        "colab": {
          "base_uri": "https://localhost:8080/"
        },
        "id": "FDaZNuw05LjH",
        "outputId": "9eba368f-a9ce-4f60-fa26-e83e97761e44"
      },
      "source": [
        "genap=[2,4,6,8,100]\n",
        "len(genap)"
      ],
      "execution_count": null,
      "outputs": [
        {
          "output_type": "execute_result",
          "data": {
            "text/plain": [
              "5"
            ]
          },
          "metadata": {},
          "execution_count": 1
        }
      ]
    },
    {
      "cell_type": "code",
      "metadata": {
        "colab": {
          "base_uri": "https://localhost:8080/"
        },
        "id": "XdnslSpP5WKF",
        "outputId": "2185f3b6-1948-4f3a-9c6c-9288405493dc"
      },
      "source": [
        "print('Assalamualaikum Dunia')"
      ],
      "execution_count": null,
      "outputs": [
        {
          "output_type": "stream",
          "name": "stdout",
          "text": [
            "Assalamualaikum Dunia\n"
          ]
        }
      ]
    },
    {
      "cell_type": "markdown",
      "metadata": {
        "id": "Kb1BM2PXX_Hj"
      },
      "source": [
        "# Keyword & Argument"
      ]
    },
    {
      "cell_type": "markdown",
      "metadata": {
        "id": "iwEEdjEcY4IT"
      },
      "source": [
        "**Keyword/Parameter**: variabel yang digunakan dalam deklarasi fungsi\n",
        "\n",
        "**Argument**: nilai yang diberikan saat pemanggilan fungsi"
      ]
    },
    {
      "cell_type": "code",
      "metadata": {
        "colab": {
          "base_uri": "https://localhost:8080/"
        },
        "id": "TFkjDU9gZHkh",
        "outputId": "7d76f139-2361-44e6-af28-f74dd160ded9"
      },
      "source": [
        "#sep = keyword/argument\n",
        "#'-' = argument\n",
        "\n",
        "print('kata1','kata2',sep='/')"
      ],
      "execution_count": null,
      "outputs": [
        {
          "output_type": "stream",
          "name": "stdout",
          "text": [
            "kata1/kata2\n"
          ]
        }
      ]
    },
    {
      "cell_type": "markdown",
      "metadata": {
        "id": "AX_O4ldnYR0s"
      },
      "source": [
        "# Membuat Fungsi Pada Python"
      ]
    },
    {
      "cell_type": "markdown",
      "metadata": {
        "id": "Oj6zYQCEZcAG"
      },
      "source": [
        "Python mengizinkan untuk mendeklarasikan fungsi dalam kode yang dituliskan yang dikenal dengan **user defined function**"
      ]
    },
    {
      "cell_type": "code",
      "metadata": {
        "id": "P7bYfHGrZmgt"
      },
      "source": [
        "def nama_fungsi(argument):\n",
        "  pernyataan_1\n",
        "  ...\n",
        "  pernyataan_2\n",
        "  return nilai_keluaran"
      ],
      "execution_count": null,
      "outputs": []
    },
    {
      "cell_type": "code",
      "metadata": {
        "id": "_6i0jxFzZwlL"
      },
      "source": [
        "#Pendefinisian fungsi_kuadrat\n",
        "def fungsi_kuadrat(x):\n",
        "  hasil=x**2\n",
        "  return hasil"
      ],
      "execution_count": null,
      "outputs": []
    },
    {
      "cell_type": "code",
      "metadata": {
        "id": "hOC10q78Z6X0"
      },
      "source": [
        "#Alternatif pendefinisian fungsi_kuadrat\n",
        "def fungsi_kuadrat(x):\n",
        "  return x**2"
      ],
      "execution_count": null,
      "outputs": []
    },
    {
      "cell_type": "code",
      "metadata": {
        "colab": {
          "base_uri": "https://localhost:8080/"
        },
        "id": "mPNyhmGcaFUn",
        "outputId": "349e1b02-032b-4aed-e032-cdeed2b30b60"
      },
      "source": [
        "#Pemanggilan fungsi_kuadrat\n",
        "fungsi_kuadrat(6)"
      ],
      "execution_count": null,
      "outputs": [
        {
          "output_type": "execute_result",
          "data": {
            "text/plain": [
              "36"
            ]
          },
          "metadata": {},
          "execution_count": 46
        }
      ]
    },
    {
      "cell_type": "markdown",
      "metadata": {
        "id": "T8CCBsTSYYn2"
      },
      "source": [
        "# Positional Argument & Keyword"
      ]
    },
    {
      "cell_type": "markdown",
      "metadata": {
        "id": "nDn9oWQbaVJw"
      },
      "source": [
        "Kita bisa menyatakan argumen sebagai positional argument atau keyword. Beberapa manfaat argumen kata kunci dapat berupa:\n",
        "\n",
        "\n",
        "\n",
        "*   Kita dapat menyebut argumen dengan nama mereka untuk memperjelas apa yang mreka wakili\n",
        "*   Kita dapat mengatur ulang argumen dengan cara yang membuatnya paling mudah dibaca\n",
        "\n"
      ]
    },
    {
      "cell_type": "code",
      "metadata": {
        "id": "VPk60lFKaUYz"
      },
      "source": [
        "#Mendefinisikan fungsi dengan beberapa argumen\n",
        "def tampilkan_kata(a,b,c):\n",
        "  print(a,b,c)"
      ],
      "execution_count": null,
      "outputs": []
    },
    {
      "cell_type": "code",
      "metadata": {
        "colab": {
          "base_uri": "https://localhost:8080/"
        },
        "id": "CsFl4ETza4YM",
        "outputId": "1bd88f3e-b410-466b-e069-0752ddc4f70e"
      },
      "source": [
        "#Positional Arguments\n",
        "tampilkan_kata('aku','kau','dia')"
      ],
      "execution_count": null,
      "outputs": [
        {
          "output_type": "stream",
          "name": "stdout",
          "text": [
            "aku kau dia\n"
          ]
        }
      ]
    },
    {
      "cell_type": "code",
      "metadata": {
        "colab": {
          "base_uri": "https://localhost:8080/"
        },
        "id": "cOza9g8nbBW8",
        "outputId": "d07ec7cd-f838-4a30-fd8b-4c413d34ff3a"
      },
      "source": [
        "tampilkan_kata('kau','aku','dia')"
      ],
      "execution_count": null,
      "outputs": [
        {
          "output_type": "stream",
          "name": "stdout",
          "text": [
            "kau aku dia\n"
          ]
        }
      ]
    },
    {
      "cell_type": "code",
      "metadata": {
        "colab": {
          "base_uri": "https://localhost:8080/"
        },
        "id": "NF2yeUjYbGmf",
        "outputId": "d8d987cf-6527-47f1-d966-17f93b3c76b1"
      },
      "source": [
        "#argumen berdasarkan keyword-nya\n",
        "tampilkan_kata(a='aku',b='kau',c='dia')\n",
        "tampilkan_kata(c='dia',b='kau',a='aku')"
      ],
      "execution_count": null,
      "outputs": [
        {
          "output_type": "stream",
          "name": "stdout",
          "text": [
            "aku kau dia\n",
            "aku kau dia\n"
          ]
        }
      ]
    },
    {
      "cell_type": "markdown",
      "metadata": {
        "id": "TpYV_r1AbV0O"
      },
      "source": [
        "Catatan: jika sudah diberi kunci maka urutan tidak menjadi penting"
      ]
    },
    {
      "cell_type": "code",
      "metadata": {
        "colab": {
          "base_uri": "https://localhost:8080/"
        },
        "id": "xjAvXED7bcOa",
        "outputId": "c7d431a8-1220-4841-fdf5-c40bdcf35b2a"
      },
      "source": [
        "#campuran antara argumen posisi dan argumen kata kunci\n",
        "tampilkan_kata('aku',b='kau',c='dia')"
      ],
      "execution_count": null,
      "outputs": [
        {
          "output_type": "stream",
          "name": "stdout",
          "text": [
            "aku kau dia\n"
          ]
        }
      ]
    },
    {
      "cell_type": "markdown",
      "metadata": {
        "id": "GP7ki4oMbnwH"
      },
      "source": [
        "**ini tidak diijinkan**:\n",
        "\n",
        "\n",
        "\n",
        "*   Positional argument setelah keyword argument\n",
        "        `tampilkan_kata('aku', b='kau', 'dia')`\n",
        "*   Terdapat dua nilai untuk satu keyword argument yang sama\n",
        "        `tampilkan_kata(1, b=2, a=3)`\n",
        "\n"
      ]
    },
    {
      "cell_type": "markdown",
      "metadata": {
        "id": "K73k1bBIYnK0"
      },
      "source": [
        "# Argument Default"
      ]
    },
    {
      "cell_type": "markdown",
      "metadata": {
        "id": "Fu06AeGrcZr1"
      },
      "source": [
        "Fungsi dapat memiliki argumen default dengan nilai yang telah ditentukan sebelumnya. Argumen ini dapat ditinggalkan dan nilai default kemudian diteruskan ke fungsi, atau argumen dapat dirubah dengan nilai yang berbeda. Perhatikan bahwa argumen default harus ditentukan sebagai **parameter terakhir** dalam suatu fungsi."
      ]
    },
    {
      "cell_type": "code",
      "metadata": {
        "colab": {
          "base_uri": "https://localhost:8080/"
        },
        "id": "gF5J2P82c1dn",
        "outputId": "8e91da8a-b2be-4aed-d4e7-3684ab7ff630"
      },
      "source": [
        "#Argumen default\n",
        "def tampilkan_kata(a,b,c,d='sabahat'):\n",
        "  print(a,b,c,d)\n",
        "\n",
        "tampilkan_kata('aku','kau','dia')\n",
        "tampilkan_kata('aku',b='kau',c='dia',d='teman')"
      ],
      "execution_count": null,
      "outputs": [
        {
          "output_type": "stream",
          "name": "stdout",
          "text": [
            "aku kau dia sabahat\n",
            "aku kau dia teman\n"
          ]
        }
      ]
    },
    {
      "cell_type": "markdown",
      "metadata": {
        "id": "kpn9KEUrdLQy"
      },
      "source": [
        "Catatan: Argumen default harus diletakkan terakhir"
      ]
    },
    {
      "cell_type": "markdown",
      "metadata": {
        "id": "4gYnw952YvHC"
      },
      "source": [
        "# Contoh User Defined Function"
      ]
    },
    {
      "cell_type": "markdown",
      "metadata": {
        "id": "9tckh0xpY0Y0"
      },
      "source": [
        "**Contoh 1**\n",
        "\n",
        "Penjumlahan 2 bilangan"
      ]
    },
    {
      "cell_type": "code",
      "metadata": {
        "colab": {
          "base_uri": "https://localhost:8080/"
        },
        "id": "mX_U6eO7dZTZ",
        "outputId": "65c24dba-90e8-440f-edd4-c22548c3fa78"
      },
      "source": [
        "def penjumlahan(x,y): #input\n",
        "  a=x+y               #proses\n",
        "  return a            #output\n",
        "\n",
        "penjumlahan(1,2)      #pemanggilan fungsi"
      ],
      "execution_count": null,
      "outputs": [
        {
          "output_type": "execute_result",
          "data": {
            "text/plain": [
              "3"
            ]
          },
          "metadata": {},
          "execution_count": 53
        }
      ]
    },
    {
      "cell_type": "markdown",
      "metadata": {
        "id": "Sbo_ojRadzLe"
      },
      "source": [
        "**Contoh 2**\n",
        "\n",
        "Penjumlahan yang memungkinkan untuk tiga bilangan"
      ]
    },
    {
      "cell_type": "code",
      "metadata": {
        "colab": {
          "base_uri": "https://localhost:8080/"
        },
        "id": "IRHymyavd8jK",
        "outputId": "8e2c8aa1-8de6-429e-f0ff-aff892463221"
      },
      "source": [
        "def penjumlahan(x,y,z=None):\n",
        "  if (z==None):\n",
        "    return x+y\n",
        "  else:\n",
        "    return x+y+z\n",
        "\n",
        "print(penjumlahan(1,2))\n",
        "print(penjumlahan(1,2,3))"
      ],
      "execution_count": null,
      "outputs": [
        {
          "output_type": "stream",
          "name": "stdout",
          "text": [
            "3\n",
            "6\n"
          ]
        }
      ]
    },
    {
      "cell_type": "markdown",
      "metadata": {
        "id": "dDBOGxbgeUvE"
      },
      "source": [
        "**Contoh 3**\n",
        "\n",
        "Menghitung luas dan keliling persegi"
      ]
    },
    {
      "cell_type": "code",
      "metadata": {
        "colab": {
          "base_uri": "https://localhost:8080/"
        },
        "id": "ao5wJ_Okecsv",
        "outputId": "02231c90-4a90-48ce-9a12-9a9e14faeaf2"
      },
      "source": [
        "def luas_dan_keliling_persegi(s):\n",
        "  luas=s**2\n",
        "  keliling=4*s\n",
        "  return luas, keliling\n",
        "\n",
        "luas, keliling=luas_dan_keliling_persegi(2)\n",
        "print('luas:',luas)\n",
        "print('keliling:',keliling)"
      ],
      "execution_count": null,
      "outputs": [
        {
          "output_type": "stream",
          "name": "stdout",
          "text": [
            "luas: 4\n",
            "keliling: 8\n"
          ]
        }
      ]
    },
    {
      "cell_type": "markdown",
      "metadata": {
        "id": "dTOv1tkc5c5k"
      },
      "source": [
        "# Latihan"
      ]
    },
    {
      "cell_type": "markdown",
      "metadata": {
        "id": "9t3mZ4665gpD"
      },
      "source": [
        "1. Buatlah sebuah fungsi untuk menghitung luas dan keliling lingkaran dengan input jari-jari!"
      ]
    },
    {
      "cell_type": "code",
      "metadata": {
        "colab": {
          "base_uri": "https://localhost:8080/"
        },
        "id": "MEh0_Wjs5xHK",
        "outputId": "480207c0-a73f-4349-c505-2275cc451ae6"
      },
      "source": [
        "def luas_dan_keliling_lingkaran(r):\n",
        "  luas=3.14*r**2\n",
        "  keliling=2*3.14*r\n",
        "  return luas, keliling\n",
        "\n",
        "luas, keliling=luas_dan_keliling_lingkaran(100)\n",
        "print('luas lingkaran:',luas)\n",
        "luas, keliling=luas_dan_keliling_lingkaran(200)\n",
        "print('keliling lingkaran:',keliling)"
      ],
      "execution_count": null,
      "outputs": [
        {
          "output_type": "stream",
          "name": "stdout",
          "text": [
            "luas lingkaran: 31400.0\n",
            "keliling lingkaran: 1256.0\n"
          ]
        }
      ]
    },
    {
      "cell_type": "markdown",
      "metadata": {
        "id": "SuP8A5U87cBy"
      },
      "source": [
        "2. Buatlah sebuah fungsi untuk menggabungkan dua kata dalam bentuk string bebas menjadi satu kata tanpa spasi dengan huruf kecil!"
      ]
    },
    {
      "cell_type": "code",
      "metadata": {
        "colab": {
          "base_uri": "https://localhost:8080/"
        },
        "id": "ABFrsBMR5ttU",
        "outputId": "224dac0c-8fc5-4434-bd58-7421c7c9684d"
      },
      "source": [
        "def gabung_kata(x,y):\n",
        "  print(x.lower(),y.lower(),sep='')\n",
        "\n",
        "gabung_kata('TANGKUBAN','PeRaHu')\n"
      ],
      "execution_count": null,
      "outputs": [
        {
          "output_type": "stream",
          "name": "stdout",
          "text": [
            "tangkubanperahu\n"
          ]
        }
      ]
    },
    {
      "cell_type": "markdown",
      "metadata": {
        "id": "sSuxV5ROC4fc"
      },
      "source": [
        "3. Buatlah sebuah fungsi awal_akhir(list_input) untuk menukar elemen pertama pada sebuah list dengan elemen terakhir pada list yang sama!"
      ]
    },
    {
      "cell_type": "code",
      "metadata": {
        "colab": {
          "base_uri": "https://localhost:8080/"
        },
        "id": "0RUkbUe2AC5p",
        "outputId": "d37b05ed-8770-4a1f-c22a-b9b5ca959662"
      },
      "source": [
        "def awal_akhir(a):\n",
        "  x,y=a.index(a[len(a)-1]), a.index(a[0])\n",
        "  a[x], a[y] = a[y], a[x]\n",
        "  return a\n",
        "awal_akhir([1,2,3,4])"
      ],
      "execution_count": null,
      "outputs": [
        {
          "output_type": "execute_result",
          "data": {
            "text/plain": [
              "[4, 2, 3, 1]"
            ]
          },
          "metadata": {},
          "execution_count": 76
        }
      ]
    }
  ]
}