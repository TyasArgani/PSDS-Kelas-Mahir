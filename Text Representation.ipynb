{
 "cells": [
  {
   "cell_type": "markdown",
   "metadata": {},
   "source": [
    "## Pembuka"
   ]
  },
  {
   "cell_type": "markdown",
   "metadata": {},
   "source": [
    "Assalamu'alaikum warahmatullahi wabarakatuh.\n",
    "Puji syukur kehadirat Allah Subhana Wata'ala atas limpahan Rahmat dan HidayahNya kepada kita semua.\n",
    "Sholawat serta salam senantiasa tercurah limpahkan kepada baginda Muhammad Rasulullah Salallahualaihiwassalam.\n",
    "\n",
    "Halo para **Pejuang Data**. Selamat berjumpa di pertemuan kedelapan Program Training **Algoritma Machine Learning** Kelas Mahir. Pada model machine learning dibutuhkan variabel x atau disebut features dan variabel y yang disebut label. Kita dapat memodifikasi data teks yang kita miliki menjadi matriks yang terdiri atas variabel x dan y tersebut menggunakan beberapa model representasi teks yaitu:\n",
    "\n",
    "1. Bag-of-Words\n",
    "2. TF-IDF\n",
    "\n",
    "Namun sebelum ke sana, ada materi dasar dulu yang perlu dipahami sebelum membahas keduanya, yaitu Tokenisasi. Kamu akan mempelajari bagaimana sebuah teks dapat dipecah menjadi kalimat dan kata-kata yang kita biasa sebut sebagai token. Setelah data teks yang kita miliki kita tokenisasi baru bisa diproses menjadi features baik itu Bag-of-Words maupun TF-IDF."
   ]
  },
  {
   "cell_type": "markdown",
   "metadata": {},
   "source": [
    "## Tokenisasi"
   ]
  },
  {
   "cell_type": "markdown",
   "metadata": {},
   "source": [
    "Tokenisasi adalah pemecahan serangkaian data teks ke dalam kepingan-kepingan baik kalimat maupun kata. Pemecahan data teks menjadi kalimat biasanya ditandai dengan tanda baca pemisah titik('.'). Sedangkan, untuk pemecahan kalimat menjadi kata dapat dicontohkan sebagai berikut. Misalnya kalimat “Ini baju saya” akan menjadi “ini, baju, saya”."
   ]
  },
  {
   "cell_type": "markdown",
   "metadata": {},
   "source": [
    "### Tokenisasi Kalimat "
   ]
  },
  {
   "cell_type": "markdown",
   "metadata": {},
   "source": [
    "Kita akan mencoba memecah serangkaian data teks menjadi kalimat-kalimat. Kita dapat menggunakan function 'sent_tokenize' dari library `nltk` untuk melakukannya dengan tujuan kepraktisan."
   ]
  },
  {
   "cell_type": "code",
   "execution_count": 33,
   "metadata": {},
   "outputs": [],
   "source": [
    "import nltk\n",
    "from nltk import sent_tokenize"
   ]
  },
  {
   "cell_type": "markdown",
   "metadata": {
    "slideshow": {
     "slide_type": "subslide"
    }
   },
   "source": [
    "Berikut adalah contoh paragraf yang akan kita gunakan pada notebooks ini."
   ]
  },
  {
   "cell_type": "code",
   "execution_count": 34,
   "metadata": {},
   "outputs": [
    {
     "data": {
      "text/plain": [
       "'\\nData science adalah topik diskusi yang sangat luas dan subyektif. Data science bukan sebuah bidang yang berdiri sendiri. Bidang ini merupakan kombinasi dari berbagai bidang termasuk Ilmu Komputer, Matematika, Statistik, dan Strategi Bisnis. Tiga komponen yang terlibat dalam data science adalah organising, packaging, dan delivering data (the OPD of data). Organising data adalah proses penyimpanan data yang digabungkan dengan manajemen data. Packaging data merupakan proses manipulasi dan penggabungan data mentah yang akan direpresentasikan. Delivering data merupakan proses untuk memastikan bahwa pesan data telah diakses oleh mereka yang memerlukannya. Menurut research tahun 2011, pada tahun 2020 dunia akan menghasilkan 50 kali lipat data dibandingkan tahun 2011. Jadi dengan peningkatan aliran data yang drastis tersebut, akan muncul alat-alat baru yang dapat digunakan untuk memanfaatkan data mentah dengan tepat. Data science mencakup semua alat, teknik, dan teknologi yang akan membantu kita menangani peningkatan aliran data tersebut. Data science merupakan perpaduan interdisipliner dari penurunan data, pengembangan algoritma, dan teknologi untuk memecahkan masalah analitik yang kompleks.\\n'"
      ]
     },
     "execution_count": 34,
     "metadata": {},
     "output_type": "execute_result"
    }
   ],
   "source": [
    "paragraph = '''\n",
    "Data science adalah topik diskusi yang sangat luas dan subyektif. Data science bukan sebuah bidang yang berdiri sendiri. Bidang ini merupakan kombinasi dari berbagai bidang termasuk Ilmu Komputer, Matematika, Statistik, dan Strategi Bisnis. Tiga komponen yang terlibat dalam data science adalah organising, packaging, dan delivering data (the OPD of data). Organising data adalah proses penyimpanan data yang digabungkan dengan manajemen data. Packaging data merupakan proses manipulasi dan penggabungan data mentah yang akan direpresentasikan. Delivering data merupakan proses untuk memastikan bahwa pesan data telah diakses oleh mereka yang memerlukannya. Menurut research tahun 2011, pada tahun 2020 dunia akan menghasilkan 50 kali lipat data dibandingkan tahun 2011. Jadi dengan peningkatan aliran data yang drastis tersebut, akan muncul alat-alat baru yang dapat digunakan untuk memanfaatkan data mentah dengan tepat. Data science mencakup semua alat, teknik, dan teknologi yang akan membantu kita menangani peningkatan aliran data tersebut. Data science merupakan perpaduan interdisipliner dari penurunan data, pengembangan algoritma, dan teknologi untuk memecahkan masalah analitik yang kompleks.\n",
    "'''\n",
    "paragraph"
   ]
  },
  {
   "cell_type": "markdown",
   "metadata": {},
   "source": [
    "Kemudian akan kita tokenisasi menjadi kalimat-kalimat sebagai berikut:"
   ]
  },
  {
   "cell_type": "code",
   "execution_count": 35,
   "metadata": {},
   "outputs": [
    {
     "name": "stdout",
     "output_type": "stream",
     "text": [
      "['\\nData science adalah topik diskusi yang sangat luas dan subyektif.', 'Data science bukan sebuah bidang yang berdiri sendiri.', 'Bidang ini merupakan kombinasi dari berbagai bidang termasuk Ilmu Komputer, Matematika, Statistik, dan Strategi Bisnis.', 'Tiga komponen yang terlibat dalam data science adalah organising, packaging, dan delivering data (the OPD of data).', 'Organising data adalah proses penyimpanan data yang digabungkan dengan manajemen data.', 'Packaging data merupakan proses manipulasi dan penggabungan data mentah yang akan direpresentasikan.', 'Delivering data merupakan proses untuk memastikan bahwa pesan data telah diakses oleh mereka yang memerlukannya.', 'Menurut research tahun 2011, pada tahun 2020 dunia akan menghasilkan 50 kali lipat data dibandingkan tahun 2011.', 'Jadi dengan peningkatan aliran data yang drastis tersebut, akan muncul alat-alat baru yang dapat digunakan untuk memanfaatkan data mentah dengan tepat.', 'Data science mencakup semua alat, teknik, dan teknologi yang akan membantu kita menangani peningkatan aliran data tersebut.', 'Data science merupakan perpaduan interdisipliner dari penurunan data, pengembangan algoritma, dan teknologi untuk memecahkan masalah analitik yang kompleks.']\n"
     ]
    }
   ],
   "source": [
    "tokenisasi_kalimat = sent_tokenize(paragraph)\n",
    "print(tokenisasi_kalimat)"
   ]
  },
  {
   "cell_type": "markdown",
   "metadata": {},
   "source": [
    "Menampilkan kalimat pertama:"
   ]
  },
  {
   "cell_type": "code",
   "execution_count": 36,
   "metadata": {},
   "outputs": [
    {
     "data": {
      "text/plain": [
       "'\\nData science adalah topik diskusi yang sangat luas dan subyektif.'"
      ]
     },
     "execution_count": 36,
     "metadata": {},
     "output_type": "execute_result"
    }
   ],
   "source": [
    "tokenisasi_kalimat[0]"
   ]
  },
  {
   "cell_type": "markdown",
   "metadata": {},
   "source": [
    "### Tokenisasi Kata-kata"
   ]
  },
  {
   "cell_type": "markdown",
   "metadata": {},
   "source": [
    "Jika tokenisasi kalimat membagi sekumpulan text menjadi beberapa kalimat dengan pemisah titik, maka tokenisasi kata-kata adalah memecah string berdasarkan spasi. Sehingga token yang dimaksud merupakan suatu kata pada sebuah kalimat. Untuk kepraktisan kita bisa menggunakan fungsi `word_tokenize` dari library `nltk` untuk melakukan hal ini."
   ]
  },
  {
   "cell_type": "code",
   "execution_count": 37,
   "metadata": {},
   "outputs": [],
   "source": [
    "import nltk\n",
    "from nltk import word_tokenize"
   ]
  },
  {
   "cell_type": "markdown",
   "metadata": {},
   "source": [
    "Misal kita akan memecah teks berikut menjadi tokenisasi kata-kata."
   ]
  },
  {
   "cell_type": "code",
   "execution_count": 38,
   "metadata": {},
   "outputs": [
    {
     "name": "stdout",
     "output_type": "stream",
     "text": [
      "['Assalamualaikum', 'dan', 'selamat', 'pagi', 'teman', 'teman']\n"
     ]
    }
   ],
   "source": [
    "teks = \"Assalamualaikum dan selamat pagi teman teman\"\n",
    "tokenisasi = word_tokenize(teks)\n",
    "print(tokenisasi)"
   ]
  },
  {
   "cell_type": "markdown",
   "metadata": {},
   "source": [
    "## Representasi Kata Menggunakan Matriks "
   ]
  },
  {
   "cell_type": "markdown",
   "metadata": {},
   "source": [
    "### Bag Of Word"
   ]
  },
  {
   "cell_type": "markdown",
   "metadata": {},
   "source": [
    "Bag of word adalah metode untuk merepresentasikan kata-kata pada sebuah matriks untuk diolah pada metode NLP yang paling sederhana. Ide dasar dari metode ini adalah menghitung kemunculan sebuah kata pada sebuah kalimat tertentu. Misal dalama kalimat:\n",
    "\n",
    "    `Selamat Pagi Matematika UAD`\n",
    "    \n",
    "Maka kata-kata yang muncul pada kalimat di atas adalah `Selamat`, `Pagi`, `Matematika`, dan `UAD`"
   ]
  },
  {
   "cell_type": "markdown",
   "metadata": {},
   "source": [
    "Representasi ini dilambangkan dengan angka 1 yang bermakna suatu kata `muncul` dan 0 jika suatu kata `tidak muncul`"
   ]
  },
  {
   "cell_type": "code",
   "execution_count": 39,
   "metadata": {},
   "outputs": [
    {
     "data": {
      "text/html": [
       "<div>\n",
       "<style scoped>\n",
       "    .dataframe tbody tr th:only-of-type {\n",
       "        vertical-align: middle;\n",
       "    }\n",
       "\n",
       "    .dataframe tbody tr th {\n",
       "        vertical-align: top;\n",
       "    }\n",
       "\n",
       "    .dataframe thead th {\n",
       "        text-align: right;\n",
       "    }\n",
       "</style>\n",
       "<table border=\"1\" class=\"dataframe\">\n",
       "  <thead>\n",
       "    <tr style=\"text-align: right;\">\n",
       "      <th></th>\n",
       "      <th>Selamat</th>\n",
       "      <th>Pagi</th>\n",
       "      <th>Matematika</th>\n",
       "      <th>UAD</th>\n",
       "      <th>Indonesia</th>\n",
       "    </tr>\n",
       "  </thead>\n",
       "  <tbody>\n",
       "    <tr>\n",
       "      <th>Selamat Pagi Matematika UAD</th>\n",
       "      <td>1</td>\n",
       "      <td>1</td>\n",
       "      <td>1</td>\n",
       "      <td>1</td>\n",
       "      <td>0</td>\n",
       "    </tr>\n",
       "    <tr>\n",
       "      <th>Selamat Pagi Indonesia</th>\n",
       "      <td>1</td>\n",
       "      <td>1</td>\n",
       "      <td>0</td>\n",
       "      <td>0</td>\n",
       "      <td>1</td>\n",
       "    </tr>\n",
       "  </tbody>\n",
       "</table>\n",
       "</div>"
      ],
      "text/plain": [
       "                             Selamat  Pagi  Matematika  UAD  Indonesia\n",
       "Selamat Pagi Matematika UAD        1     1           1    1          0\n",
       "Selamat Pagi Indonesia             1     1           0    0          1"
      ]
     },
     "execution_count": 39,
     "metadata": {},
     "output_type": "execute_result"
    }
   ],
   "source": [
    "import pandas as pd\n",
    "df=pd.DataFrame({\"Selamat\":[1,1], \n",
    "                 \"Pagi\":[1,1], \n",
    "                 \"Matematika\":[1,0], \n",
    "                 \"UAD\":[1,0], \n",
    "                 \"Indonesia\":[0,1]}, index=['Selamat Pagi Matematika UAD', 'Selamat Pagi Indonesia'])\n",
    "df"
   ]
  },
  {
   "cell_type": "markdown",
   "metadata": {},
   "source": [
    "### Membuat Matriks Bag-of-Words From Scratch"
   ]
  },
  {
   "cell_type": "markdown",
   "metadata": {},
   "source": [
    "Impor Modul Yang Diperlukan"
   ]
  },
  {
   "cell_type": "code",
   "execution_count": 8,
   "metadata": {},
   "outputs": [],
   "source": [
    "#Impor Modul Yang Diperlukan\n",
    "import pandas as pd\n",
    "import numpy as np\n",
    "from nltk.tokenize import word_tokenize"
   ]
  },
  {
   "cell_type": "markdown",
   "metadata": {},
   "source": [
    "DataFrame Teks Input"
   ]
  },
  {
   "cell_type": "code",
   "execution_count": 9,
   "metadata": {},
   "outputs": [
    {
     "data": {
      "text/html": [
       "<div>\n",
       "<style scoped>\n",
       "    .dataframe tbody tr th:only-of-type {\n",
       "        vertical-align: middle;\n",
       "    }\n",
       "\n",
       "    .dataframe tbody tr th {\n",
       "        vertical-align: top;\n",
       "    }\n",
       "\n",
       "    .dataframe thead th {\n",
       "        text-align: right;\n",
       "    }\n",
       "</style>\n",
       "<table border=\"1\" class=\"dataframe\">\n",
       "  <thead>\n",
       "    <tr style=\"text-align: right;\">\n",
       "      <th></th>\n",
       "      <th>text</th>\n",
       "    </tr>\n",
       "  </thead>\n",
       "  <tbody>\n",
       "    <tr>\n",
       "      <th>0</th>\n",
       "      <td>Selamat Pagi Matematika UAD</td>\n",
       "    </tr>\n",
       "    <tr>\n",
       "      <th>1</th>\n",
       "      <td>Selamat Pagi Indonesia</td>\n",
       "    </tr>\n",
       "  </tbody>\n",
       "</table>\n",
       "</div>"
      ],
      "text/plain": [
       "                          text\n",
       "0  Selamat Pagi Matematika UAD\n",
       "1       Selamat Pagi Indonesia"
      ]
     },
     "execution_count": 9,
     "metadata": {},
     "output_type": "execute_result"
    }
   ],
   "source": [
    "df_teks=pd.DataFrame({\"text\":['Selamat Pagi Matematika UAD','Selamat Pagi Indonesia']})\n",
    "df_teks"
   ]
  },
  {
   "cell_type": "markdown",
   "metadata": {},
   "source": [
    "Membuat List Kosa Kata"
   ]
  },
  {
   "cell_type": "code",
   "execution_count": 10,
   "metadata": {},
   "outputs": [
    {
     "name": "stdout",
     "output_type": "stream",
     "text": [
      "['indonesia', 'matematika', 'pagi', 'selamat', 'uad']\n",
      "5\n"
     ]
    }
   ],
   "source": [
    "kosa_kata = set()\n",
    "for i in df_teks.text:\n",
    "    token_kal=set(word_tokenize(i.lower()))\n",
    "    kosa_kata=set.union(kosa_kata,token_kal)\n",
    "    #print(kosa_kata)\n",
    "    \n",
    "kosa_kata = sorted(kosa_kata)\n",
    "print(kosa_kata)\n",
    "\n",
    "# Jumlah kata-kata pada list vocab           \n",
    "jumlah_kosa_kata = len(kosa_kata)\n",
    "print(jumlah_kosa_kata)"
   ]
  },
  {
   "cell_type": "markdown",
   "metadata": {},
   "source": [
    "Membuat Dictionary Kosa Kata Untuk Membuat Baris Kosa Kata"
   ]
  },
  {
   "cell_type": "code",
   "execution_count": 11,
   "metadata": {},
   "outputs": [
    {
     "name": "stdout",
     "output_type": "stream",
     "text": [
      "{'indonesia': 0, 'matematika': 0, 'pagi': 0, 'selamat': 0, 'uad': 0}\n"
     ]
    }
   ],
   "source": [
    "indeks_kata = {}\n",
    "for kata in kosa_kata:\n",
    "    indeks_kata[kata] = 0\n",
    "    \n",
    "print(indeks_kata)"
   ]
  },
  {
   "cell_type": "markdown",
   "metadata": {},
   "source": [
    "Membuat Matriks Kata"
   ]
  },
  {
   "cell_type": "code",
   "execution_count": 12,
   "metadata": {},
   "outputs": [
    {
     "name": "stdout",
     "output_type": "stream",
     "text": [
      "Selamat Pagi Matematika UAD\n",
      "baris_kata {'indonesia': 0, 'matematika': 0, 'pagi': 0, 'selamat': 0, 'uad': 0}\n",
      "{'indonesia': 0, 'matematika': 0, 'pagi': 0, 'selamat': 1, 'uad': 0}\n",
      "{'indonesia': 0, 'matematika': 0, 'pagi': 1, 'selamat': 1, 'uad': 0}\n",
      "{'indonesia': 0, 'matematika': 1, 'pagi': 1, 'selamat': 1, 'uad': 0}\n",
      "{'indonesia': 0, 'matematika': 1, 'pagi': 1, 'selamat': 1, 'uad': 1}\n",
      "[0. 1. 1. 1. 1.]\n",
      "Selamat Pagi Indonesia\n",
      "baris_kata {'indonesia': 0, 'matematika': 0, 'pagi': 0, 'selamat': 0, 'uad': 0}\n",
      "{'indonesia': 0, 'matematika': 0, 'pagi': 0, 'selamat': 1, 'uad': 0}\n",
      "{'indonesia': 0, 'matematika': 0, 'pagi': 1, 'selamat': 1, 'uad': 0}\n",
      "{'indonesia': 1, 'matematika': 0, 'pagi': 1, 'selamat': 1, 'uad': 0}\n",
      "[0. 1. 1. 1. 1. 1. 0. 1. 1. 0.]\n"
     ]
    }
   ],
   "source": [
    "vektor_kata=np.array([])\n",
    "for baris_teks in df_teks.text:\n",
    "    print(baris_teks)\n",
    "    baris_kata = indeks_kata.copy()\n",
    "    print('baris_kata', baris_kata)\n",
    "    for kata in baris_teks.lower().split():\n",
    "        baris_kata[kata]=+1\n",
    "        print(baris_kata)\n",
    "    baris_kata = np.array(list(baris_kata.values()))  \n",
    "    vektor_kata = np.concatenate((vektor_kata,baris_kata), axis=0)\n",
    "    print(vektor_kata)\n",
    "matriks_kata = vektor_kata.reshape(df.shape[0], jumlah_kosa_kata)"
   ]
  },
  {
   "cell_type": "code",
   "execution_count": 13,
   "metadata": {},
   "outputs": [
    {
     "name": "stdout",
     "output_type": "stream",
     "text": [
      "[[0. 1. 1. 1. 1.]\n",
      " [1. 0. 1. 1. 0.]]\n"
     ]
    }
   ],
   "source": [
    "print(matriks_kata)"
   ]
  },
  {
   "cell_type": "markdown",
   "metadata": {},
   "source": [
    "Membuat DataFrame Bag Of Words"
   ]
  },
  {
   "cell_type": "code",
   "execution_count": 14,
   "metadata": {
    "scrolled": true
   },
   "outputs": [
    {
     "data": {
      "text/html": [
       "<div>\n",
       "<style scoped>\n",
       "    .dataframe tbody tr th:only-of-type {\n",
       "        vertical-align: middle;\n",
       "    }\n",
       "\n",
       "    .dataframe tbody tr th {\n",
       "        vertical-align: top;\n",
       "    }\n",
       "\n",
       "    .dataframe thead th {\n",
       "        text-align: right;\n",
       "    }\n",
       "</style>\n",
       "<table border=\"1\" class=\"dataframe\">\n",
       "  <thead>\n",
       "    <tr style=\"text-align: right;\">\n",
       "      <th></th>\n",
       "      <th>indonesia</th>\n",
       "      <th>matematika</th>\n",
       "      <th>pagi</th>\n",
       "      <th>selamat</th>\n",
       "      <th>uad</th>\n",
       "    </tr>\n",
       "  </thead>\n",
       "  <tbody>\n",
       "    <tr>\n",
       "      <th>Selamat Pagi Matematika UAD</th>\n",
       "      <td>0</td>\n",
       "      <td>1</td>\n",
       "      <td>1</td>\n",
       "      <td>1</td>\n",
       "      <td>1</td>\n",
       "    </tr>\n",
       "    <tr>\n",
       "      <th>Selamat Pagi Indonesia</th>\n",
       "      <td>1</td>\n",
       "      <td>0</td>\n",
       "      <td>1</td>\n",
       "      <td>1</td>\n",
       "      <td>0</td>\n",
       "    </tr>\n",
       "  </tbody>\n",
       "</table>\n",
       "</div>"
      ],
      "text/plain": [
       "                             indonesia  matematika  pagi  selamat  uad\n",
       "Selamat Pagi Matematika UAD          0           1     1        1    1\n",
       "Selamat Pagi Indonesia               1           0     1        1    0"
      ]
     },
     "execution_count": 14,
     "metadata": {},
     "output_type": "execute_result"
    }
   ],
   "source": [
    "df_BoW = pd.DataFrame(matriks_kata, columns=kosa_kata, index=df_teks.text.tolist())\n",
    "df_BoW = df_BoW.astype('int')\n",
    "df_BoW"
   ]
  },
  {
   "cell_type": "markdown",
   "metadata": {},
   "source": [
    "**Membuat Fungsi `Bag_Of_Words()`**"
   ]
  },
  {
   "cell_type": "code",
   "execution_count": 15,
   "metadata": {},
   "outputs": [],
   "source": [
    "#Impor Modul Yang Diperlukan\n",
    "import pandas as pd\n",
    "import numpy as np\n",
    "from nltk.tokenize import word_tokenize\n",
    "\n",
    "def Bag_Of_Words(df_teks):\n",
    "    # Membuat list kosa kata dari seluruh teks input\n",
    "    kosa_kata = set()\n",
    "    for i in df_teks.text:\n",
    "        token_kal=set(word_tokenize(i.lower()))\n",
    "        kosa_kata=set.union(kosa_kata,token_kal)\n",
    "    kosa_kata = sorted(kosa_kata)\n",
    "    # Membuat dictionary kata-kata\n",
    "    indeks_kata = {}\n",
    "    for kata in kosa_kata:\n",
    "        indeks_kata[kata] = 0\n",
    "    # Jumlah kosa kata(untuk kolom)\n",
    "    jumlah_kosa_kata = len(kosa_kata)\n",
    "    # Membagun matriks kata\n",
    "    vektor_kata=np.array([])\n",
    "    for baris_teks in df_teks.text:\n",
    "        baris_kata = indeks_kata.copy()\n",
    "        for kata in baris_teks.lower().split():\n",
    "            baris_kata[kata]=+1\n",
    "        baris_kata = np.array(list(baris_kata.values()))  \n",
    "        vektor_kata = np.concatenate((vektor_kata,baris_kata), axis=0)\n",
    "    matriks_kata = vektor_kata.reshape(df_teks.shape[0], jumlah_kosa_kata)    \n",
    "    df_bow = pd.DataFrame(matriks_kata, columns=kosa_kata, index=df_teks.text.tolist())\n",
    "    df_bow = df_bow.astype('int')\n",
    "    return df_bow"
   ]
  },
  {
   "cell_type": "markdown",
   "metadata": {},
   "source": [
    "**Contoh Implementasi Fungsi `Bag_Of_Words()`**"
   ]
  },
  {
   "cell_type": "code",
   "execution_count": 16,
   "metadata": {},
   "outputs": [
    {
     "data": {
      "text/html": [
       "<div>\n",
       "<style scoped>\n",
       "    .dataframe tbody tr th:only-of-type {\n",
       "        vertical-align: middle;\n",
       "    }\n",
       "\n",
       "    .dataframe tbody tr th {\n",
       "        vertical-align: top;\n",
       "    }\n",
       "\n",
       "    .dataframe thead th {\n",
       "        text-align: right;\n",
       "    }\n",
       "</style>\n",
       "<table border=\"1\" class=\"dataframe\">\n",
       "  <thead>\n",
       "    <tr style=\"text-align: right;\">\n",
       "      <th></th>\n",
       "      <th>text</th>\n",
       "    </tr>\n",
       "  </thead>\n",
       "  <tbody>\n",
       "    <tr>\n",
       "      <th>0</th>\n",
       "      <td>Selamat Pagi Matematika UAD</td>\n",
       "    </tr>\n",
       "    <tr>\n",
       "      <th>1</th>\n",
       "      <td>Selamat Pagi Indonesia</td>\n",
       "    </tr>\n",
       "  </tbody>\n",
       "</table>\n",
       "</div>"
      ],
      "text/plain": [
       "                          text\n",
       "0  Selamat Pagi Matematika UAD\n",
       "1       Selamat Pagi Indonesia"
      ]
     },
     "execution_count": 16,
     "metadata": {},
     "output_type": "execute_result"
    }
   ],
   "source": [
    "df_teks"
   ]
  },
  {
   "cell_type": "code",
   "execution_count": 17,
   "metadata": {},
   "outputs": [
    {
     "data": {
      "text/html": [
       "<div>\n",
       "<style scoped>\n",
       "    .dataframe tbody tr th:only-of-type {\n",
       "        vertical-align: middle;\n",
       "    }\n",
       "\n",
       "    .dataframe tbody tr th {\n",
       "        vertical-align: top;\n",
       "    }\n",
       "\n",
       "    .dataframe thead th {\n",
       "        text-align: right;\n",
       "    }\n",
       "</style>\n",
       "<table border=\"1\" class=\"dataframe\">\n",
       "  <thead>\n",
       "    <tr style=\"text-align: right;\">\n",
       "      <th></th>\n",
       "      <th>indonesia</th>\n",
       "      <th>matematika</th>\n",
       "      <th>pagi</th>\n",
       "      <th>selamat</th>\n",
       "      <th>uad</th>\n",
       "    </tr>\n",
       "  </thead>\n",
       "  <tbody>\n",
       "    <tr>\n",
       "      <th>Selamat Pagi Matematika UAD</th>\n",
       "      <td>0</td>\n",
       "      <td>1</td>\n",
       "      <td>1</td>\n",
       "      <td>1</td>\n",
       "      <td>1</td>\n",
       "    </tr>\n",
       "    <tr>\n",
       "      <th>Selamat Pagi Indonesia</th>\n",
       "      <td>1</td>\n",
       "      <td>0</td>\n",
       "      <td>1</td>\n",
       "      <td>1</td>\n",
       "      <td>0</td>\n",
       "    </tr>\n",
       "  </tbody>\n",
       "</table>\n",
       "</div>"
      ],
      "text/plain": [
       "                             indonesia  matematika  pagi  selamat  uad\n",
       "Selamat Pagi Matematika UAD          0           1     1        1    1\n",
       "Selamat Pagi Indonesia               1           0     1        1    0"
      ]
     },
     "execution_count": 17,
     "metadata": {},
     "output_type": "execute_result"
    }
   ],
   "source": [
    "df_BoW=Bag_Of_Words(df_teks)\n",
    "df_BoW"
   ]
  },
  {
   "cell_type": "markdown",
   "metadata": {},
   "source": [
    "### Perbandingan dengan Scikit Learn Library"
   ]
  },
  {
   "cell_type": "markdown",
   "metadata": {},
   "source": [
    "Sebenarnya, kita bisa menghasilkan matriks BoW dengan menggunakan Library Scikit Learn pada Class `CountVectorizer`"
   ]
  },
  {
   "cell_type": "code",
   "execution_count": 18,
   "metadata": {},
   "outputs": [
    {
     "data": {
      "text/html": [
       "<div>\n",
       "<style scoped>\n",
       "    .dataframe tbody tr th:only-of-type {\n",
       "        vertical-align: middle;\n",
       "    }\n",
       "\n",
       "    .dataframe tbody tr th {\n",
       "        vertical-align: top;\n",
       "    }\n",
       "\n",
       "    .dataframe thead th {\n",
       "        text-align: right;\n",
       "    }\n",
       "</style>\n",
       "<table border=\"1\" class=\"dataframe\">\n",
       "  <thead>\n",
       "    <tr style=\"text-align: right;\">\n",
       "      <th></th>\n",
       "      <th>indonesia</th>\n",
       "      <th>matematika</th>\n",
       "      <th>pagi</th>\n",
       "      <th>selamat</th>\n",
       "      <th>uad</th>\n",
       "    </tr>\n",
       "  </thead>\n",
       "  <tbody>\n",
       "    <tr>\n",
       "      <th>Selamat Pagi Matematika UAD</th>\n",
       "      <td>0</td>\n",
       "      <td>1</td>\n",
       "      <td>1</td>\n",
       "      <td>1</td>\n",
       "      <td>1</td>\n",
       "    </tr>\n",
       "    <tr>\n",
       "      <th>Selamat Pagi Indonesia</th>\n",
       "      <td>1</td>\n",
       "      <td>0</td>\n",
       "      <td>1</td>\n",
       "      <td>1</td>\n",
       "      <td>0</td>\n",
       "    </tr>\n",
       "  </tbody>\n",
       "</table>\n",
       "</div>"
      ],
      "text/plain": [
       "                             indonesia  matematika  pagi  selamat  uad\n",
       "Selamat Pagi Matematika UAD          0           1     1        1    1\n",
       "Selamat Pagi Indonesia               1           0     1        1    0"
      ]
     },
     "execution_count": 18,
     "metadata": {},
     "output_type": "execute_result"
    }
   ],
   "source": [
    "from sklearn.feature_extraction.text import CountVectorizer\n",
    "\n",
    "vectorizer = CountVectorizer()\n",
    "\n",
    "corpus = ['Selamat Pagi Matematika UAD','Selamat Pagi Indonesia']\n",
    "\n",
    "X = vectorizer.fit_transform(corpus)\n",
    "\n",
    "df_BoW_SL = pd.DataFrame(X.toarray(), columns=vectorizer.get_feature_names(), index=corpus)\n",
    "df_BoW_SL"
   ]
  },
  {
   "cell_type": "markdown",
   "metadata": {},
   "source": [
    "Hasil fungsi yang kita buat dari dasar sama dengan `CountVectorizer` dari Library Scikit Learn"
   ]
  },
  {
   "cell_type": "markdown",
   "metadata": {},
   "source": [
    "### Kekurangan Bag-of-Words\n",
    "\n",
    "Meskipun model ini sangat sederhana untuk diimplementasikan, namun model ini masih memiliki bebrapa kekurangan:\n",
    "    \n",
    "* **Ketersebaran(Sparsity)**: Model BOW membuat vektor sparse yang meningkatkan kompleksitas ruang dan juga mempersulit algoritma prediksi kami untuk dipelajari.\n",
    "\n",
    "* **Arti Kata**: Kata hanya direpresentasikan keberadaanya namun tidak sampai pada makna dan konteksnya dalam sebuah kalimat."
   ]
  },
  {
   "cell_type": "markdown",
   "metadata": {},
   "source": [
    "## TF-IDF"
   ]
  },
  {
   "cell_type": "markdown",
   "metadata": {},
   "source": [
    "TF-IDF adalah metode untuk merepresentasikan kata-kata dalam angka. TF-IDF merupakan gabungan dari Term Frequency(TF) dan Inverse Document Frequency(IDF). "
   ]
  },
  {
   "cell_type": "markdown",
   "metadata": {},
   "source": [
    "### Term Frequency(TF)\n",
    "Term Frequency(TF) merupakan frekuensi kemunculan kata i pada kalimat j dibagi dengan total kata pada kalimat j. TF mengukur seberapa sering kata muncul dalam sebuah kalimat. Masing-masing kalimat memiliki panjang(jumlah kata) yang berbeda-beda, maka pada kalimat yang lebih panjang sebuah kata bisa muncul lebih banyak dari pada kalimat yang pendek. \n",
    "\n",
    "$$TF(kata) = \\frac{\\text{Jumlah kata i muncul dalam kalimat}}{\\text{Jumlah kata dalam kalimat}}$$"
   ]
  },
  {
   "cell_type": "markdown",
   "metadata": {},
   "source": [
    "### Inverse Document Frequency(IDF)\n",
    "Inverse Document Frequency(IDF) mengukur seberapa penting kata tersebut. Saat menghitung TF kita menganggap semua kata sama penting. Bagaimanapun kita tahu bahwa ada beberapa kata yang sering muncul namun sebenarnya tidak penting seperti `adalah`, `pada`, `ini`, dll. Maka semakin tinggi nilai IDF dari sebuah kata, semakin tidak penting pula kata tersebut dalam sebuah kalimat. Pada dasarnya IDF(kata) dihitung sebagai berikut:\n",
    "\n",
    "$$IDF(kata) = \\log_{e} \\frac{\\text{Jumlah kalimat}}{\\text{Jumlah kalimat mengandung `kata`}}$$\n",
    "\n",
    "untuk menghidari pembagian dengan nol maka pada bagian penyebut ditambah 1\n",
    "\n",
    "$$IDF(kata) = \\log_{e} \\frac{\\text{1 + Jumlah kalimat}}{\\text{1 + Jumlah kalimat mengandung `kata`}} + 1$$"
   ]
  },
  {
   "cell_type": "markdown",
   "metadata": {},
   "source": [
    "### Contoh Penghitungan Manual TF-IDF"
   ]
  },
  {
   "cell_type": "markdown",
   "metadata": {},
   "source": [
    "<table>\n",
    "  <tr><td>\n",
    "    <img src=\"TF IDF.png\">\n",
    "  </td></tr>\n",
    "<table>"
   ]
  },
  {
   "cell_type": "markdown",
   "metadata": {},
   "source": [
    "### Membuat Matriks TF-IDF From Scratch"
   ]
  },
  {
   "cell_type": "markdown",
   "metadata": {},
   "source": [
    "Impor Modul Yang Diperlukan"
   ]
  },
  {
   "cell_type": "code",
   "execution_count": 19,
   "metadata": {},
   "outputs": [],
   "source": [
    "#Impor Modul Yang Diperlukan\n",
    "import pandas as pd\n",
    "import numpy as np\n",
    "from nltk.tokenize import word_tokenize\n",
    "import math\n",
    "from sklearn.preprocessing import normalize"
   ]
  },
  {
   "cell_type": "markdown",
   "metadata": {},
   "source": [
    "DataFrame Teks Input"
   ]
  },
  {
   "cell_type": "code",
   "execution_count": 20,
   "metadata": {},
   "outputs": [
    {
     "data": {
      "text/html": [
       "<div>\n",
       "<style scoped>\n",
       "    .dataframe tbody tr th:only-of-type {\n",
       "        vertical-align: middle;\n",
       "    }\n",
       "\n",
       "    .dataframe tbody tr th {\n",
       "        vertical-align: top;\n",
       "    }\n",
       "\n",
       "    .dataframe thead th {\n",
       "        text-align: right;\n",
       "    }\n",
       "</style>\n",
       "<table border=\"1\" class=\"dataframe\">\n",
       "  <thead>\n",
       "    <tr style=\"text-align: right;\">\n",
       "      <th></th>\n",
       "      <th>text</th>\n",
       "    </tr>\n",
       "  </thead>\n",
       "  <tbody>\n",
       "    <tr>\n",
       "      <th>0</th>\n",
       "      <td>Selamat Pagi Matematika UAD</td>\n",
       "    </tr>\n",
       "    <tr>\n",
       "      <th>1</th>\n",
       "      <td>Selamat Pagi Indonesia</td>\n",
       "    </tr>\n",
       "  </tbody>\n",
       "</table>\n",
       "</div>"
      ],
      "text/plain": [
       "                          text\n",
       "0  Selamat Pagi Matematika UAD\n",
       "1       Selamat Pagi Indonesia"
      ]
     },
     "execution_count": 20,
     "metadata": {},
     "output_type": "execute_result"
    }
   ],
   "source": [
    "df_teks=pd.DataFrame({\"text\":['Selamat Pagi Matematika UAD','Selamat Pagi Indonesia']})\n",
    "df_teks"
   ]
  },
  {
   "cell_type": "markdown",
   "metadata": {},
   "source": [
    "Membuat List Kosa Kata"
   ]
  },
  {
   "cell_type": "code",
   "execution_count": 21,
   "metadata": {},
   "outputs": [
    {
     "name": "stdout",
     "output_type": "stream",
     "text": [
      "['indonesia', 'matematika', 'pagi', 'selamat', 'uad']\n",
      "5\n"
     ]
    }
   ],
   "source": [
    "kosa_kata = set()\n",
    "for i in df_teks.text:\n",
    "    token_kal=set(word_tokenize(i.lower()))\n",
    "    kosa_kata=set.union(kosa_kata,token_kal)\n",
    "    #print(kosa_kata)\n",
    "    \n",
    "kosa_kata = sorted(kosa_kata)\n",
    "print(kosa_kata)\n",
    "\n",
    "# Jumlah kata-kata pada list vocab           \n",
    "jumlah_kosa_kata = len(kosa_kata)\n",
    "print(jumlah_kosa_kata)"
   ]
  },
  {
   "cell_type": "markdown",
   "metadata": {},
   "source": [
    "Membuat Dictionary Kosa Kata Untuk Membuat Baris Kosa Kata"
   ]
  },
  {
   "cell_type": "code",
   "execution_count": 22,
   "metadata": {},
   "outputs": [
    {
     "name": "stdout",
     "output_type": "stream",
     "text": [
      "{'indonesia': 0, 'matematika': 0, 'pagi': 0, 'selamat': 0, 'uad': 0}\n"
     ]
    }
   ],
   "source": [
    "indeks_kata = {}\n",
    "for kata in kosa_kata:\n",
    "    indeks_kata[kata] = 0\n",
    "    \n",
    "print(indeks_kata)"
   ]
  },
  {
   "cell_type": "markdown",
   "metadata": {},
   "source": [
    "Membuat Matriks TF"
   ]
  },
  {
   "cell_type": "code",
   "execution_count": 23,
   "metadata": {},
   "outputs": [
    {
     "name": "stdout",
     "output_type": "stream",
     "text": [
      "Selamat Pagi Matematika UAD\n",
      "baris_kata {'indonesia': 0, 'matematika': 0, 'pagi': 0, 'selamat': 0, 'uad': 0}\n",
      "{'indonesia': 0, 'matematika': 0, 'pagi': 0, 'selamat': 1, 'uad': 0}\n",
      "{'indonesia': 0, 'matematika': 0, 'pagi': 1, 'selamat': 1, 'uad': 0}\n",
      "{'indonesia': 0, 'matematika': 1, 'pagi': 1, 'selamat': 1, 'uad': 0}\n",
      "{'indonesia': 0, 'matematika': 1, 'pagi': 1, 'selamat': 1, 'uad': 1}\n",
      "[0.   0.25 0.25 0.25 0.25]\n",
      "Selamat Pagi Indonesia\n",
      "baris_kata {'indonesia': 0, 'matematika': 0, 'pagi': 0, 'selamat': 0, 'uad': 0}\n",
      "{'indonesia': 0, 'matematika': 0, 'pagi': 0, 'selamat': 1, 'uad': 0}\n",
      "{'indonesia': 0, 'matematika': 0, 'pagi': 1, 'selamat': 1, 'uad': 0}\n",
      "{'indonesia': 1, 'matematika': 0, 'pagi': 1, 'selamat': 1, 'uad': 0}\n",
      "[0.         0.25       0.25       0.25       0.25       0.33333333\n",
      " 0.         0.33333333 0.33333333 0.        ]\n"
     ]
    }
   ],
   "source": [
    "vektor_TF=np.array([])\n",
    "for baris_teks in df_teks.text:\n",
    "    print(baris_teks)\n",
    "    baris_kata = indeks_kata.copy()\n",
    "    print('baris_kata', baris_kata)\n",
    "    split_baris = baris_teks.lower().split()\n",
    "    for kata in baris_teks.lower().split():\n",
    "        baris_kata[kata]=+1\n",
    "        print(baris_kata)\n",
    "    baris_kata = np.array(list(baris_kata.values()))\n",
    "    baris_kata = baris_kata/len(split_baris)\n",
    "    vektor_TF = np.concatenate((vektor_TF,baris_kata), axis=0)\n",
    "    print(vektor_TF)\n",
    "matriks_TF = vektor_TF.reshape(df_teks.shape[0], jumlah_kosa_kata)"
   ]
  },
  {
   "cell_type": "code",
   "execution_count": 24,
   "metadata": {},
   "outputs": [
    {
     "name": "stdout",
     "output_type": "stream",
     "text": [
      "[[0.         0.25       0.25       0.25       0.25      ]\n",
      " [0.33333333 0.         0.33333333 0.33333333 0.        ]]\n"
     ]
    }
   ],
   "source": [
    "print(matriks_TF)"
   ]
  },
  {
   "cell_type": "code",
   "execution_count": 25,
   "metadata": {
    "scrolled": true
   },
   "outputs": [
    {
     "data": {
      "text/html": [
       "<div>\n",
       "<style scoped>\n",
       "    .dataframe tbody tr th:only-of-type {\n",
       "        vertical-align: middle;\n",
       "    }\n",
       "\n",
       "    .dataframe tbody tr th {\n",
       "        vertical-align: top;\n",
       "    }\n",
       "\n",
       "    .dataframe thead th {\n",
       "        text-align: right;\n",
       "    }\n",
       "</style>\n",
       "<table border=\"1\" class=\"dataframe\">\n",
       "  <thead>\n",
       "    <tr style=\"text-align: right;\">\n",
       "      <th></th>\n",
       "      <th>indonesia</th>\n",
       "      <th>matematika</th>\n",
       "      <th>pagi</th>\n",
       "      <th>selamat</th>\n",
       "      <th>uad</th>\n",
       "    </tr>\n",
       "  </thead>\n",
       "  <tbody>\n",
       "    <tr>\n",
       "      <th>Selamat Pagi Matematika UAD</th>\n",
       "      <td>0.000000</td>\n",
       "      <td>0.25</td>\n",
       "      <td>0.250000</td>\n",
       "      <td>0.250000</td>\n",
       "      <td>0.25</td>\n",
       "    </tr>\n",
       "    <tr>\n",
       "      <th>Selamat Pagi Indonesia</th>\n",
       "      <td>0.333333</td>\n",
       "      <td>0.00</td>\n",
       "      <td>0.333333</td>\n",
       "      <td>0.333333</td>\n",
       "      <td>0.00</td>\n",
       "    </tr>\n",
       "  </tbody>\n",
       "</table>\n",
       "</div>"
      ],
      "text/plain": [
       "                             indonesia  matematika      pagi   selamat   uad\n",
       "Selamat Pagi Matematika UAD   0.000000        0.25  0.250000  0.250000  0.25\n",
       "Selamat Pagi Indonesia        0.333333        0.00  0.333333  0.333333  0.00"
      ]
     },
     "execution_count": 25,
     "metadata": {},
     "output_type": "execute_result"
    }
   ],
   "source": [
    "df_TF = pd.DataFrame(matriks_TF, columns=kosa_kata, index=df_teks.text.tolist())\n",
    "df_TF"
   ]
  },
  {
   "cell_type": "markdown",
   "metadata": {},
   "source": [
    "Membuat Baris IDF"
   ]
  },
  {
   "cell_type": "code",
   "execution_count": 26,
   "metadata": {},
   "outputs": [
    {
     "data": {
      "text/plain": [
       "[1.4054651081081644, 1.4054651081081644, 1.0, 1.0, 1.4054651081081644]"
      ]
     },
     "execution_count": 26,
     "metadata": {},
     "output_type": "execute_result"
    }
   ],
   "source": [
    "baris_IDF=[]\n",
    "for kolom in df_TF.columns :\n",
    "    N = len(df_teks.text)\n",
    "    kal_kata = len(df_TF[df_TF[kolom]>0])\n",
    "    baris_idf = (math.log((1+N)/(1+kal_kata)))+1  \n",
    "    baris_IDF.append(baris_idf)\n",
    "baris_IDF"
   ]
  },
  {
   "cell_type": "markdown",
   "metadata": {},
   "source": [
    "Membuat Matriks TF-IDF"
   ]
  },
  {
   "cell_type": "code",
   "execution_count": 27,
   "metadata": {},
   "outputs": [],
   "source": [
    "vektor_TFIDF=np.array([])\n",
    "for baris in matriks_TF:\n",
    "    baris_tfidf=np.multiply(baris,baris_IDF)\n",
    "    vektor_TFIDF=np.concatenate((vektor_TFIDF,baris_tfidf), axis=0)\n",
    "    \n",
    "matriks_TFIDF = vektor_TFIDF.reshape(df_teks.shape[0], jumlah_kosa_kata)\n",
    "matriks_TFIDF = normalize(matriks_TFIDF)"
   ]
  },
  {
   "cell_type": "markdown",
   "metadata": {},
   "source": [
    "Membuat DataFrame TFIDF"
   ]
  },
  {
   "cell_type": "code",
   "execution_count": 28,
   "metadata": {},
   "outputs": [
    {
     "data": {
      "text/html": [
       "<div>\n",
       "<style scoped>\n",
       "    .dataframe tbody tr th:only-of-type {\n",
       "        vertical-align: middle;\n",
       "    }\n",
       "\n",
       "    .dataframe tbody tr th {\n",
       "        vertical-align: top;\n",
       "    }\n",
       "\n",
       "    .dataframe thead th {\n",
       "        text-align: right;\n",
       "    }\n",
       "</style>\n",
       "<table border=\"1\" class=\"dataframe\">\n",
       "  <thead>\n",
       "    <tr style=\"text-align: right;\">\n",
       "      <th></th>\n",
       "      <th>indonesia</th>\n",
       "      <th>matematika</th>\n",
       "      <th>pagi</th>\n",
       "      <th>selamat</th>\n",
       "      <th>uad</th>\n",
       "    </tr>\n",
       "  </thead>\n",
       "  <tbody>\n",
       "    <tr>\n",
       "      <th>Selamat Pagi Matematika UAD</th>\n",
       "      <td>0.000000</td>\n",
       "      <td>0.576152</td>\n",
       "      <td>0.409937</td>\n",
       "      <td>0.409937</td>\n",
       "      <td>0.576152</td>\n",
       "    </tr>\n",
       "    <tr>\n",
       "      <th>Selamat Pagi Indonesia</th>\n",
       "      <td>0.704909</td>\n",
       "      <td>0.000000</td>\n",
       "      <td>0.501549</td>\n",
       "      <td>0.501549</td>\n",
       "      <td>0.000000</td>\n",
       "    </tr>\n",
       "  </tbody>\n",
       "</table>\n",
       "</div>"
      ],
      "text/plain": [
       "                             indonesia  matematika      pagi   selamat  \\\n",
       "Selamat Pagi Matematika UAD   0.000000    0.576152  0.409937  0.409937   \n",
       "Selamat Pagi Indonesia        0.704909    0.000000  0.501549  0.501549   \n",
       "\n",
       "                                  uad  \n",
       "Selamat Pagi Matematika UAD  0.576152  \n",
       "Selamat Pagi Indonesia       0.000000  "
      ]
     },
     "execution_count": 28,
     "metadata": {},
     "output_type": "execute_result"
    }
   ],
   "source": [
    "df_TF_IDF = pd.DataFrame(matriks_TFIDF, columns=kosa_kata, index=df_teks.text.tolist())\n",
    "df_TF_IDF"
   ]
  },
  {
   "cell_type": "markdown",
   "metadata": {},
   "source": [
    "**Membuat Fungsi `TFIDF()`**"
   ]
  },
  {
   "cell_type": "code",
   "execution_count": 29,
   "metadata": {},
   "outputs": [],
   "source": [
    "#Impor Modul Yang Diperlukan\n",
    "import pandas as pd\n",
    "import numpy as np\n",
    "from nltk.tokenize import word_tokenize\n",
    "import math\n",
    "from sklearn.preprocessing import normalize\n",
    "\n",
    "def TF_IDF(df_teks):\n",
    "    # Membuat list kosa kata dari seluruh teks input\n",
    "    kosa_kata = set()\n",
    "    for i in df_teks.text:\n",
    "        token_kal=set(word_tokenize(i.lower()))\n",
    "        kosa_kata=set.union(kosa_kata,token_kal)\n",
    "    kosa_kata = sorted(kosa_kata)\n",
    "    # Membuat dictionary kata-kata\n",
    "    indeks_kata = {}\n",
    "    for kata in kosa_kata:\n",
    "        indeks_kata[kata] = 0\n",
    "    # Jumlah kosa kata(untuk kolom)\n",
    "    jumlah_kosa_kata = len(kosa_kata)\n",
    "    # Membagun matriks kata TF\n",
    "    vektor_TF=np.array([])\n",
    "    for baris_teks in df_teks.text:\n",
    "        baris_kata = indeks_kata.copy()\n",
    "        split_baris = baris_teks.lower().split()\n",
    "        for kata in baris_teks.lower().split():\n",
    "            baris_kata[kata]=+1\n",
    "        baris_kata = np.array(list(baris_kata.values()))\n",
    "        baris_kata = baris_kata/len(split_baris)\n",
    "        vektor_TF = np.concatenate((vektor_TF,baris_kata), axis=0)\n",
    "    matriks_TF = vektor_TF.reshape(df_teks.shape[0], jumlah_kosa_kata)\n",
    "    # Membagun dataframe kata TF\n",
    "    df_TF = pd.DataFrame(matriks_TF, columns=kosa_kata, index=df_teks.text.tolist())\n",
    "    # Menghitung baris IDF\n",
    "    baris_IDF=[]\n",
    "    for kolom in df_TF.columns :\n",
    "        N = len(df_teks.text)\n",
    "        kal_kata = len(df_TF[df_TF[kolom]>0])\n",
    "        baris_idf = (math.log((1+N)/(1+kal_kata)))+1  \n",
    "        baris_IDF.append(baris_idf)\n",
    "    # Membuat matriks TF-IDF\n",
    "    vektor_TFIDF=np.array([])\n",
    "    for baris in matriks_TF:\n",
    "        baris_tfidf=np.multiply(baris,baris_IDF)\n",
    "        vektor_TFIDF=np.concatenate((vektor_TFIDF,baris_tfidf), axis=0)\n",
    "    matriks_TFIDF = vektor_TFIDF.reshape(df_teks.shape[0], jumlah_kosa_kata)\n",
    "    matriks_TFIDF = normalize(matriks_TFIDF)\n",
    "    # Membuat dataframe TF-IDF\n",
    "    df_TF_IDF = pd.DataFrame(matriks_TFIDF, columns=kosa_kata, index=df_teks.text.tolist())\n",
    "    return df_TF_IDF"
   ]
  },
  {
   "cell_type": "markdown",
   "metadata": {},
   "source": [
    "**Contoh Implementasi Fungsi `TF_IDF()`**"
   ]
  },
  {
   "cell_type": "code",
   "execution_count": 30,
   "metadata": {},
   "outputs": [
    {
     "data": {
      "text/html": [
       "<div>\n",
       "<style scoped>\n",
       "    .dataframe tbody tr th:only-of-type {\n",
       "        vertical-align: middle;\n",
       "    }\n",
       "\n",
       "    .dataframe tbody tr th {\n",
       "        vertical-align: top;\n",
       "    }\n",
       "\n",
       "    .dataframe thead th {\n",
       "        text-align: right;\n",
       "    }\n",
       "</style>\n",
       "<table border=\"1\" class=\"dataframe\">\n",
       "  <thead>\n",
       "    <tr style=\"text-align: right;\">\n",
       "      <th></th>\n",
       "      <th>text</th>\n",
       "    </tr>\n",
       "  </thead>\n",
       "  <tbody>\n",
       "    <tr>\n",
       "      <th>0</th>\n",
       "      <td>Selamat Pagi Matematika UAD</td>\n",
       "    </tr>\n",
       "    <tr>\n",
       "      <th>1</th>\n",
       "      <td>Selamat Pagi Indonesia</td>\n",
       "    </tr>\n",
       "  </tbody>\n",
       "</table>\n",
       "</div>"
      ],
      "text/plain": [
       "                          text\n",
       "0  Selamat Pagi Matematika UAD\n",
       "1       Selamat Pagi Indonesia"
      ]
     },
     "execution_count": 30,
     "metadata": {},
     "output_type": "execute_result"
    }
   ],
   "source": [
    "df_teks"
   ]
  },
  {
   "cell_type": "code",
   "execution_count": 31,
   "metadata": {},
   "outputs": [
    {
     "data": {
      "text/html": [
       "<div>\n",
       "<style scoped>\n",
       "    .dataframe tbody tr th:only-of-type {\n",
       "        vertical-align: middle;\n",
       "    }\n",
       "\n",
       "    .dataframe tbody tr th {\n",
       "        vertical-align: top;\n",
       "    }\n",
       "\n",
       "    .dataframe thead th {\n",
       "        text-align: right;\n",
       "    }\n",
       "</style>\n",
       "<table border=\"1\" class=\"dataframe\">\n",
       "  <thead>\n",
       "    <tr style=\"text-align: right;\">\n",
       "      <th></th>\n",
       "      <th>indonesia</th>\n",
       "      <th>matematika</th>\n",
       "      <th>pagi</th>\n",
       "      <th>selamat</th>\n",
       "      <th>uad</th>\n",
       "    </tr>\n",
       "  </thead>\n",
       "  <tbody>\n",
       "    <tr>\n",
       "      <th>Selamat Pagi Matematika UAD</th>\n",
       "      <td>0.000000</td>\n",
       "      <td>0.576152</td>\n",
       "      <td>0.409937</td>\n",
       "      <td>0.409937</td>\n",
       "      <td>0.576152</td>\n",
       "    </tr>\n",
       "    <tr>\n",
       "      <th>Selamat Pagi Indonesia</th>\n",
       "      <td>0.704909</td>\n",
       "      <td>0.000000</td>\n",
       "      <td>0.501549</td>\n",
       "      <td>0.501549</td>\n",
       "      <td>0.000000</td>\n",
       "    </tr>\n",
       "  </tbody>\n",
       "</table>\n",
       "</div>"
      ],
      "text/plain": [
       "                             indonesia  matematika      pagi   selamat  \\\n",
       "Selamat Pagi Matematika UAD   0.000000    0.576152  0.409937  0.409937   \n",
       "Selamat Pagi Indonesia        0.704909    0.000000  0.501549  0.501549   \n",
       "\n",
       "                                  uad  \n",
       "Selamat Pagi Matematika UAD  0.576152  \n",
       "Selamat Pagi Indonesia       0.000000  "
      ]
     },
     "execution_count": 31,
     "metadata": {},
     "output_type": "execute_result"
    }
   ],
   "source": [
    "df_TF_IDF=TF_IDF(df_teks)\n",
    "df_TF_IDF"
   ]
  },
  {
   "cell_type": "markdown",
   "metadata": {},
   "source": [
    "### Perbandingan dengan Scikit Learn Library"
   ]
  },
  {
   "cell_type": "markdown",
   "metadata": {},
   "source": [
    "Sebenarnya, kita bisa menghasilkan matriks TFIDF dengan menggunakan Library Scikit Learn pada Class `TfidfVectorizer`"
   ]
  },
  {
   "cell_type": "code",
   "execution_count": 32,
   "metadata": {},
   "outputs": [
    {
     "data": {
      "text/html": [
       "<div>\n",
       "<style scoped>\n",
       "    .dataframe tbody tr th:only-of-type {\n",
       "        vertical-align: middle;\n",
       "    }\n",
       "\n",
       "    .dataframe tbody tr th {\n",
       "        vertical-align: top;\n",
       "    }\n",
       "\n",
       "    .dataframe thead th {\n",
       "        text-align: right;\n",
       "    }\n",
       "</style>\n",
       "<table border=\"1\" class=\"dataframe\">\n",
       "  <thead>\n",
       "    <tr style=\"text-align: right;\">\n",
       "      <th></th>\n",
       "      <th>indonesia</th>\n",
       "      <th>matematika</th>\n",
       "      <th>pagi</th>\n",
       "      <th>selamat</th>\n",
       "      <th>uad</th>\n",
       "    </tr>\n",
       "  </thead>\n",
       "  <tbody>\n",
       "    <tr>\n",
       "      <th>Selamat Pagi Matematika UAD</th>\n",
       "      <td>0.000000</td>\n",
       "      <td>0.576152</td>\n",
       "      <td>0.409937</td>\n",
       "      <td>0.409937</td>\n",
       "      <td>0.576152</td>\n",
       "    </tr>\n",
       "    <tr>\n",
       "      <th>Selamat Pagi Indonesia</th>\n",
       "      <td>0.704909</td>\n",
       "      <td>0.000000</td>\n",
       "      <td>0.501549</td>\n",
       "      <td>0.501549</td>\n",
       "      <td>0.000000</td>\n",
       "    </tr>\n",
       "  </tbody>\n",
       "</table>\n",
       "</div>"
      ],
      "text/plain": [
       "                             indonesia  matematika      pagi   selamat  \\\n",
       "Selamat Pagi Matematika UAD   0.000000    0.576152  0.409937  0.409937   \n",
       "Selamat Pagi Indonesia        0.704909    0.000000  0.501549  0.501549   \n",
       "\n",
       "                                  uad  \n",
       "Selamat Pagi Matematika UAD  0.576152  \n",
       "Selamat Pagi Indonesia       0.000000  "
      ]
     },
     "execution_count": 32,
     "metadata": {},
     "output_type": "execute_result"
    }
   ],
   "source": [
    "from sklearn.feature_extraction.text import TfidfVectorizer\n",
    "\n",
    "vectorizer = TfidfVectorizer()\n",
    "\n",
    "corpus = ['Selamat Pagi Matematika UAD','Selamat Pagi Indonesia']\n",
    "\n",
    "X = vectorizer.fit_transform(corpus)\n",
    "\n",
    "df_TFIDF_SL = pd.DataFrame(X.toarray(), columns=vectorizer.get_feature_names(), index=corpus)\n",
    "df_TFIDF_SL"
   ]
  },
  {
   "cell_type": "markdown",
   "metadata": {},
   "source": [
    "Hasil fungsi yang kita buat dari dasar sama dengan `TfidfVectorizer` dari Library Scikit Learn"
   ]
  }
 ],
 "metadata": {
  "kernelspec": {
   "display_name": "Python 3",
   "language": "python",
   "name": "python3"
  },
  "language_info": {
   "codemirror_mode": {
    "name": "ipython",
    "version": 3
   },
   "file_extension": ".py",
   "mimetype": "text/x-python",
   "name": "python",
   "nbconvert_exporter": "python",
   "pygments_lexer": "ipython3",
   "version": "3.8.5"
  }
 },
 "nbformat": 4,
 "nbformat_minor": 4
}
