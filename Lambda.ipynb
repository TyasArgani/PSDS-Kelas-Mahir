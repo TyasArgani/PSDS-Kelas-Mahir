{
  "nbformat": 4,
  "nbformat_minor": 0,
  "metadata": {
    "colab": {
      "name": "Lambda.ipynb",
      "provenance": [],
      "collapsed_sections": []
    },
    "kernelspec": {
      "name": "python3",
      "display_name": "Python 3"
    },
    "language_info": {
      "name": "python"
    }
  },
  "cells": [
    {
      "cell_type": "markdown",
      "metadata": {
        "id": "W0fB-PkRkswQ"
      },
      "source": [
        "# **LAMBDA**"
      ]
    },
    {
      "cell_type": "markdown",
      "metadata": {
        "id": "ZSJuBSShkzSF"
      },
      "source": [
        "# Lambda Pada Python\n",
        "\n"
      ]
    },
    {
      "cell_type": "markdown",
      "metadata": {
        "id": "JF9DkdYI5ltA"
      },
      "source": [
        "Fungsi  lambda adalah fungsi anonim one line yang didefinisikan tanpa nama. Fungsi lambda dapat mengambil sejumlah arguments, tetapi hanya dapat memiliki satu expression. Sementara fungsi normal didefinisikan menggunakan kata kunci def, dalam python fngsi anonim didefinisikan menggunakan kata kunci lambda.\n",
        "\n",
        "\n",
        "Fungsi lambda digunakan ketika fungsi sederhana hanya digunakan sekali atau untuk waktu yang singkat dalam kode kita. Penggunaannya yang paling uum adalah sebagai argumen untuk fungsi tingkat tinggi (fungsi yang menggunakan fungsi lain sebagai argumen)"
      ]
    },
    {
      "cell_type": "code",
      "metadata": {
        "id": "FUVHDisB6QvH"
      },
      "source": [
        "def penjumlahan_kuadrat(x,y):\n",
        "  return x**2+y**2"
      ],
      "execution_count": null,
      "outputs": []
    },
    {
      "cell_type": "markdown",
      "metadata": {
        "id": "LPo5EpJa6YGe"
      },
      "source": [
        "dengan lambda, kita tidak perlu menggunakan def dan return, bahkan kita juga tidak perlu menuliskan namanya."
      ]
    },
    {
      "cell_type": "code",
      "metadata": {
        "colab": {
          "base_uri": "https://localhost:8080/"
        },
        "id": "0S8mz_Fn6eu6",
        "outputId": "fbb3c639-c262-4c53-f609-6bb5df5fa1d3"
      },
      "source": [
        "lambda x,y: x**2+y**2"
      ],
      "execution_count": null,
      "outputs": [
        {
          "output_type": "execute_result",
          "data": {
            "text/plain": [
              "<function __main__.<lambda>>"
            ]
          },
          "metadata": {},
          "execution_count": 4
        }
      ]
    },
    {
      "cell_type": "markdown",
      "metadata": {
        "id": "5MdINMMyk5ol"
      },
      "source": [
        "# Menggunakan Lambda Expression"
      ]
    },
    {
      "cell_type": "markdown",
      "metadata": {
        "id": "9ewaEHdD6yuK"
      },
      "source": [
        "Lambda digunakan untuk membuat fungsi dalam satu baris ekspresi. Ini adalah format untuk membuat fungsi lambda:"
      ]
    },
    {
      "cell_type": "code",
      "metadata": {
        "id": "sb9PGL0z69uR"
      },
      "source": [
        "lambda args: expression\n",
        "\n",
        "#lambda: kata kunci untuk membuat fungsi lambda\n",
        "#args: argumen atau parameter\n",
        "#expression: isi fungsi"
      ],
      "execution_count": null,
      "outputs": []
    },
    {
      "cell_type": "markdown",
      "metadata": {
        "id": "K27tXt4B7Ned"
      },
      "source": [
        "Lambda bisa memiliki lebih dari satu argumen atau parameter, tapi hanya bisa memiliki satu ekspresi atau isi"
      ]
    },
    {
      "cell_type": "code",
      "metadata": {
        "id": "o0eQTXd97YN5"
      },
      "source": [
        "greeting=lambda name: print(f\"Hello, {name}\")"
      ],
      "execution_count": null,
      "outputs": []
    },
    {
      "cell_type": "markdown",
      "metadata": {
        "id": "upa60zoa7hB2"
      },
      "source": [
        "Karena fungsi lambda tidak punya nama, jadi kita butuh variabel untuk menyimpannya.\n",
        "\n",
        "Nanti saat kita mau panggil, kita tinggal tuiskan saja nama variabelnya seperti ini:"
      ]
    },
    {
      "cell_type": "code",
      "metadata": {
        "colab": {
          "base_uri": "https://localhost:8080/"
        },
        "id": "AHNBK6Q57sIY",
        "outputId": "0ea76ed2-4dd9-45e1-ae85-fbf1ea188414"
      },
      "source": [
        "greeting(\"Dian\")\n",
        "greeting(\"Ayu\")"
      ],
      "execution_count": null,
      "outputs": [
        {
          "output_type": "stream",
          "name": "stdout",
          "text": [
            "Hello, Dian\n",
            "Hello, Ayu\n"
          ]
        }
      ]
    },
    {
      "cell_type": "markdown",
      "metadata": {
        "id": "CJZvxipL7wz8"
      },
      "source": [
        "Beberapa contoh penggunaan fungsi lambda"
      ]
    },
    {
      "cell_type": "code",
      "metadata": {
        "colab": {
          "base_uri": "https://localhost:8080/"
        },
        "id": "INt1gSO970WI",
        "outputId": "d058193b-e1c3-4a45-8f8c-e264d577d97d"
      },
      "source": [
        "#Fungsi lambda untuk menambahkan angka 10 kepada argument input\n",
        "f=lambda x: x+10\n",
        "val1=f(5)\n",
        "val2=f(100)\n",
        "print(val1,val2)"
      ],
      "execution_count": null,
      "outputs": [
        {
          "output_type": "stream",
          "name": "stdout",
          "text": [
            "15 110\n"
          ]
        }
      ]
    },
    {
      "cell_type": "code",
      "metadata": {
        "colab": {
          "base_uri": "https://localhost:8080/"
        },
        "id": "xYww8B7l8FPo",
        "outputId": "8f931806-7cc4-4742-8279-5ad73ba03f22"
      },
      "source": [
        "#Fungsi lambda untuk mengalihkan dua argumen input dan menampilkan hasilnya\n",
        "f=lambda x,y: x*y\n",
        "val3=f(2,10)\n",
        "val4=f(7,5)\n",
        "print(val3, val4)"
      ],
      "execution_count": null,
      "outputs": [
        {
          "output_type": "stream",
          "name": "stdout",
          "text": [
            "20 35\n"
          ]
        }
      ]
    },
    {
      "cell_type": "markdown",
      "metadata": {
        "id": "JWkxr434k-A6"
      },
      "source": [
        "# Anonymous Function"
      ]
    },
    {
      "cell_type": "markdown",
      "metadata": {
        "id": "Rrk1yafh8UnV"
      },
      "source": [
        "Karena lambda adalah anonymous function, ia akan bebas menggunakan nama apa saja. Dengan kata lain, fungsi lambda bisa disimpan di variabel mana pun. Ini tentunya tidak bisa dilakukan oleh fungsi yang dibuat dengan def. Coba perhatikan ini:"
      ]
    },
    {
      "cell_type": "code",
      "metadata": {
        "colab": {
          "base_uri": "https://localhost:8080/",
          "height": 207
        },
        "id": "mKWBul3U8jEk",
        "outputId": "77902372-466e-4728-ec38-63f73537edc0"
      },
      "source": [
        "def say_hello(nama):\n",
        "  print(f\"Hello {nama}, apa kabar?\")\n",
        "\n",
        "ucapin=say_hello(nama)"
      ],
      "execution_count": null,
      "outputs": [
        {
          "output_type": "error",
          "ename": "NameError",
          "evalue": "ignored",
          "traceback": [
            "\u001b[0;31m---------------------------------------------------------------------------\u001b[0m",
            "\u001b[0;31mNameError\u001b[0m                                 Traceback (most recent call last)",
            "\u001b[0;32m<ipython-input-10-770087becfb5>\u001b[0m in \u001b[0;36m<module>\u001b[0;34m()\u001b[0m\n\u001b[1;32m      2\u001b[0m   \u001b[0mprint\u001b[0m\u001b[0;34m(\u001b[0m\u001b[0;34mf\"Hello {nama}, apa kabar?\"\u001b[0m\u001b[0;34m)\u001b[0m\u001b[0;34m\u001b[0m\u001b[0;34m\u001b[0m\u001b[0m\n\u001b[1;32m      3\u001b[0m \u001b[0;34m\u001b[0m\u001b[0m\n\u001b[0;32m----> 4\u001b[0;31m \u001b[0mucapin\u001b[0m\u001b[0;34m=\u001b[0m\u001b[0msay_hello\u001b[0m\u001b[0;34m(\u001b[0m\u001b[0mnama\u001b[0m\u001b[0;34m)\u001b[0m\u001b[0;34m\u001b[0m\u001b[0;34m\u001b[0m\u001b[0m\n\u001b[0m",
            "\u001b[0;31mNameError\u001b[0m: name 'nama' is not defined"
          ]
        }
      ]
    },
    {
      "cell_type": "markdown",
      "metadata": {
        "id": "qyodPNLW8vwq"
      },
      "source": [
        "Kita mencoba membuat fungsi say_hello() dengan def, kemudian menyimpannya ke dalam variabel ucapin. \n",
        "\n",
        "Tapi malah error!\n",
        "\n",
        "Ini karena fungsi tersebut bukanlah anonymous yang boleh diubah-ubah namanya.\n",
        "\n",
        "Lalu coba perhatikan di baris terakhir, fungsi lambda greeting() yang sudah dibuat disimpan lagi ke variabel yang berbeda, yakni sapa."
      ]
    },
    {
      "cell_type": "code",
      "metadata": {
        "colab": {
          "base_uri": "https://localhost:8080/"
        },
        "id": "dUDUUtTl9NvU",
        "outputId": "6711ba3b-070b-442d-d688-e4153d2a9da2"
      },
      "source": [
        "greeting=lambda name: print(f\"Hello, {name}\")\n",
        "sapa=greeting\n",
        "greeting(\"Andi\")"
      ],
      "execution_count": null,
      "outputs": [
        {
          "output_type": "stream",
          "name": "stdout",
          "text": [
            "Hello, Andi\n"
          ]
        }
      ]
    },
    {
      "cell_type": "code",
      "metadata": {
        "colab": {
          "base_uri": "https://localhost:8080/"
        },
        "id": "CZcXxJ6m9bWN",
        "outputId": "7e284a96-28ba-457d-9ccc-666f365ffdee"
      },
      "source": [
        "sapa(\"Neli\")"
      ],
      "execution_count": null,
      "outputs": [
        {
          "output_type": "stream",
          "name": "stdout",
          "text": [
            "Hello, Neli\n"
          ]
        }
      ]
    },
    {
      "cell_type": "markdown",
      "metadata": {
        "id": "EUQ8Iyjc9ewZ"
      },
      "source": [
        "Hasilnya tidak error, karena ini adalah fungsi anonymous atau lambda."
      ]
    },
    {
      "cell_type": "markdown",
      "metadata": {
        "id": "HNzZmiUBlCsJ"
      },
      "source": [
        "# Eksekusi Lambda Secara Langsung"
      ]
    },
    {
      "cell_type": "markdown",
      "metadata": {
        "id": "b95icfk39lXv"
      },
      "source": [
        "Eksekusi lambda secara langsung kelebihan fungsi lambda dibandingkan def adalah bisa kita eksekusi langsung.\n",
        "\n",
        "Contohnya:"
      ]
    },
    {
      "cell_type": "code",
      "metadata": {
        "colab": {
          "base_uri": "https://localhost:8080/"
        },
        "id": "6WXgGyvd9wFU",
        "outputId": "f364c9a7-dcde-41c6-9eaa-481e705988b7"
      },
      "source": [
        "(lambda x,y: x**2+y**2)(4,6)"
      ],
      "execution_count": null,
      "outputs": [
        {
          "output_type": "execute_result",
          "data": {
            "text/plain": [
              "52"
            ]
          },
          "metadata": {},
          "execution_count": 13
        }
      ]
    },
    {
      "cell_type": "markdown",
      "metadata": {
        "id": "sLC4QuUL92Go"
      },
      "source": [
        "Tanda kurung yang mengapit fungsi lambda artinya kita akan langsung mengeksekusi fungsi tersebut.\n",
        "\n",
        "Lalu kurung berikutnya akan berisi argument.\n",
        "\n",
        "Angka 4 dan 6 adalah argument untuk x dan y yang akan diberikan kepada fungsi lambda.\n",
        "\n",
        "Maka kita akan langsung mendapatkan hasilnya, yakni: 4**2+6**2=52\n",
        "\n",
        "Hasil dari eksekusi ini bisa juga kita simpan ke dalam variabel."
      ]
    },
    {
      "cell_type": "code",
      "metadata": {
        "id": "DXHKaKef-RGL"
      },
      "source": [
        "hasil=(lambda x,y: x**2+y**2)(4,6)"
      ],
      "execution_count": null,
      "outputs": []
    },
    {
      "cell_type": "markdown",
      "metadata": {
        "id": "Af9DiLdMlG45"
      },
      "source": [
        "# Mengapa Harus Pakai Lambda?"
      ]
    },
    {
      "cell_type": "markdown",
      "metadata": {
        "id": "SV57rHf8-Yvc"
      },
      "source": [
        "Kita memang tidak garus selalu menggunakan lambda, tapi dalam kasus tertentu lambda lebih baik dibandingkan fungsi biasa.\n",
        "\n",
        "Lambda biasanya dibutuhkan saat kita ingin membuat fungsi dalam satu baris.\n",
        "\n",
        "Biasana saat menggunakan fungsi-fungsi seperti filter(), map(), dan reduce() kita akan membutuhkan lambda.\n",
        "\n",
        "Mengapa?\n",
        "\n",
        "Karena di fungsi-fungsi tersebut membutuhkan parameter fungsi.\n",
        "\n",
        "Contoh:"
      ]
    },
    {
      "cell_type": "code",
      "metadata": {
        "colab": {
          "base_uri": "https://localhost:8080/"
        },
        "id": "tlwJ6m8D-7ZJ",
        "outputId": "b71215c3-fb02-4810-f448-2564c014a25e"
      },
      "source": [
        "bilangan=[10,2,8,7,5,4,3,11,0,1]\n",
        "filtered_result=map(lambda x: x*x, bilangan)\n",
        "print(list(filtered_result))"
      ],
      "execution_count": null,
      "outputs": [
        {
          "output_type": "stream",
          "name": "stdout",
          "text": [
            "[100, 4, 64, 49, 25, 16, 9, 121, 0, 1]\n"
          ]
        }
      ]
    },
    {
      "cell_type": "markdown",
      "metadata": {
        "id": "o2pKr21h_IOO"
      },
      "source": [
        "Pada fungsi map() kita memberikan parameter dengan fungsi lambda.\n",
        "\n",
        "Mengapa bisa begitu?\n",
        "\n",
        "Karena lambda bisa disimpan ke dalam variabel, otomatis dia akan bisa juga jadi parameter.\n",
        "\n",
        "Satu lagi contoh dengan fungsi filter():"
      ]
    },
    {
      "cell_type": "code",
      "metadata": {
        "colab": {
          "base_uri": "https://localhost:8080/"
        },
        "id": "7bwK7WeS_Z6Z",
        "outputId": "ee36e95a-adf0-4a5c-e8b9-f6c4afeb6fe4"
      },
      "source": [
        "#menentukan bilangan genap\n",
        "genap=lambda x: x%2==0\n",
        "list(filter(genap, range(11)))"
      ],
      "execution_count": null,
      "outputs": [
        {
          "output_type": "execute_result",
          "data": {
            "text/plain": [
              "[0, 2, 4, 6, 8, 10]"
            ]
          },
          "metadata": {},
          "execution_count": 16
        }
      ]
    },
    {
      "cell_type": "markdown",
      "metadata": {
        "id": "BcqldicolLA5"
      },
      "source": [
        "# Contoh Pemakaian Fungsi Lambda"
      ]
    },
    {
      "cell_type": "markdown",
      "metadata": {
        "id": "ES_pBQC__l4_"
      },
      "source": [
        "1. Melakukan filter tertentu pada suatu list"
      ]
    },
    {
      "cell_type": "code",
      "metadata": {
        "colab": {
          "base_uri": "https://localhost:8080/"
        },
        "id": "Tz0RHZDf_pl5",
        "outputId": "00a53093-4a26-4dc5-f906-4d30558f97d7"
      },
      "source": [
        "list_nama_provinsi=['Jawa Barat','Jawa Timur','Jawa Tengah','DKI Jakarta','Banten']\n",
        "\n",
        "#Mengambil nama provinsi dengan kata 'Jawa'\n",
        "pilih_jawa=lambda k: 'jawa' in k.lower()\n",
        "#Note: lower() untuk merubah huruf menadi lower case\n",
        "\n",
        "list(filter(pilih_jawa, list_nama_provinsi))"
      ],
      "execution_count": null,
      "outputs": [
        {
          "output_type": "execute_result",
          "data": {
            "text/plain": [
              "['Jawa Barat', 'Jawa Timur', 'Jawa Tengah']"
            ]
          },
          "metadata": {},
          "execution_count": 17
        }
      ]
    },
    {
      "cell_type": "markdown",
      "metadata": {
        "id": "QVKZOMLNAKSR"
      },
      "source": [
        "2. Mendefinisikan kolom baru dengan fungsi tertentu pada DataFrame"
      ]
    },
    {
      "cell_type": "code",
      "metadata": {
        "colab": {
          "base_uri": "https://localhost:8080/",
          "height": 236
        },
        "id": "dyfMKDboAQgx",
        "outputId": "ad42aa24-1440-4632-a828-c8952f196f3f"
      },
      "source": [
        "#Impor library pandas\n",
        "import pandas as pd\n",
        "\n",
        "#Membuat list yang memuat data\n",
        "hasil_ekspor=[['Rohan',455],['Elvan',250],['Irpan',495],['Soni',400],['Radhika',350],['Joni',450]]\n",
        "\n",
        "#Membuat pandas dataframe\n",
        "df=pd.DataFrame(hasil_ekspor,columns=['Eksportir','Total_Ekspor_TON'])\n",
        "\n",
        "#Target Ekspor adalah 500 Ton\n",
        "#Persentase hasil ekspor diperoleh dari Total_Ekspor_TON dibagi target x100%%\n",
        "#diterapkan pada dataframe denganbantuan method df.assign()\n",
        "df=df.assign(Persentase=lambda x: (x['Total_Ekspor_TON']/500*100))\n",
        "\n",
        "#Menampilkan DafatFrame\n",
        "df"
      ],
      "execution_count": null,
      "outputs": [
        {
          "output_type": "execute_result",
          "data": {
            "text/html": [
              "<div>\n",
              "<style scoped>\n",
              "    .dataframe tbody tr th:only-of-type {\n",
              "        vertical-align: middle;\n",
              "    }\n",
              "\n",
              "    .dataframe tbody tr th {\n",
              "        vertical-align: top;\n",
              "    }\n",
              "\n",
              "    .dataframe thead th {\n",
              "        text-align: right;\n",
              "    }\n",
              "</style>\n",
              "<table border=\"1\" class=\"dataframe\">\n",
              "  <thead>\n",
              "    <tr style=\"text-align: right;\">\n",
              "      <th></th>\n",
              "      <th>Eksportir</th>\n",
              "      <th>Total_Ekspor_TON</th>\n",
              "      <th>Persentase</th>\n",
              "    </tr>\n",
              "  </thead>\n",
              "  <tbody>\n",
              "    <tr>\n",
              "      <th>0</th>\n",
              "      <td>Rohan</td>\n",
              "      <td>455</td>\n",
              "      <td>91.0</td>\n",
              "    </tr>\n",
              "    <tr>\n",
              "      <th>1</th>\n",
              "      <td>Elvan</td>\n",
              "      <td>250</td>\n",
              "      <td>50.0</td>\n",
              "    </tr>\n",
              "    <tr>\n",
              "      <th>2</th>\n",
              "      <td>Irpan</td>\n",
              "      <td>495</td>\n",
              "      <td>99.0</td>\n",
              "    </tr>\n",
              "    <tr>\n",
              "      <th>3</th>\n",
              "      <td>Soni</td>\n",
              "      <td>400</td>\n",
              "      <td>80.0</td>\n",
              "    </tr>\n",
              "    <tr>\n",
              "      <th>4</th>\n",
              "      <td>Radhika</td>\n",
              "      <td>350</td>\n",
              "      <td>70.0</td>\n",
              "    </tr>\n",
              "    <tr>\n",
              "      <th>5</th>\n",
              "      <td>Joni</td>\n",
              "      <td>450</td>\n",
              "      <td>90.0</td>\n",
              "    </tr>\n",
              "  </tbody>\n",
              "</table>\n",
              "</div>"
            ],
            "text/plain": [
              "  Eksportir  Total_Ekspor_TON  Persentase\n",
              "0     Rohan               455        91.0\n",
              "1     Elvan               250        50.0\n",
              "2     Irpan               495        99.0\n",
              "3      Soni               400        80.0\n",
              "4   Radhika               350        70.0\n",
              "5      Joni               450        90.0"
            ]
          },
          "metadata": {},
          "execution_count": 19
        }
      ]
    },
    {
      "cell_type": "markdown",
      "metadata": {
        "id": "LoUmLMoilPgA"
      },
      "source": [
        "# Latihan"
      ]
    },
    {
      "cell_type": "markdown",
      "metadata": {
        "id": "inmWKDBKlVCD"
      },
      "source": [
        "1. Buatlah fungsi lambda untuk melakukan filter pada data range(n) untuk data-data yang berupa bilangan kelipatan 3!"
      ]
    },
    {
      "cell_type": "code",
      "metadata": {
        "colab": {
          "base_uri": "https://localhost:8080/"
        },
        "id": "UIRptSLZkmxo",
        "outputId": "26eab506-31af-4174-a71f-f5a2bb114931"
      },
      "source": [
        "kelipatan=lambda x: x%3==0\n",
        "list(filter(kelipatan, range(10)))"
      ],
      "execution_count": null,
      "outputs": [
        {
          "output_type": "execute_result",
          "data": {
            "text/plain": [
              "[0, 3, 6, 9]"
            ]
          },
          "metadata": {},
          "execution_count": 1
        }
      ]
    },
    {
      "cell_type": "markdown",
      "metadata": {
        "id": "rPE0H9FMmDwI"
      },
      "source": [
        "2. Buatlah fungsi lambda untuk memilih kata-kata dengan jumlah karakter lebih dari sama dengan 6 pada list inputnya!"
      ]
    },
    {
      "cell_type": "code",
      "metadata": {
        "colab": {
          "base_uri": "https://localhost:8080/"
        },
        "id": "bdi9xRcXmShP",
        "outputId": "71b4d8bb-4023-4698-8f8b-3a6df8b31d7a"
      },
      "source": [
        "list_input=['saya','adalah','seorang','kapiten']\n",
        "karakter=lambda k: len(k)>=6\n",
        "list(filter(karakter, list_input))"
      ],
      "execution_count": null,
      "outputs": [
        {
          "output_type": "execute_result",
          "data": {
            "text/plain": [
              "['adalah', 'seorang', 'kapiten']"
            ]
          },
          "metadata": {},
          "execution_count": 37
        }
      ]
    }
  ]
}