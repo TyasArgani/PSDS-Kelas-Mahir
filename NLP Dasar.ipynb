{
 "cells": [
  {
   "cell_type": "markdown",
   "metadata": {},
   "source": [
    "# EFEKTIF MULAI : 15.05 WIB"
   ]
  },
  {
   "cell_type": "markdown",
   "metadata": {},
   "source": [
    "## Pembuka"
   ]
  },
  {
   "cell_type": "markdown",
   "metadata": {},
   "source": [
    "Assalamu'alaikum warahmatullahi wabarakatuh.\n",
    "Puji syukur kehadirat Allah Subhana Wata'ala atas limpahan Rahmat dan HidayahNya kepada kita semua.\n",
    "Sholawat serta salam senantiasa tercurah limpahkan kepada baginda Muhammad Rasulullah Salallahualaihiwassalam.\n",
    "\n",
    "Halo para **Pejuang Data**. Selamat berjumpa di pertemuan ketujuh Program Training **Algoritma Machine Learning** Kelas Mahir.\n",
    "\n",
    "Pada pertemuan ini kamu akan belajar:\n",
    "* Apa itu NLP\n",
    "* Scrapping Data\n",
    "* Text Preprocessing\n",
    "    * Case Folding & Data Cleaning\n",
    "    * Lemmatisasi\n",
    "    * Stemming\n",
    "    * Slang Word\n",
    "    * Stop Word\n",
    "    * Unwanted Word\n",
    "\n"
   ]
  },
  {
   "cell_type": "markdown",
   "metadata": {},
   "source": [
    "## Import Library"
   ]
  },
  {
   "cell_type": "code",
   "execution_count": 23,
   "metadata": {},
   "outputs": [],
   "source": [
    "import sys\n",
    "\n",
    "if not sys.warnoptions:\n",
    "    import warnings\n",
    "    warnings.simplefilter(\"ignore\")"
   ]
  },
  {
   "cell_type": "markdown",
   "metadata": {},
   "source": [
    "## Natural Language Processing"
   ]
  },
  {
   "cell_type": "markdown",
   "metadata": {},
   "source": [
    "Natural Language Processing (NLP) merupakan salah satu cabang ilmu AI yang berfokus pada pengolahan bahasa natural. Bahasa natural adalah bahasa yang secara umum digunakan oleh manusia dalam berkomunikasi satu sama lain.  Bahasa yang diterima oleh komputer butuh untuk diproses dan dipahami terlebih dahulu supaya maksud dari user bisa dipahami dengan baik oleh komputer.\n",
    "\n",
    "Ada berbagai terapan aplikasi dari NLP. Diantaranya adalah Chatbot (aplikasi yang membuat user bisa seolah-olah melakukan komunikasi dengan computer), Stemming atau Lemmatization (pemotongan kata dalam bahasa tertentu menjadi bentuk dasar pengenalan fungsi setiap kata dalam kalimat), Summarization (ringkasan dari bacaan), Translation Tools (menterjemahkan bahasa) dan aplikasi-aplikasi lain yang memungkinkan komputer mampu memahami instruksi bahasa yang diinputkan oleh user.\n",
    "\n",
    "Pustejovsky dan Stubbs (2012) menjelaskan bahwa ada beberapa area utama penelitian pada field NLP, diantaranya:\n",
    "\n",
    "1. **Question Answering Systems (QAS)**. Kemampuan komputer untuk menjawab pertanyaan yang diberikan oleh user. Daripada memasukkan keyword ke dalam browser pencarian, dengan QAS, user bisa langsung bertanya dalam bahasa natural yang digunakannya, baik itu Inggris, Mandarin, ataupun Indonesia.\n",
    "\n",
    "2. **Summarization**. Pembuatan ringkasan dari sekumpulan konten dokumen atau email. Dengan menggunakan aplikasi ini, user bisa dibantu untuk mengkonversikan dokumen teks yang besar ke dalam bentuk slide presentasi.\n",
    "Machine Translation. Produk yang dihasilkan adalah aplikasi yang dapat memahami bahasa manusia dan menterjemahkannya ke dalam bahasa lain. Termasuk di dalamnya adalah Google Translate yang apabila dicermati semakin membaik dalam penterjemahan bahasa. Contoh lain lagi adalah BabelFish yang menterjemahkan bahasa pada real time.\n",
    "\n",
    "3. **Speech Recognition**. Field ini merupakan cabang ilmu NLP yang cukup sulit. Proses pembangunan model untuk digunakan telpon/komputer dalam mengenali bahasa yang diucapkan sudah banyak dikerjakan. Bahasa yang sering digunakan adalah berupa pertanyaan dan perintah.\n",
    "\n",
    "4. **Document classification**. Sedangkan aplikasi ini adalah merupakan area penelitian NLP Yang paling sukses. Pekerjaan yang dilakukan aplikasi ini adalah menentukan dimana tempat terbaik dokumen yang baru diinputkan ke dalam sistem. Hal ini sangat berguna pada aplikasi spam filtering, news article classification, dan movie review."
   ]
  },
  {
   "cell_type": "markdown",
   "metadata": {
    "id": "Pk1914XF-Bkh"
   },
   "source": [
    "## Scrapping Data Text"
   ]
  },
  {
   "cell_type": "markdown",
   "metadata": {},
   "source": [
    "Sebelum melakukan penerapan dan berbagai penelitian. Mengumpulkan data teks sebagai bahan dasar dari bidang ini merupakan hal yang sangat penting. Proses ini biasa disebut dengan scrapping data. Aktivitas scrapping data bisa dilakukan melalui berbagai platfrom. Mulai langsung pada halaman web tertentu, melalui API seperti Twitter, atau melalui tools yang sudah disediakan, bisa free atau berbayar.  Untuk mulai belajar NLP, kita akan menggunakan tools. Toolls/Library `google_play_scrapper` adalah library yang dapat digunakan untuk mengambil review dari google apps. Pertama kita perlu melakukan instalasi sebagai berikut."
   ]
  },
  {
   "cell_type": "markdown",
   "metadata": {},
   "source": [
    "**Instalasi google play scrapper**"
   ]
  },
  {
   "cell_type": "markdown",
   "metadata": {
    "colab": {
     "base_uri": "https://localhost:8080/"
    },
    "id": "PFB0UNLK3zc3",
    "outputId": "8972ec16-73f2-40f7-ede8-c398181d9509"
   },
   "source": [
    "``` python\n",
    "!pip install google_play_scraper\n",
    "```"
   ]
  },
  {
   "cell_type": "markdown",
   "metadata": {},
   "source": [
    "**Import Library**"
   ]
  },
  {
   "cell_type": "code",
   "execution_count": 24,
   "metadata": {
    "id": "x_QBEMgYJB2S"
   },
   "outputs": [],
   "source": [
    "import numpy as np\n",
    "import pandas as pd\n",
    "from google_play_scraper import Sort, reviews                  # Librray untuk scrapping data teks\n",
    "import re                                                      # Library untuk teks preprocessing"
   ]
  },
  {
   "cell_type": "markdown",
   "metadata": {},
   "source": [
    "**Scrapping Data Review Teks**"
   ]
  },
  {
   "cell_type": "code",
   "execution_count": 25,
   "metadata": {
    "id": "2GVJ16CQ-Az4"
   },
   "outputs": [],
   "source": [
    "result, continuation_token = reviews(\n",
    "    'com.whatsapp',                            # Alamat apps\n",
    "    lang='id',                                 # Bahasa Review , defaults : 'en'\n",
    "    country='id',                              # Negara Asal Reviewer defaults : 'us'\n",
    "    sort=Sort.MOST_RELEVANT,                   # Urutan Review yang diambil , defaults : MOST_RELEVANT\n",
    "    count=1000,                                # Jumlah Review yang diambil, defaults : 100\n",
    "    filter_score_with=None                     # Jumlah Bintang , default: None(means all score)\n",
    ")"
   ]
  },
  {
   "cell_type": "markdown",
   "metadata": {},
   "source": [
    "**Menyimpan Hasil Review dalam DataFrame**"
   ]
  },
  {
   "cell_type": "code",
   "execution_count": 26,
   "metadata": {
    "colab": {
     "base_uri": "https://localhost:8080/",
     "height": 410
    },
    "id": "28ZRK2JyI6k-",
    "outputId": "03daafef-3b7c-4508-af5e-cb1a3539c3b6"
   },
   "outputs": [
    {
     "data": {
      "text/html": [
       "<div>\n",
       "<style scoped>\n",
       "    .dataframe tbody tr th:only-of-type {\n",
       "        vertical-align: middle;\n",
       "    }\n",
       "\n",
       "    .dataframe tbody tr th {\n",
       "        vertical-align: top;\n",
       "    }\n",
       "\n",
       "    .dataframe thead th {\n",
       "        text-align: right;\n",
       "    }\n",
       "</style>\n",
       "<table border=\"1\" class=\"dataframe\">\n",
       "  <thead>\n",
       "    <tr style=\"text-align: right;\">\n",
       "      <th></th>\n",
       "      <th>reviewId</th>\n",
       "      <th>userName</th>\n",
       "      <th>userImage</th>\n",
       "      <th>content</th>\n",
       "      <th>score</th>\n",
       "      <th>thumbsUpCount</th>\n",
       "      <th>reviewCreatedVersion</th>\n",
       "      <th>at</th>\n",
       "      <th>replyContent</th>\n",
       "      <th>repliedAt</th>\n",
       "    </tr>\n",
       "  </thead>\n",
       "  <tbody>\n",
       "    <tr>\n",
       "      <th>0</th>\n",
       "      <td>gp:AOqpTOHdT8zkAHpmkAkiQGYj2p8UXNwHsJFes5v8L5a...</td>\n",
       "      <td>Revina Annisa</td>\n",
       "      <td>https://play-lh.googleusercontent.com/a/AATXAJ...</td>\n",
       "      <td>Jangan liat kebawah dehh!!!!!!!!!!!!!!!!!!!!!!...</td>\n",
       "      <td>5</td>\n",
       "      <td>325</td>\n",
       "      <td>2.21.20.18</td>\n",
       "      <td>2021-10-17 12:27:59</td>\n",
       "      <td>None</td>\n",
       "      <td>None</td>\n",
       "    </tr>\n",
       "    <tr>\n",
       "      <th>1</th>\n",
       "      <td>gp:AOqpTOHGVeosyCBbZEE99j9X-mB929A55Z1DRipAd-A...</td>\n",
       "      <td>Azalea Maharani</td>\n",
       "      <td>https://play-lh.googleusercontent.com/a-/AOh14...</td>\n",
       "      <td>Bagus banget habis di update!!!!!!!!!!!!!!!!!!...</td>\n",
       "      <td>5</td>\n",
       "      <td>293</td>\n",
       "      <td>2.21.20.18</td>\n",
       "      <td>2021-10-16 17:13:06</td>\n",
       "      <td>None</td>\n",
       "      <td>None</td>\n",
       "    </tr>\n",
       "    <tr>\n",
       "      <th>2</th>\n",
       "      <td>gp:AOqpTOHCuEnL3VbAkxyyBJ5whkFYVyUQ9A85zMMcIaT...</td>\n",
       "      <td>Mozza Ozza</td>\n",
       "      <td>https://play-lh.googleusercontent.com/a-/AOh14...</td>\n",
       "      <td>Apknyaa bagus bangett!!!!!!!!!!!!!!!!!!!!!!!!!...</td>\n",
       "      <td>5</td>\n",
       "      <td>245</td>\n",
       "      <td>2.21.20.18</td>\n",
       "      <td>2021-10-17 10:00:49</td>\n",
       "      <td>None</td>\n",
       "      <td>None</td>\n",
       "    </tr>\n",
       "    <tr>\n",
       "      <th>3</th>\n",
       "      <td>gp:AOqpTOFevQ4gXxjt5-Ak3K-wXDdG8PynENtY7TZFXbu...</td>\n",
       "      <td>Kaito Delux</td>\n",
       "      <td>https://play-lh.googleusercontent.com/a/AATXAJ...</td>\n",
       "      <td>Aplikasinya sangat bagus !!!!!!!!!!!!!!!!!!!!!...</td>\n",
       "      <td>4</td>\n",
       "      <td>72</td>\n",
       "      <td>2.21.20.18</td>\n",
       "      <td>2021-10-16 22:02:46</td>\n",
       "      <td>None</td>\n",
       "      <td>None</td>\n",
       "    </tr>\n",
       "    <tr>\n",
       "      <th>4</th>\n",
       "      <td>gp:AOqpTOEnlRYNOipK-pEtD5bsOhzjl9qazz8SiD7z-IT...</td>\n",
       "      <td>Rangga Puza Nurjati</td>\n",
       "      <td>https://play-lh.googleusercontent.com/a/AATXAJ...</td>\n",
       "      <td>!!!!!!!!!!!!!!!!!!!!!!!!!!!!!!!!!!!!!!!!!!!!!!...</td>\n",
       "      <td>5</td>\n",
       "      <td>55</td>\n",
       "      <td>2.21.20.18</td>\n",
       "      <td>2021-10-17 15:27:40</td>\n",
       "      <td>None</td>\n",
       "      <td>None</td>\n",
       "    </tr>\n",
       "  </tbody>\n",
       "</table>\n",
       "</div>"
      ],
      "text/plain": [
       "                                            reviewId             userName  \\\n",
       "0  gp:AOqpTOHdT8zkAHpmkAkiQGYj2p8UXNwHsJFes5v8L5a...        Revina Annisa   \n",
       "1  gp:AOqpTOHGVeosyCBbZEE99j9X-mB929A55Z1DRipAd-A...      Azalea Maharani   \n",
       "2  gp:AOqpTOHCuEnL3VbAkxyyBJ5whkFYVyUQ9A85zMMcIaT...           Mozza Ozza   \n",
       "3  gp:AOqpTOFevQ4gXxjt5-Ak3K-wXDdG8PynENtY7TZFXbu...          Kaito Delux   \n",
       "4  gp:AOqpTOEnlRYNOipK-pEtD5bsOhzjl9qazz8SiD7z-IT...  Rangga Puza Nurjati   \n",
       "\n",
       "                                           userImage  \\\n",
       "0  https://play-lh.googleusercontent.com/a/AATXAJ...   \n",
       "1  https://play-lh.googleusercontent.com/a-/AOh14...   \n",
       "2  https://play-lh.googleusercontent.com/a-/AOh14...   \n",
       "3  https://play-lh.googleusercontent.com/a/AATXAJ...   \n",
       "4  https://play-lh.googleusercontent.com/a/AATXAJ...   \n",
       "\n",
       "                                             content  score  thumbsUpCount  \\\n",
       "0  Jangan liat kebawah dehh!!!!!!!!!!!!!!!!!!!!!!...      5            325   \n",
       "1  Bagus banget habis di update!!!!!!!!!!!!!!!!!!...      5            293   \n",
       "2  Apknyaa bagus bangett!!!!!!!!!!!!!!!!!!!!!!!!!...      5            245   \n",
       "3  Aplikasinya sangat bagus !!!!!!!!!!!!!!!!!!!!!...      4             72   \n",
       "4  !!!!!!!!!!!!!!!!!!!!!!!!!!!!!!!!!!!!!!!!!!!!!!...      5             55   \n",
       "\n",
       "  reviewCreatedVersion                  at replyContent repliedAt  \n",
       "0           2.21.20.18 2021-10-17 12:27:59         None      None  \n",
       "1           2.21.20.18 2021-10-16 17:13:06         None      None  \n",
       "2           2.21.20.18 2021-10-17 10:00:49         None      None  \n",
       "3           2.21.20.18 2021-10-16 22:02:46         None      None  \n",
       "4           2.21.20.18 2021-10-17 15:27:40         None      None  "
      ]
     },
     "execution_count": 26,
     "metadata": {},
     "output_type": "execute_result"
    }
   ],
   "source": [
    "Hasil_Scrapping = pd.DataFrame(result)\n",
    "Hasil_Scrapping.head()"
   ]
  },
  {
   "cell_type": "markdown",
   "metadata": {},
   "source": [
    "**Mengambil Series Data Teks Review**"
   ]
  },
  {
   "cell_type": "code",
   "execution_count": 48,
   "metadata": {
    "colab": {
     "base_uri": "https://localhost:8080/"
    },
    "id": "ycKZ9Fd_zVlk",
    "outputId": "c3674a3c-2f3e-4e7c-aba6-39aa1c2cca32"
   },
   "outputs": [
    {
     "data": {
      "text/plain": [
       "0      jangan liat kebawah dehh udah di bilng jangan ...\n",
       "1      Bagus banget habis di update!!!!!!!!!!!!!!!!!!...\n",
       "2      Apknyaa bagus bangett!!!!!!!!!!!!!!!!!!!!!!!!!...\n",
       "3      Aplikasinya sangat bagus !!!!!!!!!!!!!!!!!!!!!...\n",
       "4      !!!!!!!!!!!!!!!!!!!!!!!!!!!!!!!!!!!!!!!!!!!!!!...\n",
       "                             ...                        \n",
       "995    Teruntuk pihak WhatsApp yg terhormat, saya pen...\n",
       "996    Jamkot trs sinyal bagus padahal , tolong lah p...\n",
       "997    dulu perasaan bagus bagus aja ya?, kenapa seka...\n",
       "998    Tolonglah dibantu, udah berapa kali aku coba v...\n",
       "999    Sekarang WhatsApp saya gak bisa buat ngirim fi...\n",
       "Name: content, Length: 1000, dtype: object"
      ]
     },
     "execution_count": 48,
     "metadata": {},
     "output_type": "execute_result"
    }
   ],
   "source": [
    "teks=Hasil_Scrapping.content\n",
    "teks"
   ]
  },
  {
   "cell_type": "markdown",
   "metadata": {
    "id": "hhcTDo8H21es"
   },
   "source": [
    "## Teks Preprocessing"
   ]
  },
  {
   "cell_type": "markdown",
   "metadata": {},
   "source": [
    "Setelah mendapat data teks. Salah satu tantangan dari data teks adalah bentuknya yang sangat beragam. Sebuah kata dapat ditulis dengan berbagai bentuk. Kemudian juga besar sekali kemungkinan adalah kesalahan penulisan. Tanda baca, angka, dan lain-lain. Oleh sebab itu, sebelum diolah lebih lanjut untuk diproses menjadi data numerik, maka diperlukan pemrosesan data teks agar menjadi bentuk yang lebih bersih dan standar. Yang akan sangat mempengaruhi hasil analisis data teks tersebut. Pada sentimen analisis misalnya, langkah ini menjadi sangat penting. Ada beberapa hal yang dilakukan pada tahap Teks Preprocessing:"
   ]
  },
  {
   "cell_type": "markdown",
   "metadata": {
    "id": "3WGQQ4T98_XI"
   },
   "source": [
    "#### 1. Case Folding & Data Cleaning"
   ]
  },
  {
   "cell_type": "markdown",
   "metadata": {
    "id": "EXYn3PQR8_XJ"
   },
   "source": [
    "Case folding adalah salah satu bentuk text preprocessing yang paling sederhana dan efektif meskipun sering diabaikan. Tujuan dari case folding untuk mengubah semua huruf dalam dokumen menjadi huruf kecil. Hanya huruf ‘a’ sampai ‘z’ yang diterima. Karakter selain huruf dihilangkan dan dianggap delimiter. \n",
    "\n",
    "Ada beberapa cara yang dapat digunakan dalam tahap case folding, diantaranya:\n",
    "* Menghapus tanda baca\n",
    "* Menghapus angka\n",
    "* Mengubah text menjadi lowercase\n",
    "* Menghapus whitepace (karakter kosong)\n"
   ]
  },
  {
   "cell_type": "code",
   "execution_count": 59,
   "metadata": {
    "colab": {
     "base_uri": "https://localhost:8080/",
     "height": 213
    },
    "id": "sJggXB-tNSGY",
    "outputId": "7b44590c-0ba5-49a6-f214-6a432e60ba58"
   },
   "outputs": [
    {
     "name": "stdout",
     "output_type": "stream",
     "text": [
      "hallo selamat siang bsa sy tanya kenapa whatsapp saya blokir sedang saya guna whatsapp resmi dari playstore dan sudah update yang harus aman telah saya baca artikel kena layan tentu whatsapp saya rasa saya tidak langgar apa yang larang oleh whatsapp mohon kerja dengan baik dan bijak karna ini sudah ke kali nomor saya blokir oleh pihak whatsapp tanpa alas\n"
     ]
    },
    {
     "data": {
      "text/plain": [
       "'hallo selamat siang bsa sy tanya kenapa whatsapp saya blokir sedang saya guna whatsapp resmi dari playstore dan sudah update yang harus aman telah saya baca artikel kena layan tentu whatsapp saya rasa saya tidak langgar apa yang larang oleh whatsapp mohon kerja dengan baik dan bijak karna ini sudah ke kali nomor saya blokir oleh pihak whatsapp tanpa alas'"
      ]
     },
     "execution_count": 59,
     "metadata": {},
     "output_type": "execute_result"
    }
   ],
   "source": [
    "# Menghapus tanda baca\n",
    "print(teks[11])\n",
    "teks[11]=re.sub(r'[^\\w]|_',' ', teks[11])\n",
    "teks[11]"
   ]
  },
  {
   "cell_type": "code",
   "execution_count": 51,
   "metadata": {
    "colab": {
     "base_uri": "https://localhost:8080/",
     "height": 301
    },
    "id": "K5FjOAuUN2LM",
    "outputId": "8faf65ca-23ee-4879-8bb5-ef01d8773d44"
   },
   "outputs": [
    {
     "name": "stdout",
     "output_type": "stream",
     "text": [
      "Hallo selamat siang.. Bsa sy bertanya kenapa whatsapp saya diblokir? Sedangkan saya menggunakan whatsapp resmi dari playstore dan sudah update yang seharusnya aman. Setelah saya membaca artikel mengenai layanan ketentuan whatsapp, saya rasa saya tidak melanggar apa yang dilarang oleh whatsapp. Mohon bekerja dengan baik dan bijak, karna ini sudah ke  kalinya nomor saya diblokir oleh pihak whatsapp tanpa alasan.\n"
     ]
    },
    {
     "data": {
      "text/plain": [
       "'Hallo selamat siang.. Bsa sy bertanya kenapa whatsapp saya diblokir? Sedangkan saya menggunakan whatsapp resmi dari playstore dan sudah update yang seharusnya aman. Setelah saya membaca artikel mengenai layanan ketentuan whatsapp, saya rasa saya tidak melanggar apa yang dilarang oleh whatsapp. Mohon bekerja dengan baik dan bijak, karna ini sudah ke  kalinya nomor saya diblokir oleh pihak whatsapp tanpa alasan.'"
      ]
     },
     "execution_count": 51,
     "metadata": {},
     "output_type": "execute_result"
    }
   ],
   "source": [
    "# Menghapus angka\n",
    "print(teks[11])\n",
    "teks[11] = re.sub(\"\\S*\\d\\S*\", \"\", teks[11]).strip()\n",
    "teks[11] = re.sub(r\"\\b\\d+\\b\", \" \", teks[11])\n",
    "teks[11]"
   ]
  },
  {
   "cell_type": "code",
   "execution_count": 53,
   "metadata": {
    "colab": {
     "base_uri": "https://localhost:8080/",
     "height": 213
    },
    "id": "gpbLVAk7MJhw",
    "outputId": "1bdc1a9a-3ea4-4f4a-a739-31693da169be"
   },
   "outputs": [
    {
     "name": "stdout",
     "output_type": "stream",
     "text": [
      "Hallo selamat siang.. Bsa sy bertanya kenapa whatsapp saya diblokir? Sedangkan saya menggunakan whatsapp resmi dari playstore dan sudah update yang seharusnya aman. Setelah saya membaca artikel mengenai layanan ketentuan whatsapp, saya rasa saya tidak melanggar apa yang dilarang oleh whatsapp. Mohon bekerja dengan baik dan bijak, karna ini sudah ke  kalinya nomor saya diblokir oleh pihak whatsapp tanpa alasan.\n"
     ]
    },
    {
     "data": {
      "text/plain": [
       "'hallo selamat siang.. bsa sy bertanya kenapa whatsapp saya diblokir? sedangkan saya menggunakan whatsapp resmi dari playstore dan sudah update yang seharusnya aman. setelah saya membaca artikel mengenai layanan ketentuan whatsapp, saya rasa saya tidak melanggar apa yang dilarang oleh whatsapp. mohon bekerja dengan baik dan bijak, karna ini sudah ke  kalinya nomor saya diblokir oleh pihak whatsapp tanpa alasan.'"
      ]
     },
     "execution_count": 53,
     "metadata": {},
     "output_type": "execute_result"
    }
   ],
   "source": [
    "#Mengubah text menjadi lowercase\n",
    "print(teks[11])\n",
    "\n",
    "teks[11]=teks[11].lower()\n",
    "teks[11]"
   ]
  },
  {
   "cell_type": "code",
   "execution_count": 55,
   "metadata": {
    "colab": {
     "base_uri": "https://localhost:8080/",
     "height": 213
    },
    "id": "rIRfO9AvOIZm",
    "outputId": "b5d2c4f7-f0c1-4bb0-dafd-ae181967985b"
   },
   "outputs": [
    {
     "name": "stdout",
     "output_type": "stream",
     "text": [
      "hallo selamat siang.. bsa sy bertanya kenapa whatsapp saya diblokir? sedangkan saya menggunakan whatsapp resmi dari playstore dan sudah update yang seharusnya aman. setelah saya membaca artikel mengenai layanan ketentuan whatsapp, saya rasa saya tidak melanggar apa yang dilarang oleh whatsapp. mohon bekerja dengan baik dan bijak, karna ini sudah ke kalinya nomor saya diblokir oleh pihak whatsapp tanpa alasan.\n"
     ]
    },
    {
     "data": {
      "text/plain": [
       "'hallo selamat siang.. bsa sy bertanya kenapa whatsapp saya diblokir? sedangkan saya menggunakan whatsapp resmi dari playstore dan sudah update yang seharusnya aman. setelah saya membaca artikel mengenai layanan ketentuan whatsapp, saya rasa saya tidak melanggar apa yang dilarang oleh whatsapp. mohon bekerja dengan baik dan bijak, karna ini sudah ke kalinya nomor saya diblokir oleh pihak whatsapp tanpa alasan.'"
      ]
     },
     "execution_count": 55,
     "metadata": {},
     "output_type": "execute_result"
    }
   ],
   "source": [
    "# Menghapus white space\n",
    "print(teks[11])\n",
    "\n",
    "teks[11]=re.sub('[\\s]+', ' ', teks[11])\n",
    "teks[11]"
   ]
  },
  {
   "cell_type": "markdown",
   "metadata": {
    "id": "K-Fhw3WCw3UQ"
   },
   "source": [
    "Membuat Fungsi untuk Melakukan Case Folding"
   ]
  },
  {
   "cell_type": "code",
   "execution_count": 9,
   "metadata": {
    "id": "7LVwHNFjszPX"
   },
   "outputs": [],
   "source": [
    "import re, string, unicodedata \n",
    "def Case_Folding(text):\n",
    "    # Hapus non-ascii\n",
    "    text = unicodedata.normalize('NFKD', text).encode('ascii', 'ignore').decode('utf-8', 'ignore')\n",
    "    \n",
    "    # Menghapus Tanda Baca\n",
    "    text = re.sub(r'[^\\w]|_',' ', text)\n",
    "    \n",
    "    # Menghapus Angka\n",
    "    text = re.sub(\"\\S*\\d\\S*\", \"\", text).strip()\n",
    "    text = re.sub(r\"\\b\\d+\\b\", \" \", text)\n",
    "    \n",
    "    # Mengubah text menjadi lowercase\n",
    "    text = text.lower()\n",
    "    \n",
    "    # Menghapus white space\n",
    "    text = re.sub('[\\s]+', ' ', text)\n",
    "    \n",
    "    return text"
   ]
  },
  {
   "cell_type": "markdown",
   "metadata": {
    "id": "1hKe7Zdmyhkz"
   },
   "source": [
    "## Lemmatization\n",
    "\n",
    "Proses pengurangan berbagai bentuk kata yang berubah menjadi satu bentuk untuk memudahkan analisis. e.g. kata dari “swim”, “swimming”, “swims”, “swam”, adalah semua bentuk dari “swim”. Nah jadi lemma dari semua kata-kata tersebut adalah “swim”.\n",
    "\n",
    "Untuk data teks berbahasa Indonesia, kita akan menggunakan library `nlp-id`. Pertama kita harus menginstallnya terlebih dahulu."
   ]
  },
  {
   "cell_type": "markdown",
   "metadata": {
    "colab": {
     "base_uri": "https://localhost:8080/"
    },
    "id": "5x0MHDmiyMdm",
    "outputId": "8efdab5e-7619-4f3a-d71a-ae635aec5ee8"
   },
   "source": [
    "``` python\n",
    "!pip install nlp-id    \n",
    "```"
   ]
  },
  {
   "cell_type": "markdown",
   "metadata": {},
   "source": [
    "Kemudian kita akan menggunakan fungsi `Lemmatizer()` untuk melakukan lemmatisasi data teks."
   ]
  },
  {
   "cell_type": "code",
   "execution_count": 58,
   "metadata": {
    "colab": {
     "base_uri": "https://localhost:8080/",
     "height": 196
    },
    "id": "4WiD2Sl6PifY",
    "outputId": "8984c0ff-0d1a-43dc-c84c-c6c8d3ffba3a"
   },
   "outputs": [
    {
     "name": "stdout",
     "output_type": "stream",
     "text": [
      "hallo selamat siang.. bsa sy bertanya kenapa whatsapp saya diblokir? sedangkan saya menggunakan whatsapp resmi dari playstore dan sudah update yang seharusnya aman. setelah saya membaca artikel mengenai layanan ketentuan whatsapp, saya rasa saya tidak melanggar apa yang dilarang oleh whatsapp. mohon bekerja dengan baik dan bijak, karna ini sudah ke kalinya nomor saya diblokir oleh pihak whatsapp tanpa alasan.\n"
     ]
    },
    {
     "data": {
      "text/plain": [
       "'hallo selamat siang bsa sy tanya kenapa whatsapp saya blokir sedang saya guna whatsapp resmi dari playstore dan sudah update yang harus aman telah saya baca artikel kena layan tentu whatsapp saya rasa saya tidak langgar apa yang larang oleh whatsapp mohon kerja dengan baik dan bijak karna ini sudah ke kali nomor saya blokir oleh pihak whatsapp tanpa alas'"
      ]
     },
     "execution_count": 58,
     "metadata": {},
     "output_type": "execute_result"
    }
   ],
   "source": [
    "from nlp_id.lemmatizer import Lemmatizer \n",
    "lemmatizer = Lemmatizer() \n",
    "print(teks[11])\n",
    "teks[11]=lemmatizer.lemmatize(teks[11]) \n",
    "teks[11]"
   ]
  },
  {
   "cell_type": "markdown",
   "metadata": {
    "id": "aZuxFiwR8_XN"
   },
   "source": [
    "## Stemming\n",
    "\n",
    "Stemming merupakan suatu proses untuk menemukan kata dasar dari sebuah kata. Dengan menghilangkan semua imbuhan (affixes) baik yang terdiri dari awalan (prefixes), sisipan (infixes), akhiran (suffixes) dan confixes (kombinasi dari awalan dan akhiran) pada kata turunan. Stemming digunakan untuk mengganti bentuk dari suatu kata menjadi kata dasar dari kata tersebut yang sesuai dengan struktur morfologi Bahasa Indonesia yang baik dan benar. \n",
    "\n",
    "Untuk data teks berbahasa Indonesia, kita akan menggunakan library `PySastrawi`. Pertama kita harus menginstallnya terlebih dahulu."
   ]
  },
  {
   "cell_type": "markdown",
   "metadata": {
    "colab": {
     "base_uri": "https://localhost:8080/"
    },
    "id": "j1fGPeDOztRc",
    "outputId": "e0e7d4b6-b0dd-4e3b-f9eb-1cc0173081db"
   },
   "source": [
    "```python\n",
    "!pip install PySastrawi\n",
    "```"
   ]
  },
  {
   "cell_type": "markdown",
   "metadata": {},
   "source": [
    "Kemudian kita akan menggunakan fungsi `StemmerFactory()` untuk melakukan stemming."
   ]
  },
  {
   "cell_type": "code",
   "execution_count": 61,
   "metadata": {
    "colab": {
     "base_uri": "https://localhost:8080/",
     "height": 196
    },
    "id": "QzbAftDzyXzr",
    "outputId": "f507553b-9247-4237-e82a-5965eee84d24"
   },
   "outputs": [
    {
     "name": "stdout",
     "output_type": "stream",
     "text": [
      "Ini aplikasi sudah bagus ! Bisa nyari nama kontak dengan font yang berbeda tanpa harus memiliki font yang sama,tapi tolong perbaikin bug pas ganti nama kontak, 1.kadang-kadang nama kontaknya gak kesave/gak bisa keganti 2.kadang-kadang kalo re-save nomer kontak \"Edit kontak\" nya gak bisa di buka/bekerja. Itu aja terimakasih ^_________^\n"
     ]
    },
    {
     "data": {
      "text/plain": [
       "'ini aplikasi sudah bagus bisa nyari nama kontak dengan font yang beda tanpa harus milik font yang sama tapi tolong perbaikin bug pas ganti nama kontak 1 kadang nama kontak gak kesave gak bisa ganti 2 kadang kalo re-save nomer kontak edit kontak nya gak bisa di buka kerja itu aja terimakasih'"
      ]
     },
     "execution_count": 61,
     "metadata": {},
     "output_type": "execute_result"
    }
   ],
   "source": [
    "from Sastrawi.Stemmer.StemmerFactory import StemmerFactory\n",
    "\n",
    "# Membuat stemmer\n",
    "factory = StemmerFactory()\n",
    "stemmer = factory.create_stemmer()\n",
    "print(teks[12])\n",
    "\n",
    "teks[12] = stemmer.stem(teks[12])\n",
    "teks[12]"
   ]
  },
  {
   "cell_type": "markdown",
   "metadata": {
    "id": "zON48uZVs6_o"
   },
   "source": [
    "## Slang Words\n",
    "\n",
    "Slang adalah kata-kata yang tidak baku secara bahasa namun sering dipakai oleh pengguna bahasa. Kita perlu melakukan standarisasi untuk slang.\n"
   ]
  },
  {
   "cell_type": "code",
   "execution_count": 12,
   "metadata": {
    "id": "gbyY7GHw0j9r"
   },
   "outputs": [],
   "source": [
    "slang_dictionary = pd.read_csv('https://raw.githubusercontent.com/nikovs/data-science-portfolio/master/topic%20modelling/colloquial-indonesian-lexicon.csv')\n",
    "slang_dict = pd.Series(slang_dictionary['formal'].values,index=slang_dictionary['slang']).to_dict()"
   ]
  },
  {
   "cell_type": "code",
   "execution_count": 13,
   "metadata": {
    "id": "ZOgTQRMd1H_x"
   },
   "outputs": [],
   "source": [
    "def Slangwords(text):\n",
    "    for word in text.split():\n",
    "        if word in slang_dict.keys():\n",
    "            text = text.replace(word, slang_dict[word])\n",
    "    return text"
   ]
  },
  {
   "cell_type": "code",
   "execution_count": 64,
   "metadata": {
    "colab": {
     "base_uri": "https://localhost:8080/",
     "height": 213
    },
    "id": "_TsMUd5M1Ra0",
    "outputId": "7b2a37cf-4e29-4b9a-a316-ca4e01145d95"
   },
   "outputs": [
    {
     "name": "stdout",
     "output_type": "stream",
     "text": [
      "jangan lihat bawah deh sudah di bilang jangan lihat\n"
     ]
    },
    {
     "data": {
      "text/plain": [
       "'jangan lihat bawah deh sudah di bilang jangan lihat'"
      ]
     },
     "execution_count": 64,
     "metadata": {},
     "output_type": "execute_result"
    }
   ],
   "source": [
    "print(teks[0])\n",
    "\n",
    "teks[0]=Slangwords(teks[0]) \n",
    "teks[0]"
   ]
  },
  {
   "cell_type": "markdown",
   "metadata": {
    "id": "gVGt577V8_XS"
   },
   "source": [
    "## Stopword"
   ]
  },
  {
   "cell_type": "markdown",
   "metadata": {
    "id": "3DsIKA3L8_XS"
   },
   "source": [
    "Stop words adalah kata umum (common words) yang biasanya muncul dalam jumlah besar dan dianggap tidak memiliki makna.  Stop words umumnya dimanfaatkan dalam task information retrieval, termasuk oleh Google (penjelasannya di sini).  Contoh stop words untuk bahasa Inggris diantaranya “of”, “the”.  Sedangkan untuk bahasa Indonesia diantaranya “yang”, “di”, “ke”."
   ]
  },
  {
   "cell_type": "code",
   "execution_count": 65,
   "metadata": {
    "id": "NUkzRYcw8_XT"
   },
   "outputs": [],
   "source": [
    "from nlp_id.stopword import StopWord \n",
    "stopword = StopWord() "
   ]
  },
  {
   "cell_type": "code",
   "execution_count": 68,
   "metadata": {
    "colab": {
     "base_uri": "https://localhost:8080/",
     "height": 160
    },
    "id": "VLuAcfbsQApk",
    "outputId": "e6e355fd-ec66-4956-90fa-d2fde0bf3c5b"
   },
   "outputs": [
    {
     "name": "stdout",
     "output_type": "stream",
     "text": [
      "halo selamat siang whatsapp blokir whatsapp resmi playstore update aman baca artikel kena layan whatsapp langgar larang whatsapp mohon kerja bijak nomor blokir whatsapp alas\n"
     ]
    },
    {
     "data": {
      "text/plain": [
       "'halo selamat siang whatsapp blokir whatsapp resmi playstore update aman baca artikel kena layan whatsapp langgar larang whatsapp mohon kerja bijak nomor blokir whatsapp alas'"
      ]
     },
     "execution_count": 68,
     "metadata": {},
     "output_type": "execute_result"
    }
   ],
   "source": [
    "from nlp_id.stopword import StopWord \n",
    "print(teks[11])\n",
    "\n",
    "teks[11]=stopword.remove_stopword(teks[11])\n",
    "teks[11]"
   ]
  },
  {
   "cell_type": "markdown",
   "metadata": {
    "id": "CAlskIRe1eJW"
   },
   "source": [
    "## Unwanted Words"
   ]
  },
  {
   "cell_type": "markdown",
   "metadata": {},
   "source": [
    "Unwanted words adalah kata-kata yang berada di luar beberapa hal di atas namun perlu untuk kita hapus. Kita bisa mendefinisikan sendiri kata-kata atau karakter yang ingin kita hilangkan dari data teks yang kita peroleh."
   ]
  },
  {
   "cell_type": "code",
   "execution_count": 17,
   "metadata": {
    "id": "eaxO9CLL1lk2"
   },
   "outputs": [],
   "source": [
    "unwanted_words = ['sy', 'karna', 'gue', 'pun', 'nya', 'yg', 'gw', 'ke', 'gak', 'ga', 'buat', 'selama', 'akan', 'gua', 'gw', \n",
    "                 'gue', 'dampak', 'tau', 'banget', 'mohon', 'dii', 'kalo', 'dll', 'kadang', 'ya', 'coba', 'langsung',\n",
    "                 'cuman', 'cuma', 'biar', 'an', 'kayak', 'dar', 'bikin', 'ssaja', 'sih', 'si', 'situ', 'e', 'utk', 'pake',\n",
    "                 'diin', 'serba', 'ampun', 'untuj', 'deh', 'jd', 'ku', 'total', 'lg', 'arti', 'terimakasih','and', 'udah',\n",
    "                 'kali', 'dasar', 'tiada', 'indonesia', 'pas', 'tidiak', 'the', 'http', 'co', 'com', 'di', 'https', 'kak',\n",
    "                 'dr', 'aja', 'klo', 'tp', 'gitu', 'udh', 'min', 'halo', 'tidak', 'bisa', 'sudah', 'yg', 'apa', 'malah',\n",
    "                 'masih', 'mau', 'kok', 'belum', 'buat', 'atau', 'sama', 'gak', 'ga', 'udah', 'banyak', 'selalu', 'masuk',\n",
    "                 'atau', 'belum', 'ini', 'tp', 'ke', 'ya', 'itu', 'aja', 'saja', 'juga', 'aplikasi', 'my pertamina',\n",
    "                 'mypertamina', 'maaf', 'gk', 'tdk', 'trus', 'jg', 'nih', 'sdh', 'mulu', 'padahal', 'kenapa', 'gimana',\n",
    "                 'gmn', 'sih', 'bs', 'suruh', 'tolong', 'dah', 'bagus', 'my', 'pertamina', 'jadi', 'kalau', 'engenggakk',\n",
    "                 'engenggak', 'pakai', 'bilang', 'mending', 'hasil', 'orang', 'muncul', 'ssudah', 'kasih', 'mala', 'malah']"
   ]
  },
  {
   "cell_type": "code",
   "execution_count": 18,
   "metadata": {
    "colab": {
     "base_uri": "https://localhost:8080/"
    },
    "id": "PHE5qBrT19iT",
    "outputId": "4e9ee36b-7cf7-45b6-bb64-f085486f86fa"
   },
   "outputs": [
    {
     "name": "stderr",
     "output_type": "stream",
     "text": [
      "[nltk_data] Downloading package punkt to C:\\Users\\Joko\n",
      "[nltk_data]     Eliyanto\\AppData\\Roaming\\nltk_data...\n",
      "[nltk_data]   Package punkt is already up-to-date!\n"
     ]
    }
   ],
   "source": [
    "import nltk\n",
    "from nltk import word_tokenize, sent_tokenize\n",
    "nltk.download('punkt')\n",
    "\n",
    "def RemoveUnwantedwords(text):\n",
    "    word_tokens = word_tokenize(text)\n",
    "    filtered_sentence = [word for word in word_tokens if not word in unwanted_words]\n",
    "    return ' '.join(filtered_sentence)"
   ]
  },
  {
   "cell_type": "code",
   "execution_count": 69,
   "metadata": {
    "colab": {
     "base_uri": "https://localhost:8080/",
     "height": 160
    },
    "id": "fb2bfQjr2H_F",
    "outputId": "0a73829c-45da-465b-dfc6-9caf77e94d14"
   },
   "outputs": [
    {
     "name": "stdout",
     "output_type": "stream",
     "text": [
      "jangan lihat bawah deh sudah di bilang jangan lihat\n"
     ]
    },
    {
     "data": {
      "text/plain": [
       "'jangan lihat bawah jangan lihat'"
      ]
     },
     "execution_count": 69,
     "metadata": {},
     "output_type": "execute_result"
    }
   ],
   "source": [
    "print(teks[0])\n",
    "\n",
    "teks[0]=RemoveUnwantedwords(teks[0])\n",
    "teks[0]"
   ]
  },
  {
   "cell_type": "markdown",
   "metadata": {
    "id": "rLeMXFq25Z7z"
   },
   "source": [
    "## Menerapkan Semua Langkah"
   ]
  },
  {
   "cell_type": "code",
   "execution_count": 70,
   "metadata": {
    "colab": {
     "base_uri": "https://localhost:8080/"
    },
    "id": "6jxqjzry5fHo",
    "outputId": "aa33000c-77a9-4b86-a07d-9613ff9edc71"
   },
   "outputs": [],
   "source": [
    "Hasil_Scrapping['content_processed'] = ''\n",
    "\n",
    "for i, row in Hasil_Scrapping.iterrows():\n",
    "    content = Hasil_Scrapping.content[i]\n",
    "    result = Case_Folding(content)\n",
    "    result = lemmatizer.lemmatize(result)\n",
    "    result = stemmer.stem(result)\n",
    "    result = Slangwords(result)\n",
    "    result = stopword.remove_stopword(result)\n",
    "    result = RemoveUnwantedwords(result)\n",
    "    Hasil_Scrapping['content_processed'][i] = result"
   ]
  },
  {
   "cell_type": "code",
   "execution_count": 71,
   "metadata": {},
   "outputs": [
    {
     "data": {
      "text/html": [
       "<div>\n",
       "<style scoped>\n",
       "    .dataframe tbody tr th:only-of-type {\n",
       "        vertical-align: middle;\n",
       "    }\n",
       "\n",
       "    .dataframe tbody tr th {\n",
       "        vertical-align: top;\n",
       "    }\n",
       "\n",
       "    .dataframe thead th {\n",
       "        text-align: right;\n",
       "    }\n",
       "</style>\n",
       "<table border=\"1\" class=\"dataframe\">\n",
       "  <thead>\n",
       "    <tr style=\"text-align: right;\">\n",
       "      <th></th>\n",
       "      <th>content</th>\n",
       "      <th>content_processed</th>\n",
       "    </tr>\n",
       "  </thead>\n",
       "  <tbody>\n",
       "    <tr>\n",
       "      <th>0</th>\n",
       "      <td>jangan lihat bawah jangan lihat</td>\n",
       "      <td>lihat lihat</td>\n",
       "    </tr>\n",
       "    <tr>\n",
       "      <th>1</th>\n",
       "      <td>Bagus banget habis di update                  ...</td>\n",
       "      <td>habis update lihat</td>\n",
       "    </tr>\n",
       "    <tr>\n",
       "      <th>2</th>\n",
       "      <td>apknyaa bagus bangett dhhh gw bilang bagusss g...</td>\n",
       "      <td>apknyaa dhhh gaushh lihat napaa</td>\n",
       "    </tr>\n",
       "    <tr>\n",
       "      <th>3</th>\n",
       "      <td>Aplikasinya sangat bagus !!!!!!!!!!!!!!!!!!!!!...</td>\n",
       "      <td>komen alay njing</td>\n",
       "    </tr>\n",
       "    <tr>\n",
       "      <th>4</th>\n",
       "      <td>!!!!!!!!!!!!!!!!!!!!!!!!!!!!!!!!!!!!!!!!!!!!!!...</td>\n",
       "      <td></td>\n",
       "    </tr>\n",
       "    <tr>\n",
       "      <th>...</th>\n",
       "      <td>...</td>\n",
       "      <td>...</td>\n",
       "    </tr>\n",
       "    <tr>\n",
       "      <th>995</th>\n",
       "      <td>Teruntuk pihak WhatsApp yg terhormat, saya pen...</td>\n",
       "      <td>whatsapp hormat apk whatsapp knapa malam apk d...</td>\n",
       "    </tr>\n",
       "    <tr>\n",
       "      <th>996</th>\n",
       "      <td>Jamkot trs sinyal bagus padahal , tolong lah p...</td>\n",
       "      <td>jamkot sinyal whatsapp cek eror cepat</td>\n",
       "    </tr>\n",
       "    <tr>\n",
       "      <th>997</th>\n",
       "      <td>dulu perasaan bagus bagus aja ya?, kenapa seka...</td>\n",
       "      <td>bug benerin risih bug</td>\n",
       "    </tr>\n",
       "    <tr>\n",
       "      <th>998</th>\n",
       "      <td>Tolonglah dibantu, udah berapa kali aku coba v...</td>\n",
       "      <td>bantu verifikasi nmor enggak juenggak salah ri...</td>\n",
       "    </tr>\n",
       "    <tr>\n",
       "      <th>999</th>\n",
       "      <td>Sekarang WhatsApp saya gak bisa buat ngirim fi...</td>\n",
       "      <td>whatsapp enggak mengirim file manajer file wha...</td>\n",
       "    </tr>\n",
       "  </tbody>\n",
       "</table>\n",
       "<p>1000 rows × 2 columns</p>\n",
       "</div>"
      ],
      "text/plain": [
       "                                               content  \\\n",
       "0                      jangan lihat bawah jangan lihat   \n",
       "1    Bagus banget habis di update                  ...   \n",
       "2    apknyaa bagus bangett dhhh gw bilang bagusss g...   \n",
       "3    Aplikasinya sangat bagus !!!!!!!!!!!!!!!!!!!!!...   \n",
       "4    !!!!!!!!!!!!!!!!!!!!!!!!!!!!!!!!!!!!!!!!!!!!!!...   \n",
       "..                                                 ...   \n",
       "995  Teruntuk pihak WhatsApp yg terhormat, saya pen...   \n",
       "996  Jamkot trs sinyal bagus padahal , tolong lah p...   \n",
       "997  dulu perasaan bagus bagus aja ya?, kenapa seka...   \n",
       "998  Tolonglah dibantu, udah berapa kali aku coba v...   \n",
       "999  Sekarang WhatsApp saya gak bisa buat ngirim fi...   \n",
       "\n",
       "                                     content_processed  \n",
       "0                                          lihat lihat  \n",
       "1                                   habis update lihat  \n",
       "2                      apknyaa dhhh gaushh lihat napaa  \n",
       "3                                     komen alay njing  \n",
       "4                                                       \n",
       "..                                                 ...  \n",
       "995  whatsapp hormat apk whatsapp knapa malam apk d...  \n",
       "996              jamkot sinyal whatsapp cek eror cepat  \n",
       "997                              bug benerin risih bug  \n",
       "998  bantu verifikasi nmor enggak juenggak salah ri...  \n",
       "999  whatsapp enggak mengirim file manajer file wha...  \n",
       "\n",
       "[1000 rows x 2 columns]"
      ]
     },
     "execution_count": 71,
     "metadata": {},
     "output_type": "execute_result"
    }
   ],
   "source": [
    "Hasil_Scrapping[['content', 'content_processed']]"
   ]
  }
 ],
 "metadata": {
  "colab": {
   "collapsed_sections": [],
   "name": "Week_6_Data_Text_Preprocessing.ipynb",
   "provenance": [],
   "toc_visible": true
  },
  "kernelspec": {
   "display_name": "Python 3",
   "language": "python",
   "name": "python3"
  },
  "language_info": {
   "codemirror_mode": {
    "name": "ipython",
    "version": 3
   },
   "file_extension": ".py",
   "mimetype": "text/x-python",
   "name": "python",
   "nbconvert_exporter": "python",
   "pygments_lexer": "ipython3",
   "version": "3.8.5"
  }
 },
 "nbformat": 4,
 "nbformat_minor": 5
}
